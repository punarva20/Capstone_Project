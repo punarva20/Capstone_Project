{
 "cells": [
  {
   "cell_type": "markdown",
   "metadata": {},
   "source": [
    "## Capstone Project "
   ]
  },
  {
   "cell_type": "markdown",
   "metadata": {},
   "source": [
    "##### We created our repo on git hub, uploaded data sets in our git hub rep of project_analysis_booking_com\n",
    "##### We have successfully loaded our data sets for analysis, first data set is booking_hotel.csv\n",
    "##### and second is trip advisor.csv\n",
    "##### rename our data set to df_booking_hotel, second one df_trip_advisor"
   ]
  },
  {
   "cell_type": "code",
   "execution_count": 70,
   "metadata": {},
   "outputs": [],
   "source": [
    "#import\n",
    "import pandas as pd\n",
    "import numpy as np\n",
    "import matplotlib as pyplot\n",
    "import seaborn as sns"
   ]
  },
  {
   "cell_type": "markdown",
   "metadata": {},
   "source": [
    "## Import data"
   ]
  },
  {
   "cell_type": "code",
   "execution_count": 71,
   "metadata": {},
   "outputs": [],
   "source": [
    "#errors were for line 8,13,15,27 (skipped while running the error)\n",
    "#try:\n",
    "   #df = pd.read_csv('data/tripadvisor_room.csv', error_bad_lines=False)\n",
    "#except pd.errors.ParserError as e:\n",
    "    #print(f\"ParserError: {e}\")\n",
    "    "
   ]
  },
  {
   "cell_type": "code",
   "execution_count": 72,
   "metadata": {},
   "outputs": [],
   "source": [
    "\n",
    "df_tripadvisor_room = pd.read_csv('data/tripadvisor_room.csv')"
   ]
  },
  {
   "cell_type": "code",
   "execution_count": 73,
   "metadata": {},
   "outputs": [
    {
     "data": {
      "text/html": [
       "<div>\n",
       "<style scoped>\n",
       "    .dataframe tbody tr th:only-of-type {\n",
       "        vertical-align: middle;\n",
       "    }\n",
       "\n",
       "    .dataframe tbody tr th {\n",
       "        vertical-align: top;\n",
       "    }\n",
       "\n",
       "    .dataframe thead th {\n",
       "        text-align: right;\n",
       "    }\n",
       "</style>\n",
       "<table border=\"1\" class=\"dataframe\">\n",
       "  <thead>\n",
       "    <tr style=\"text-align: right;\">\n",
       "      <th></th>\n",
       "      <th>property name</th>\n",
       "      <th>Room Price (in BDT or any other currency)</th>\n",
       "      <th>review_count</th>\n",
       "      <th>Comment about room</th>\n",
       "    </tr>\n",
       "  </thead>\n",
       "  <tbody>\n",
       "    <tr>\n",
       "      <th>0</th>\n",
       "      <td>1. SALA Samui Choengmon Beach Resort</td>\n",
       "      <td>�45,854</td>\n",
       "      <td>2,820</td>\n",
       "      <td>The breakfast is excellent, the pools are real...</td>\n",
       "    </tr>\n",
       "    <tr>\n",
       "      <th>1</th>\n",
       "      <td>2. Napasai A Belmond Hotel Koh Samui\"</td>\n",
       "      <td>�29,666</td>\n",
       "      <td>1,191</td>\n",
       "      <td>We a had perfect view at the beach,</td>\n",
       "    </tr>\n",
       "    <tr>\n",
       "      <th>2</th>\n",
       "      <td>3. Pimalai Resort and Spa</td>\n",
       "      <td>�31,667</td>\n",
       "      <td>3,287</td>\n",
       "      <td>It has everything</td>\n",
       "    </tr>\n",
       "    <tr>\n",
       "      <th>3</th>\n",
       "      <td>4. Avani+ Mai Khao Phuket Suites &amp; Villas</td>\n",
       "      <td>�23,887</td>\n",
       "      <td>144</td>\n",
       "      <td>the villa was very                            ...</td>\n",
       "    </tr>\n",
       "    <tr>\n",
       "      <th>4</th>\n",
       "      <td>5. Sheraton Samui Resort</td>\n",
       "      <td>�18,816</td>\n",
       "      <td>1,006</td>\n",
       "      <td>Me &amp; my wife stayed there for 3 Nights and we ...</td>\n",
       "    </tr>\n",
       "  </tbody>\n",
       "</table>\n",
       "</div>"
      ],
      "text/plain": [
       "                              property name   \\\n",
       "0       1. SALA Samui Choengmon Beach Resort   \n",
       "1      2. Napasai A Belmond Hotel Koh Samui\"   \n",
       "2                  3. Pimalai Resort and Spa   \n",
       "3  4. Avani+ Mai Khao Phuket Suites & Villas   \n",
       "4                   5. Sheraton Samui Resort   \n",
       "\n",
       "  Room Price (in BDT or any other currency) review_count  \\\n",
       "0                                   �45,854        2,820   \n",
       "1                                   �29,666        1,191   \n",
       "2                                   �31,667        3,287   \n",
       "3                                   �23,887          144   \n",
       "4                                   �18,816        1,006   \n",
       "\n",
       "                                  Comment about room  \n",
       "0  The breakfast is excellent, the pools are real...  \n",
       "1                We a had perfect view at the beach,  \n",
       "2                                  It has everything  \n",
       "3  the villa was very                            ...  \n",
       "4  Me & my wife stayed there for 3 Nights and we ...  "
      ]
     },
     "execution_count": 73,
     "metadata": {},
     "output_type": "execute_result"
    }
   ],
   "source": [
    "df_tripadvisor_room.head()"
   ]
  },
  {
   "cell_type": "code",
   "execution_count": 74,
   "metadata": {},
   "outputs": [
    {
     "data": {
      "text/html": [
       "<div>\n",
       "<style scoped>\n",
       "    .dataframe tbody tr th:only-of-type {\n",
       "        vertical-align: middle;\n",
       "    }\n",
       "\n",
       "    .dataframe tbody tr th {\n",
       "        vertical-align: top;\n",
       "    }\n",
       "\n",
       "    .dataframe thead th {\n",
       "        text-align: right;\n",
       "    }\n",
       "</style>\n",
       "<table border=\"1\" class=\"dataframe\">\n",
       "  <thead>\n",
       "    <tr style=\"text-align: right;\">\n",
       "      <th></th>\n",
       "      <th>property name</th>\n",
       "      <th>Room Price (in BDT or any other currency)</th>\n",
       "      <th>review_count</th>\n",
       "      <th>Comment about room</th>\n",
       "    </tr>\n",
       "  </thead>\n",
       "  <tbody>\n",
       "    <tr>\n",
       "      <th>4472</th>\n",
       "      <td>Irantis Villa</td>\n",
       "      <td>NaN</td>\n",
       "      <td>0</td>\n",
       "      <td>NaN</td>\n",
       "    </tr>\n",
       "    <tr>\n",
       "      <th>4473</th>\n",
       "      <td>DHH - Al Tajer</td>\n",
       "      <td>NaN</td>\n",
       "      <td>0</td>\n",
       "      <td>NaN</td>\n",
       "    </tr>\n",
       "    <tr>\n",
       "      <th>4474</th>\n",
       "      <td>Shaibani Building</td>\n",
       "      <td>NaN</td>\n",
       "      <td>0</td>\n",
       "      <td>NaN</td>\n",
       "    </tr>\n",
       "    <tr>\n",
       "      <th>4475</th>\n",
       "      <td>Koh - Botanica</td>\n",
       "      <td>NaN</td>\n",
       "      <td>0</td>\n",
       "      <td>NaN</td>\n",
       "    </tr>\n",
       "    <tr>\n",
       "      <th>4476</th>\n",
       "      <td>HiGuests - Park View Tower</td>\n",
       "      <td>NaN</td>\n",
       "      <td>0</td>\n",
       "      <td>NaN</td>\n",
       "    </tr>\n",
       "  </tbody>\n",
       "</table>\n",
       "</div>"
      ],
      "text/plain": [
       "                  property name  Room Price (in BDT or any other currency)  \\\n",
       "4472               Irantis Villa                                       NaN   \n",
       "4473              DHH - Al Tajer                                       NaN   \n",
       "4474           Shaibani Building                                       NaN   \n",
       "4475              Koh - Botanica                                       NaN   \n",
       "4476  HiGuests - Park View Tower                                       NaN   \n",
       "\n",
       "     review_count Comment about room  \n",
       "4472            0                NaN  \n",
       "4473            0                NaN  \n",
       "4474            0                NaN  \n",
       "4475            0                NaN  \n",
       "4476            0                NaN  "
      ]
     },
     "execution_count": 74,
     "metadata": {},
     "output_type": "execute_result"
    }
   ],
   "source": [
    "df_tripadvisor_room.tail()"
   ]
  },
  {
   "cell_type": "code",
   "execution_count": 75,
   "metadata": {},
   "outputs": [
    {
     "name": "stdout",
     "output_type": "stream",
     "text": [
      "<class 'pandas.core.frame.DataFrame'>\n",
      "RangeIndex: 4477 entries, 0 to 4476\n",
      "Data columns (total 4 columns):\n",
      " #   Column                                     Non-Null Count  Dtype \n",
      "---  ------                                     --------------  ----- \n",
      " 0   property name                              4477 non-null   object\n",
      " 1   Room Price (in BDT or any other currency)  3131 non-null   object\n",
      " 2   review_count                               4477 non-null   object\n",
      " 3   Comment about room                         3473 non-null   object\n",
      "dtypes: object(4)\n",
      "memory usage: 140.0+ KB\n"
     ]
    }
   ],
   "source": [
    "df_tripadvisor_room.info()"
   ]
  },
  {
   "cell_type": "code",
   "execution_count": 76,
   "metadata": {},
   "outputs": [
    {
     "data": {
      "text/plain": [
       "property name                                   0\n",
       "Room Price (in BDT or any other currency)    1346\n",
       "review_count                                    0\n",
       "Comment about room                           1004\n",
       "dtype: int64"
      ]
     },
     "execution_count": 76,
     "metadata": {},
     "output_type": "execute_result"
    }
   ],
   "source": [
    "#checking for null values in all columns\n",
    "df_tripadvisor_room.isnull().sum()"
   ]
  },
  {
   "cell_type": "markdown",
   "metadata": {},
   "source": [
    "### DATA CLEANING"
   ]
  },
  {
   "cell_type": "code",
   "execution_count": 77,
   "metadata": {},
   "outputs": [],
   "source": [
    "#lowercase for column names and add '_' between each word \n",
    "df_tripadvisor_room.columns = df_tripadvisor_room.columns.str.lower().str.replace(' ', '_')"
   ]
  },
  {
   "cell_type": "code",
   "execution_count": 78,
   "metadata": {},
   "outputs": [
    {
     "data": {
      "text/plain": [
       "Index(['property_name_', 'room_price_(in_bdt_or_any_other_currency)',\n",
       "       'review_count', 'comment_about_room'],\n",
       "      dtype='object')"
      ]
     },
     "execution_count": 78,
     "metadata": {},
     "output_type": "execute_result"
    }
   ],
   "source": [
    "df_tripadvisor_room.columns"
   ]
  },
  {
   "cell_type": "code",
   "execution_count": 79,
   "metadata": {},
   "outputs": [],
   "source": [
    "# rename column names\n",
    "df_tripadvisor_room.rename(columns={'property_name_': 'property_name','comment_about_room':'room_reviews'},inplace = True)"
   ]
  },
  {
   "cell_type": "code",
   "execution_count": 80,
   "metadata": {},
   "outputs": [
    {
     "data": {
      "text/plain": [
       "Index(['property_name', 'room_price_(in_bdt_or_any_other_currency)',\n",
       "       'review_count', 'room_reviews'],\n",
       "      dtype='object')"
      ]
     },
     "execution_count": 80,
     "metadata": {},
     "output_type": "execute_result"
    }
   ],
   "source": [
    "df_tripadvisor_room.columns"
   ]
  },
  {
   "cell_type": "code",
   "execution_count": 81,
   "metadata": {},
   "outputs": [],
   "source": [
    "#removing numbers before property_name\n",
    "df_tripadvisor_room['property_name'] = df_tripadvisor_room['property_name'].str.lstrip('0123456789.  ')"
   ]
  },
  {
   "cell_type": "code",
   "execution_count": 82,
   "metadata": {},
   "outputs": [],
   "source": [
    "#removing special characters before and after property name\n",
    "df_tripadvisor_room['property_name'] = df_tripadvisor_room['property_name'].str.removesuffix('\"').str.removeprefix('\"').str.replace('�','')\n",
    "\n",
    "#justification of columns\n",
    "df_tripadvisor_room['property_name'] = df_tripadvisor_room['property_name'].str.ljust(50)\n",
    "\n",
    "# convert to title case\n",
    "df_tripadvisor_room['property_name'] = df_tripadvisor_room['property_name'].str.title()"
   ]
  },
  {
   "cell_type": "code",
   "execution_count": 83,
   "metadata": {},
   "outputs": [
    {
     "data": {
      "text/plain": [
       "4338"
      ]
     },
     "execution_count": 83,
     "metadata": {},
     "output_type": "execute_result"
    }
   ],
   "source": [
    "# unique hotel name\n",
    "df_tripadvisor_room['property_name'].nunique()"
   ]
  },
  {
   "cell_type": "code",
   "execution_count": 84,
   "metadata": {},
   "outputs": [
    {
     "data": {
      "text/html": [
       "<div>\n",
       "<style scoped>\n",
       "    .dataframe tbody tr th:only-of-type {\n",
       "        vertical-align: middle;\n",
       "    }\n",
       "\n",
       "    .dataframe tbody tr th {\n",
       "        vertical-align: top;\n",
       "    }\n",
       "\n",
       "    .dataframe thead th {\n",
       "        text-align: right;\n",
       "    }\n",
       "</style>\n",
       "<table border=\"1\" class=\"dataframe\">\n",
       "  <thead>\n",
       "    <tr style=\"text-align: right;\">\n",
       "      <th></th>\n",
       "      <th>property_name</th>\n",
       "      <th>room_price_(in_bdt_or_any_other_currency)</th>\n",
       "      <th>review_count</th>\n",
       "      <th>room_reviews</th>\n",
       "    </tr>\n",
       "  </thead>\n",
       "  <tbody>\n",
       "    <tr>\n",
       "      <th>0</th>\n",
       "      <td>Sala Samui Choengmon Beach Resort             ...</td>\n",
       "      <td>�45,854</td>\n",
       "      <td>2,820</td>\n",
       "      <td>The breakfast is excellent, the pools are real...</td>\n",
       "    </tr>\n",
       "    <tr>\n",
       "      <th>1</th>\n",
       "      <td>Napasai A Belmond Hotel Koh Samui             ...</td>\n",
       "      <td>�29,666</td>\n",
       "      <td>1,191</td>\n",
       "      <td>We a had perfect view at the beach,</td>\n",
       "    </tr>\n",
       "    <tr>\n",
       "      <th>2</th>\n",
       "      <td>Pimalai Resort And Spa                        ...</td>\n",
       "      <td>�31,667</td>\n",
       "      <td>3,287</td>\n",
       "      <td>It has everything</td>\n",
       "    </tr>\n",
       "    <tr>\n",
       "      <th>3</th>\n",
       "      <td>Avani+ Mai Khao Phuket Suites &amp; Villas        ...</td>\n",
       "      <td>�23,887</td>\n",
       "      <td>144</td>\n",
       "      <td>the villa was very                            ...</td>\n",
       "    </tr>\n",
       "    <tr>\n",
       "      <th>4</th>\n",
       "      <td>Sheraton Samui Resort                         ...</td>\n",
       "      <td>�18,816</td>\n",
       "      <td>1,006</td>\n",
       "      <td>Me &amp; my wife stayed there for 3 Nights and we ...</td>\n",
       "    </tr>\n",
       "  </tbody>\n",
       "</table>\n",
       "</div>"
      ],
      "text/plain": [
       "                                       property_name  \\\n",
       "0  Sala Samui Choengmon Beach Resort             ...   \n",
       "1  Napasai A Belmond Hotel Koh Samui             ...   \n",
       "2  Pimalai Resort And Spa                        ...   \n",
       "3  Avani+ Mai Khao Phuket Suites & Villas        ...   \n",
       "4  Sheraton Samui Resort                         ...   \n",
       "\n",
       "  room_price_(in_bdt_or_any_other_currency) review_count  \\\n",
       "0                                   �45,854        2,820   \n",
       "1                                   �29,666        1,191   \n",
       "2                                   �31,667        3,287   \n",
       "3                                   �23,887          144   \n",
       "4                                   �18,816        1,006   \n",
       "\n",
       "                                        room_reviews  \n",
       "0  The breakfast is excellent, the pools are real...  \n",
       "1                We a had perfect view at the beach,  \n",
       "2                                  It has everything  \n",
       "3  the villa was very                            ...  \n",
       "4  Me & my wife stayed there for 3 Nights and we ...  "
      ]
     },
     "execution_count": 84,
     "metadata": {},
     "output_type": "execute_result"
    }
   ],
   "source": [
    "df_tripadvisor_room.head()"
   ]
  },
  {
   "cell_type": "code",
   "execution_count": 85,
   "metadata": {},
   "outputs": [
    {
     "data": {
      "text/plain": [
       "0    Sala Samui Choengmon Beach Resort             ...\n",
       "1    Napasai A Belmond Hotel Koh Samui             ...\n",
       "2    Pimalai Resort And Spa                        ...\n",
       "3    Avani+ Mai Khao Phuket Suites & Villas        ...\n",
       "4    Sheraton Samui Resort                         ...\n",
       "5    Sala Samui Chaweng Beach Resort               ...\n",
       "6    Phuket Marriott Resort And Spa Nai Yang Beach ...\n",
       "7    Centara Reserve Samui                         ...\n",
       "8    W Koh Samui                                   ...\n",
       "9    Melia Koh Samui                               ...\n",
       "Name: property_name, dtype: object"
      ]
     },
     "execution_count": 85,
     "metadata": {},
     "output_type": "execute_result"
    }
   ],
   "source": [
    "df_tripadvisor_room['property_name'].head(10)"
   ]
  },
  {
   "cell_type": "code",
   "execution_count": 86,
   "metadata": {},
   "outputs": [],
   "source": [
    "##replace('�','')\n",
    "df_tripadvisor_room['room_price_(in_bdt_or_any_other_currency)'] = df_tripadvisor_room['room_price_(in_bdt_or_any_other_currency)'].str.replace('�','')"
   ]
  },
  {
   "cell_type": "code",
   "execution_count": 87,
   "metadata": {},
   "outputs": [],
   "source": [
    "# replace('�','\"')\n",
    "df_tripadvisor_room['room_reviews'] = df_tripadvisor_room['room_reviews'].str.replace('�','').str.replace('\"','').str.replace('.', '',regex=True)\n",
    "\n",
    "#reviews in lower case & justification\n",
    "df_tripadvisor_room['room_reviews'] = df_tripadvisor_room['room_reviews'].str.lower().str.ljust(60)"
   ]
  },
  {
   "cell_type": "code",
   "execution_count": 88,
   "metadata": {},
   "outputs": [],
   "source": [
    "df_tripadvisor_room['room_reviews']= df_tripadvisor_room['room_reviews'].fillna('0')"
   ]
  },
  {
   "cell_type": "code",
   "execution_count": 89,
   "metadata": {},
   "outputs": [
    {
     "data": {
      "text/plain": [
       "0     the breakfast is excellent, the pools are real...\n",
       "1     we a had perfect view at the beach,           ...\n",
       "2     it has everything                             ...\n",
       "3     the villa was very                            ...\n",
       "4     me & my wife stayed there for 3 nights and we ...\n",
       "5     if you prefer private room with nice view go w...\n",
       "6     the hotel is near the airport the service was ...\n",
       "7     good food                                     ...\n",
       "8     the room are very beautiful and comfortable, t...\n",
       "9      so fantastic and we enjoy our stayed at melia...\n",
       "10    grateful for the staff for putting together th...\n",
       "11    i stay at holiday ao nang resert second time i...\n",
       "12     one of the greatest moments of our little gir...\n",
       "13    hong island, amazing view from the pool, good ...\n",
       "14    this hotel is fabulous, staff were all super  ...\n",
       "15    its such an amazing place;                    ...\n",
       "16    facilities is perfect staff they are very frie...\n",
       "17    private and peaceful beach always clean thank ...\n",
       "18    pool the only one in koh samui                ...\n",
       "19    (mareeya and all team) and very sweet ladies a...\n",
       "20    kimpton the new resort at samui               ...\n",
       "21    avani + khao lak is private location and the b...\n",
       "22    delicious; drinks - yummy; pools - relaxing; h...\n",
       "23    and perfectly clean                           ...\n",
       "24    comfortable with a good sized balcony         ...\n",
       "25    this hotel has a fresh feeling to it: enthusia...\n",
       "26    facilities where fabulous                     ...\n",
       "27     recommend to anybody wanting to escape theyre...\n",
       "28    love everything of this hotel their facilities...\n",
       "29     calm and relaxing atmosphere, nice beach area...\n",
       "Name: room_reviews, dtype: object"
      ]
     },
     "execution_count": 89,
     "metadata": {},
     "output_type": "execute_result"
    }
   ],
   "source": [
    "df_tripadvisor_room['room_reviews'].head(30)"
   ]
  },
  {
   "cell_type": "code",
   "execution_count": 90,
   "metadata": {},
   "outputs": [
    {
     "data": {
      "text/html": [
       "<div>\n",
       "<style scoped>\n",
       "    .dataframe tbody tr th:only-of-type {\n",
       "        vertical-align: middle;\n",
       "    }\n",
       "\n",
       "    .dataframe tbody tr th {\n",
       "        vertical-align: top;\n",
       "    }\n",
       "\n",
       "    .dataframe thead th {\n",
       "        text-align: right;\n",
       "    }\n",
       "</style>\n",
       "<table border=\"1\" class=\"dataframe\">\n",
       "  <thead>\n",
       "    <tr style=\"text-align: right;\">\n",
       "      <th></th>\n",
       "      <th>property_name</th>\n",
       "      <th>room_price_(in_bdt_or_any_other_currency)</th>\n",
       "      <th>review_count</th>\n",
       "      <th>room_reviews</th>\n",
       "    </tr>\n",
       "  </thead>\n",
       "  <tbody>\n",
       "    <tr>\n",
       "      <th>count</th>\n",
       "      <td>4477</td>\n",
       "      <td>3131</td>\n",
       "      <td>4477</td>\n",
       "      <td>4477</td>\n",
       "    </tr>\n",
       "    <tr>\n",
       "      <th>unique</th>\n",
       "      <td>4338</td>\n",
       "      <td>2051</td>\n",
       "      <td>1612</td>\n",
       "      <td>2822</td>\n",
       "    </tr>\n",
       "    <tr>\n",
       "      <th>top</th>\n",
       "      <td>Hilton Dubai Palm Jumeirah                    ...</td>\n",
       "      <td>View all 5 deals</td>\n",
       "      <td>0</td>\n",
       "      <td>0</td>\n",
       "    </tr>\n",
       "    <tr>\n",
       "      <th>freq</th>\n",
       "      <td>10</td>\n",
       "      <td>493</td>\n",
       "      <td>415</td>\n",
       "      <td>1004</td>\n",
       "    </tr>\n",
       "  </tbody>\n",
       "</table>\n",
       "</div>"
      ],
      "text/plain": [
       "                                            property_name  \\\n",
       "count                                                4477   \n",
       "unique                                               4338   \n",
       "top     Hilton Dubai Palm Jumeirah                    ...   \n",
       "freq                                                   10   \n",
       "\n",
       "       room_price_(in_bdt_or_any_other_currency) review_count room_reviews  \n",
       "count                                       3131         4477         4477  \n",
       "unique                                      2051         1612         2822  \n",
       "top                             View all 5 deals            0            0  \n",
       "freq                                         493          415         1004  "
      ]
     },
     "execution_count": 90,
     "metadata": {},
     "output_type": "execute_result"
    }
   ],
   "source": [
    "df_tripadvisor_room.describe(include = 'object')"
   ]
  },
  {
   "cell_type": "code",
   "execution_count": 91,
   "metadata": {},
   "outputs": [
    {
     "data": {
      "text/html": [
       "<div>\n",
       "<style scoped>\n",
       "    .dataframe tbody tr th:only-of-type {\n",
       "        vertical-align: middle;\n",
       "    }\n",
       "\n",
       "    .dataframe tbody tr th {\n",
       "        vertical-align: top;\n",
       "    }\n",
       "\n",
       "    .dataframe thead th {\n",
       "        text-align: right;\n",
       "    }\n",
       "</style>\n",
       "<table border=\"1\" class=\"dataframe\">\n",
       "  <thead>\n",
       "    <tr style=\"text-align: right;\">\n",
       "      <th></th>\n",
       "      <th>room_reviews</th>\n",
       "      <th>property_name</th>\n",
       "    </tr>\n",
       "    <tr>\n",
       "      <th>review_count</th>\n",
       "      <th></th>\n",
       "      <th></th>\n",
       "    </tr>\n",
       "  </thead>\n",
       "  <tbody>\n",
       "    <tr>\n",
       "      <th>0</th>\n",
       "      <td>415</td>\n",
       "      <td>415</td>\n",
       "    </tr>\n",
       "  </tbody>\n",
       "</table>\n",
       "</div>"
      ],
      "text/plain": [
       "              room_reviews  property_name\n",
       "review_count                             \n",
       "0                      415            415"
      ]
     },
     "execution_count": 91,
     "metadata": {},
     "output_type": "execute_result"
    }
   ],
   "source": [
    "df_tripadvisor_room[df_tripadvisor_room['review_count']=='0'].groupby('review_count')[['room_reviews', 'property_name']].count()"
   ]
  },
  {
   "cell_type": "code",
   "execution_count": 92,
   "metadata": {},
   "outputs": [],
   "source": [
    "#df_tripadvisor_room[df_tripadvisor_room['review_count'].isnull()].groupby('review_count')[['room_reviews', 'property_name']].count()"
   ]
  },
  {
   "cell_type": "code",
   "execution_count": 93,
   "metadata": {},
   "outputs": [],
   "source": [
    "#df_tripadvisor_room[(df_tripadvisor_room['room_reviews']=='x')].groupby('property_name')[['room_reviews']].count()"
   ]
  },
  {
   "cell_type": "code",
   "execution_count": 94,
   "metadata": {},
   "outputs": [],
   "source": [
    "#df_tripadvisor_room['room_price_(in_bdt_or_any_other_currency)'].fillna('y', inplace=True)"
   ]
  },
  {
   "cell_type": "code",
   "execution_count": 95,
   "metadata": {},
   "outputs": [],
   "source": [
    "# # Exclude rows with NaN or 0 values in 'review_count'\n",
    "# filtered_df = df_tripadvisor_room[(df_tripadvisor_room['review_count'].notna()) & (df_tripadvisor_room['review_count'] != '0')]\n",
    "# filtered_df"
   ]
  },
  {
   "cell_type": "code",
   "execution_count": 96,
   "metadata": {},
   "outputs": [],
   "source": [
    "#  Exclude rows with NaN or 0 values in 'review_count' and 'room_price' columns\n",
    "# filtered_df2 = df_tripadvisor_room[\n",
    "#     (df_tripadvisor_room['review_count'].notna()) & \n",
    "#     (df_tripadvisor_room['review_count'] != '0') & \n",
    "#     (df_tripadvisor_room['room_price_(in_bdt_or_any_other_currency)']!='y') & \n",
    "#     (df_tripadvisor_room['room_price_(in_bdt_or_any_other_currency)'] != '0')\n",
    "# ]\n"
   ]
  },
  {
   "cell_type": "code",
   "execution_count": 97,
   "metadata": {},
   "outputs": [],
   "source": [
    "#df_tripadvisor_room[df_tripadvisor_room['room_price_(in_bdt_or_any_other_currency)']=='y'].groupby('property_name')[['room_price_(in_bdt_or_any_other_currency)']].count()"
   ]
  },
  {
   "cell_type": "markdown",
   "metadata": {},
   "source": [
    "## CHANGE DATA TYPES"
   ]
  },
  {
   "cell_type": "code",
   "execution_count": 98,
   "metadata": {},
   "outputs": [],
   "source": [
    "# convert string to numeric\n",
    "# replace ',' wth ''\n",
    "df_tripadvisor_room['review_count'] = df_tripadvisor_room['review_count'].str.replace(',', '').str.replace('1 review', '1')\n",
    "\n",
    "df_tripadvisor_room['room_price_(in_bdt_or_any_other_currency)'] = df_tripadvisor_room['room_price_(in_bdt_or_any_other_currency)'].str.replace(',', '')\n"
   ]
  },
  {
   "cell_type": "code",
   "execution_count": 99,
   "metadata": {},
   "outputs": [
    {
     "data": {
      "text/plain": [
       "4072      2\n",
       "4073      8\n",
       "4074      1\n",
       "4075      1\n",
       "4076      1\n",
       "4077      1\n",
       "4078      1\n",
       "4079      1\n",
       "4080      1\n",
       "4081      0\n",
       "4082    477\n",
       "4083     86\n",
       "4084      1\n",
       "4085      1\n",
       "4086      1\n",
       "4087      1\n",
       "4088      1\n",
       "4089      3\n",
       "4090      1\n",
       "4091      3\n",
       "4092      1\n",
       "4093      1\n",
       "4094      3\n",
       "4095      3\n",
       "4096      2\n",
       "4097      1\n",
       "4098      1\n",
       "4099      1\n",
       "4100      2\n",
       "4101      2\n",
       "4102    106\n",
       "4103      4\n",
       "4104      7\n",
       "4105      6\n",
       "4106      1\n",
       "4107      2\n",
       "4108     18\n",
       "4109      1\n",
       "Name: review_count, dtype: object"
      ]
     },
     "execution_count": 99,
     "metadata": {},
     "output_type": "execute_result"
    }
   ],
   "source": [
    "# check for changes made\n",
    "df_tripadvisor_room['review_count'][4072:4110]"
   ]
  },
  {
   "cell_type": "code",
   "execution_count": 100,
   "metadata": {},
   "outputs": [],
   "source": [
    "#change to int\n",
    "df_tripadvisor_room['review_count'] = pd.to_numeric (df_tripadvisor_room['review_count'])"
   ]
  },
  {
   "cell_type": "code",
   "execution_count": 101,
   "metadata": {},
   "outputs": [],
   "source": [
    "df_tripadvisor_room['room_price_(in_bdt_or_any_other_currency)']=df_tripadvisor_room['room_price_(in_bdt_or_any_other_currency)'].str.extract(r'(\\d+\\.\\d+|\\d+)')"
   ]
  },
  {
   "cell_type": "code",
   "execution_count": 102,
   "metadata": {},
   "outputs": [
    {
     "data": {
      "text/plain": [
       "0    45854\n",
       "1    29666\n",
       "2    31667\n",
       "3    23887\n",
       "4    18816\n",
       "Name: room_price_(in_bdt_or_any_other_currency), dtype: object"
      ]
     },
     "execution_count": 102,
     "metadata": {},
     "output_type": "execute_result"
    }
   ],
   "source": [
    "df_tripadvisor_room['room_price_(in_bdt_or_any_other_currency)'].head()"
   ]
  },
  {
   "cell_type": "code",
   "execution_count": 103,
   "metadata": {},
   "outputs": [],
   "source": [
    "df_tripadvisor_room['room_price_(in_bdt_or_any_other_currency)'].fillna('0', inplace=True)"
   ]
  },
  {
   "cell_type": "code",
   "execution_count": 104,
   "metadata": {},
   "outputs": [],
   "source": [
    "# change to float \n",
    "df_tripadvisor_room['room_price_(in_bdt_or_any_other_currency)'] = pd.to_numeric(df_tripadvisor_room['room_price_(in_bdt_or_any_other_currency)'].astype(int))"
   ]
  },
  {
   "cell_type": "code",
   "execution_count": 105,
   "metadata": {},
   "outputs": [
    {
     "data": {
      "text/plain": [
       "0    45854\n",
       "1    29666\n",
       "2    31667\n",
       "3    23887\n",
       "4    18816\n",
       "Name: room_price_(in_bdt_or_any_other_currency), dtype: int64"
      ]
     },
     "execution_count": 105,
     "metadata": {},
     "output_type": "execute_result"
    }
   ],
   "source": [
    "df_tripadvisor_room['room_price_(in_bdt_or_any_other_currency)'].head()"
   ]
  },
  {
   "cell_type": "code",
   "execution_count": 106,
   "metadata": {},
   "outputs": [],
   "source": [
    "df_tripadvisor_room['room_price_(in_bdt_or_any_other_currency)'] = df_tripadvisor_room['room_price_(in_bdt_or_any_other_currency)']*0.0091"
   ]
  },
  {
   "cell_type": "code",
   "execution_count": 107,
   "metadata": {},
   "outputs": [
    {
     "data": {
      "text/plain": [
       "400    24.6064\n",
       "401    72.1812\n",
       "402    75.6028\n",
       "403    67.9315\n",
       "404    17.2081\n",
       "405    11.2385\n",
       "406    75.0022\n",
       "407    16.1889\n",
       "408    38.0926\n",
       "409    68.6413\n",
       "410    47.9479\n",
       "411    21.3395\n",
       "Name: room_price_(in_bdt_or_any_other_currency), dtype: float64"
      ]
     },
     "execution_count": 107,
     "metadata": {},
     "output_type": "execute_result"
    }
   ],
   "source": [
    "df_tripadvisor_room['room_price_(in_bdt_or_any_other_currency)'][400:412]"
   ]
  },
  {
   "cell_type": "code",
   "execution_count": 108,
   "metadata": {},
   "outputs": [
    {
     "data": {
      "text/html": [
       "<div>\n",
       "<style scoped>\n",
       "    .dataframe tbody tr th:only-of-type {\n",
       "        vertical-align: middle;\n",
       "    }\n",
       "\n",
       "    .dataframe tbody tr th {\n",
       "        vertical-align: top;\n",
       "    }\n",
       "\n",
       "    .dataframe thead th {\n",
       "        text-align: right;\n",
       "    }\n",
       "</style>\n",
       "<table border=\"1\" class=\"dataframe\">\n",
       "  <thead>\n",
       "    <tr style=\"text-align: right;\">\n",
       "      <th></th>\n",
       "      <th>property_name</th>\n",
       "      <th>room_price_(in_bdt_or_any_other_currency)</th>\n",
       "      <th>review_count</th>\n",
       "      <th>room_reviews</th>\n",
       "    </tr>\n",
       "  </thead>\n",
       "  <tbody>\n",
       "    <tr>\n",
       "      <th>4472</th>\n",
       "      <td>Irantis Villa                                 ...</td>\n",
       "      <td>0.0</td>\n",
       "      <td>0</td>\n",
       "      <td>0</td>\n",
       "    </tr>\n",
       "    <tr>\n",
       "      <th>4473</th>\n",
       "      <td>Dhh - Al Tajer                                ...</td>\n",
       "      <td>0.0</td>\n",
       "      <td>0</td>\n",
       "      <td>0</td>\n",
       "    </tr>\n",
       "    <tr>\n",
       "      <th>4474</th>\n",
       "      <td>Shaibani Building                             ...</td>\n",
       "      <td>0.0</td>\n",
       "      <td>0</td>\n",
       "      <td>0</td>\n",
       "    </tr>\n",
       "    <tr>\n",
       "      <th>4475</th>\n",
       "      <td>Koh - Botanica                                ...</td>\n",
       "      <td>0.0</td>\n",
       "      <td>0</td>\n",
       "      <td>0</td>\n",
       "    </tr>\n",
       "    <tr>\n",
       "      <th>4476</th>\n",
       "      <td>Higuests - Park View Tower                    ...</td>\n",
       "      <td>0.0</td>\n",
       "      <td>0</td>\n",
       "      <td>0</td>\n",
       "    </tr>\n",
       "  </tbody>\n",
       "</table>\n",
       "</div>"
      ],
      "text/plain": [
       "                                          property_name  \\\n",
       "4472  Irantis Villa                                 ...   \n",
       "4473  Dhh - Al Tajer                                ...   \n",
       "4474  Shaibani Building                             ...   \n",
       "4475  Koh - Botanica                                ...   \n",
       "4476  Higuests - Park View Tower                    ...   \n",
       "\n",
       "      room_price_(in_bdt_or_any_other_currency)  review_count room_reviews  \n",
       "4472                                        0.0             0            0  \n",
       "4473                                        0.0             0            0  \n",
       "4474                                        0.0             0            0  \n",
       "4475                                        0.0             0            0  \n",
       "4476                                        0.0             0            0  "
      ]
     },
     "execution_count": 108,
     "metadata": {},
     "output_type": "execute_result"
    }
   ],
   "source": [
    "df_tripadvisor_room.tail()"
   ]
  },
  {
   "cell_type": "code",
   "execution_count": 109,
   "metadata": {},
   "outputs": [
    {
     "data": {
      "text/html": [
       "<div>\n",
       "<style scoped>\n",
       "    .dataframe tbody tr th:only-of-type {\n",
       "        vertical-align: middle;\n",
       "    }\n",
       "\n",
       "    .dataframe tbody tr th {\n",
       "        vertical-align: top;\n",
       "    }\n",
       "\n",
       "    .dataframe thead th {\n",
       "        text-align: right;\n",
       "    }\n",
       "</style>\n",
       "<table border=\"1\" class=\"dataframe\">\n",
       "  <thead>\n",
       "    <tr style=\"text-align: right;\">\n",
       "      <th></th>\n",
       "      <th>property_name</th>\n",
       "      <th>room_price_(in_bdt_or_any_other_currency)</th>\n",
       "      <th>review_count</th>\n",
       "      <th>room_reviews</th>\n",
       "    </tr>\n",
       "  </thead>\n",
       "  <tbody>\n",
       "    <tr>\n",
       "      <th>2575</th>\n",
       "      <td>Hotel Saint Germain Des Pres                  ...</td>\n",
       "      <td>0.0000</td>\n",
       "      <td>399</td>\n",
       "      <td>0</td>\n",
       "    </tr>\n",
       "    <tr>\n",
       "      <th>2576</th>\n",
       "      <td>Hotel Apolonia Mouffetard                     ...</td>\n",
       "      <td>0.0455</td>\n",
       "      <td>809</td>\n",
       "      <td>room upgrade                                  ...</td>\n",
       "    </tr>\n",
       "    <tr>\n",
       "      <th>2577</th>\n",
       "      <td>H Paris Marais Hotel                          ...</td>\n",
       "      <td>0.0455</td>\n",
       "      <td>363</td>\n",
       "      <td>0</td>\n",
       "    </tr>\n",
       "    <tr>\n",
       "      <th>2578</th>\n",
       "      <td>District Republique                           ...</td>\n",
       "      <td>0.0455</td>\n",
       "      <td>237</td>\n",
       "      <td>0</td>\n",
       "    </tr>\n",
       "    <tr>\n",
       "      <th>2579</th>\n",
       "      <td>L'Ouest Hotel                                 ...</td>\n",
       "      <td>0.0364</td>\n",
       "      <td>388</td>\n",
       "      <td>clean and modern room                         ...</td>\n",
       "    </tr>\n",
       "    <tr>\n",
       "      <th>2580</th>\n",
       "      <td>Hotel Opera                                   ...</td>\n",
       "      <td>0.0546</td>\n",
       "      <td>990</td>\n",
       "      <td>great spacious room                           ...</td>\n",
       "    </tr>\n",
       "    <tr>\n",
       "      <th>2581</th>\n",
       "      <td>Hotel Diva Opera                              ...</td>\n",
       "      <td>0.0455</td>\n",
       "      <td>435</td>\n",
       "      <td>room was large                                ...</td>\n",
       "    </tr>\n",
       "    <tr>\n",
       "      <th>2582</th>\n",
       "      <td>Hotel Verlaine                                ...</td>\n",
       "      <td>0.0364</td>\n",
       "      <td>163</td>\n",
       "      <td>0</td>\n",
       "    </tr>\n",
       "    <tr>\n",
       "      <th>2583</th>\n",
       "      <td>Hotel Fontaines Du Luxembourg                 ...</td>\n",
       "      <td>0.0546</td>\n",
       "      <td>445</td>\n",
       "      <td>room was surprisingly large                   ...</td>\n",
       "    </tr>\n",
       "    <tr>\n",
       "      <th>2584</th>\n",
       "      <td>Best Western Quartier Latin Pantheon          ...</td>\n",
       "      <td>0.0455</td>\n",
       "      <td>426</td>\n",
       "      <td>room clean                                    ...</td>\n",
       "    </tr>\n",
       "    <tr>\n",
       "      <th>2585</th>\n",
       "      <td>Hotel Ibis Styles Paris 15 Lecourbe           ...</td>\n",
       "      <td>0.0546</td>\n",
       "      <td>765</td>\n",
       "      <td>included in our room rate                     ...</td>\n",
       "    </tr>\n",
       "    <tr>\n",
       "      <th>2586</th>\n",
       "      <td>Touring Hotel                                 ...</td>\n",
       "      <td>0.0455</td>\n",
       "      <td>663</td>\n",
       "      <td>large room and bathroom                       ...</td>\n",
       "    </tr>\n",
       "    <tr>\n",
       "      <th>2587</th>\n",
       "      <td>Hotel Campanile Paris Bercy Village           ...</td>\n",
       "      <td>0.0455</td>\n",
       "      <td>1613</td>\n",
       "      <td>room was clean                                ...</td>\n",
       "    </tr>\n",
       "    <tr>\n",
       "      <th>2588</th>\n",
       "      <td>Holiday Inn Paris - Montmartre, An Ihg Hotel  ...</td>\n",
       "      <td>0.0546</td>\n",
       "      <td>501</td>\n",
       "      <td>comfortable room                              ...</td>\n",
       "    </tr>\n",
       "    <tr>\n",
       "      <th>2589</th>\n",
       "      <td>Holiday Inn Paris - Auteuil, An Ihg Hotel     ...</td>\n",
       "      <td>0.0546</td>\n",
       "      <td>367</td>\n",
       "      <td>room was clean and comfortable                ...</td>\n",
       "    </tr>\n",
       "    <tr>\n",
       "      <th>2590</th>\n",
       "      <td>Pullman Paris Eiffel Tower Hotel              ...</td>\n",
       "      <td>0.0455</td>\n",
       "      <td>3856</td>\n",
       "      <td>great room with                               ...</td>\n",
       "    </tr>\n",
       "    <tr>\n",
       "      <th>2591</th>\n",
       "      <td>Citadines Opera Paris                         ...</td>\n",
       "      <td>0.0546</td>\n",
       "      <td>326</td>\n",
       "      <td>room spacious                                 ...</td>\n",
       "    </tr>\n",
       "    <tr>\n",
       "      <th>2592</th>\n",
       "      <td>Hotel Beige                                   ...</td>\n",
       "      <td>0.0546</td>\n",
       "      <td>607</td>\n",
       "      <td>room was exceptionally clean                  ...</td>\n",
       "    </tr>\n",
       "    <tr>\n",
       "      <th>2593</th>\n",
       "      <td>Mercure Paris Montparnasse Raspail            ...</td>\n",
       "      <td>0.0455</td>\n",
       "      <td>1184</td>\n",
       "      <td>clean room and                                ...</td>\n",
       "    </tr>\n",
       "    <tr>\n",
       "      <th>2594</th>\n",
       "      <td>Hotel Aida Marais                             ...</td>\n",
       "      <td>0.0455</td>\n",
       "      <td>1414</td>\n",
       "      <td>clean room                                    ...</td>\n",
       "    </tr>\n",
       "    <tr>\n",
       "      <th>2595</th>\n",
       "      <td>Hotel Victoria Chatelet                       ...</td>\n",
       "      <td>0.0364</td>\n",
       "      <td>289</td>\n",
       "      <td>0</td>\n",
       "    </tr>\n",
       "    <tr>\n",
       "      <th>2596</th>\n",
       "      <td>Hotel Arc De Triomphe                         ...</td>\n",
       "      <td>0.0455</td>\n",
       "      <td>290</td>\n",
       "      <td>room was clean                                ...</td>\n",
       "    </tr>\n",
       "    <tr>\n",
       "      <th>2597</th>\n",
       "      <td>Hotel Ariane Montparnasse                     ...</td>\n",
       "      <td>0.0455</td>\n",
       "      <td>642</td>\n",
       "      <td>clean room and bathroom                       ...</td>\n",
       "    </tr>\n",
       "    <tr>\n",
       "      <th>2598</th>\n",
       "      <td>Mercure Paris Bastille Marais                 ...</td>\n",
       "      <td>0.0546</td>\n",
       "      <td>756</td>\n",
       "      <td>room was clean                                ...</td>\n",
       "    </tr>\n",
       "    <tr>\n",
       "      <th>2599</th>\n",
       "      <td>Raspail Montparnasse Hotel                    ...</td>\n",
       "      <td>0.0546</td>\n",
       "      <td>303</td>\n",
       "      <td>great room                                    ...</td>\n",
       "    </tr>\n",
       "  </tbody>\n",
       "</table>\n",
       "</div>"
      ],
      "text/plain": [
       "                                          property_name  \\\n",
       "2575  Hotel Saint Germain Des Pres                  ...   \n",
       "2576  Hotel Apolonia Mouffetard                     ...   \n",
       "2577  H Paris Marais Hotel                          ...   \n",
       "2578  District Republique                           ...   \n",
       "2579  L'Ouest Hotel                                 ...   \n",
       "2580  Hotel Opera                                   ...   \n",
       "2581  Hotel Diva Opera                              ...   \n",
       "2582  Hotel Verlaine                                ...   \n",
       "2583  Hotel Fontaines Du Luxembourg                 ...   \n",
       "2584  Best Western Quartier Latin Pantheon          ...   \n",
       "2585  Hotel Ibis Styles Paris 15 Lecourbe           ...   \n",
       "2586  Touring Hotel                                 ...   \n",
       "2587  Hotel Campanile Paris Bercy Village           ...   \n",
       "2588  Holiday Inn Paris - Montmartre, An Ihg Hotel  ...   \n",
       "2589  Holiday Inn Paris - Auteuil, An Ihg Hotel     ...   \n",
       "2590  Pullman Paris Eiffel Tower Hotel              ...   \n",
       "2591  Citadines Opera Paris                         ...   \n",
       "2592  Hotel Beige                                   ...   \n",
       "2593  Mercure Paris Montparnasse Raspail            ...   \n",
       "2594  Hotel Aida Marais                             ...   \n",
       "2595  Hotel Victoria Chatelet                       ...   \n",
       "2596  Hotel Arc De Triomphe                         ...   \n",
       "2597  Hotel Ariane Montparnasse                     ...   \n",
       "2598  Mercure Paris Bastille Marais                 ...   \n",
       "2599  Raspail Montparnasse Hotel                    ...   \n",
       "\n",
       "      room_price_(in_bdt_or_any_other_currency)  review_count  \\\n",
       "2575                                     0.0000           399   \n",
       "2576                                     0.0455           809   \n",
       "2577                                     0.0455           363   \n",
       "2578                                     0.0455           237   \n",
       "2579                                     0.0364           388   \n",
       "2580                                     0.0546           990   \n",
       "2581                                     0.0455           435   \n",
       "2582                                     0.0364           163   \n",
       "2583                                     0.0546           445   \n",
       "2584                                     0.0455           426   \n",
       "2585                                     0.0546           765   \n",
       "2586                                     0.0455           663   \n",
       "2587                                     0.0455          1613   \n",
       "2588                                     0.0546           501   \n",
       "2589                                     0.0546           367   \n",
       "2590                                     0.0455          3856   \n",
       "2591                                     0.0546           326   \n",
       "2592                                     0.0546           607   \n",
       "2593                                     0.0455          1184   \n",
       "2594                                     0.0455          1414   \n",
       "2595                                     0.0364           289   \n",
       "2596                                     0.0455           290   \n",
       "2597                                     0.0455           642   \n",
       "2598                                     0.0546           756   \n",
       "2599                                     0.0546           303   \n",
       "\n",
       "                                           room_reviews  \n",
       "2575                                                  0  \n",
       "2576  room upgrade                                  ...  \n",
       "2577                                                  0  \n",
       "2578                                                  0  \n",
       "2579  clean and modern room                         ...  \n",
       "2580  great spacious room                           ...  \n",
       "2581  room was large                                ...  \n",
       "2582                                                  0  \n",
       "2583  room was surprisingly large                   ...  \n",
       "2584  room clean                                    ...  \n",
       "2585  included in our room rate                     ...  \n",
       "2586  large room and bathroom                       ...  \n",
       "2587  room was clean                                ...  \n",
       "2588  comfortable room                              ...  \n",
       "2589  room was clean and comfortable                ...  \n",
       "2590  great room with                               ...  \n",
       "2591  room spacious                                 ...  \n",
       "2592  room was exceptionally clean                  ...  \n",
       "2593  clean room and                                ...  \n",
       "2594  clean room                                    ...  \n",
       "2595                                                  0  \n",
       "2596  room was clean                                ...  \n",
       "2597  clean room and bathroom                       ...  \n",
       "2598  room was clean                                ...  \n",
       "2599  great room                                    ...  "
      ]
     },
     "execution_count": 109,
     "metadata": {},
     "output_type": "execute_result"
    }
   ],
   "source": [
    "df_tripadvisor_room[2575:2600]"
   ]
  },
  {
   "cell_type": "code",
   "execution_count": 110,
   "metadata": {},
   "outputs": [
    {
     "data": {
      "text/html": [
       "<div>\n",
       "<style scoped>\n",
       "    .dataframe tbody tr th:only-of-type {\n",
       "        vertical-align: middle;\n",
       "    }\n",
       "\n",
       "    .dataframe tbody tr th {\n",
       "        vertical-align: top;\n",
       "    }\n",
       "\n",
       "    .dataframe thead th {\n",
       "        text-align: right;\n",
       "    }\n",
       "</style>\n",
       "<table border=\"1\" class=\"dataframe\">\n",
       "  <thead>\n",
       "    <tr style=\"text-align: right;\">\n",
       "      <th></th>\n",
       "      <th>property_name</th>\n",
       "      <th>room_price_(in_bdt_or_any_other_currency)</th>\n",
       "      <th>review_count</th>\n",
       "      <th>room_reviews</th>\n",
       "    </tr>\n",
       "  </thead>\n",
       "  <tbody>\n",
       "    <tr>\n",
       "      <th>0</th>\n",
       "      <td>Sala Samui Choengmon Beach Resort             ...</td>\n",
       "      <td>417.2714</td>\n",
       "      <td>2820</td>\n",
       "      <td>the breakfast is excellent, the pools are real...</td>\n",
       "    </tr>\n",
       "    <tr>\n",
       "      <th>1</th>\n",
       "      <td>Napasai A Belmond Hotel Koh Samui             ...</td>\n",
       "      <td>269.9606</td>\n",
       "      <td>1191</td>\n",
       "      <td>we a had perfect view at the beach,           ...</td>\n",
       "    </tr>\n",
       "    <tr>\n",
       "      <th>2</th>\n",
       "      <td>Pimalai Resort And Spa                        ...</td>\n",
       "      <td>288.1697</td>\n",
       "      <td>3287</td>\n",
       "      <td>it has everything                             ...</td>\n",
       "    </tr>\n",
       "    <tr>\n",
       "      <th>3</th>\n",
       "      <td>Avani+ Mai Khao Phuket Suites &amp; Villas        ...</td>\n",
       "      <td>217.3717</td>\n",
       "      <td>144</td>\n",
       "      <td>the villa was very                            ...</td>\n",
       "    </tr>\n",
       "    <tr>\n",
       "      <th>4</th>\n",
       "      <td>Sheraton Samui Resort                         ...</td>\n",
       "      <td>171.2256</td>\n",
       "      <td>1006</td>\n",
       "      <td>me &amp; my wife stayed there for 3 nights and we ...</td>\n",
       "    </tr>\n",
       "  </tbody>\n",
       "</table>\n",
       "</div>"
      ],
      "text/plain": [
       "                                       property_name  \\\n",
       "0  Sala Samui Choengmon Beach Resort             ...   \n",
       "1  Napasai A Belmond Hotel Koh Samui             ...   \n",
       "2  Pimalai Resort And Spa                        ...   \n",
       "3  Avani+ Mai Khao Phuket Suites & Villas        ...   \n",
       "4  Sheraton Samui Resort                         ...   \n",
       "\n",
       "   room_price_(in_bdt_or_any_other_currency)  review_count  \\\n",
       "0                                   417.2714          2820   \n",
       "1                                   269.9606          1191   \n",
       "2                                   288.1697          3287   \n",
       "3                                   217.3717           144   \n",
       "4                                   171.2256          1006   \n",
       "\n",
       "                                        room_reviews  \n",
       "0  the breakfast is excellent, the pools are real...  \n",
       "1  we a had perfect view at the beach,           ...  \n",
       "2  it has everything                             ...  \n",
       "3  the villa was very                            ...  \n",
       "4  me & my wife stayed there for 3 nights and we ...  "
      ]
     },
     "execution_count": 110,
     "metadata": {},
     "output_type": "execute_result"
    }
   ],
   "source": [
    "df_tripadvisor_room.head()"
   ]
  },
  {
   "cell_type": "code",
   "execution_count": 111,
   "metadata": {},
   "outputs": [
    {
     "name": "stdout",
     "output_type": "stream",
     "text": [
      "<class 'pandas.core.frame.DataFrame'>\n",
      "RangeIndex: 4477 entries, 0 to 4476\n",
      "Data columns (total 4 columns):\n",
      " #   Column                                     Non-Null Count  Dtype  \n",
      "---  ------                                     --------------  -----  \n",
      " 0   property_name                              4477 non-null   object \n",
      " 1   room_price_(in_bdt_or_any_other_currency)  4477 non-null   float64\n",
      " 2   review_count                               4477 non-null   int64  \n",
      " 3   room_reviews                               4477 non-null   object \n",
      "dtypes: float64(1), int64(1), object(2)\n",
      "memory usage: 140.0+ KB\n"
     ]
    }
   ],
   "source": [
    "# check data types\n",
    "df_tripadvisor_room.info()"
   ]
  },
  {
   "cell_type": "code",
   "execution_count": 112,
   "metadata": {},
   "outputs": [
    {
     "data": {
      "text/plain": [
       "False    4414\n",
       "True       63\n",
       "dtype: int64"
      ]
     },
     "execution_count": 112,
     "metadata": {},
     "output_type": "execute_result"
    }
   ],
   "source": [
    "# check duplicates\n",
    "df_tripadvisor_room.duplicated(keep='first').value_counts()"
   ]
  },
  {
   "cell_type": "code",
   "execution_count": 113,
   "metadata": {},
   "outputs": [],
   "source": [
    "#drop duplicates\n",
    "df_tripadvisor_room.drop_duplicates(inplace=True)"
   ]
  },
  {
   "cell_type": "code",
   "execution_count": 114,
   "metadata": {},
   "outputs": [
    {
     "data": {
      "text/plain": [
       "(4414, 4)"
      ]
     },
     "execution_count": 114,
     "metadata": {},
     "output_type": "execute_result"
    }
   ],
   "source": [
    "df_tripadvisor_room.shape"
   ]
  },
  {
   "cell_type": "code",
   "execution_count": 115,
   "metadata": {},
   "outputs": [
    {
     "data": {
      "text/html": [
       "<div>\n",
       "<style scoped>\n",
       "    .dataframe tbody tr th:only-of-type {\n",
       "        vertical-align: middle;\n",
       "    }\n",
       "\n",
       "    .dataframe tbody tr th {\n",
       "        vertical-align: top;\n",
       "    }\n",
       "\n",
       "    .dataframe thead th {\n",
       "        text-align: right;\n",
       "    }\n",
       "</style>\n",
       "<table border=\"1\" class=\"dataframe\">\n",
       "  <thead>\n",
       "    <tr style=\"text-align: right;\">\n",
       "      <th></th>\n",
       "      <th>room_price_(in_bdt_or_any_other_currency)</th>\n",
       "      <th>review_count</th>\n",
       "    </tr>\n",
       "  </thead>\n",
       "  <tbody>\n",
       "    <tr>\n",
       "      <th>count</th>\n",
       "      <td>4414.000000</td>\n",
       "      <td>4414.000000</td>\n",
       "    </tr>\n",
       "    <tr>\n",
       "      <th>mean</th>\n",
       "      <td>72.509709</td>\n",
       "      <td>718.687812</td>\n",
       "    </tr>\n",
       "    <tr>\n",
       "      <th>std</th>\n",
       "      <td>193.002547</td>\n",
       "      <td>1271.072338</td>\n",
       "    </tr>\n",
       "    <tr>\n",
       "      <th>min</th>\n",
       "      <td>0.000000</td>\n",
       "      <td>0.000000</td>\n",
       "    </tr>\n",
       "    <tr>\n",
       "      <th>25%</th>\n",
       "      <td>0.000000</td>\n",
       "      <td>59.000000</td>\n",
       "    </tr>\n",
       "    <tr>\n",
       "      <th>50%</th>\n",
       "      <td>0.054600</td>\n",
       "      <td>277.000000</td>\n",
       "    </tr>\n",
       "    <tr>\n",
       "      <th>75%</th>\n",
       "      <td>69.066725</td>\n",
       "      <td>808.000000</td>\n",
       "    </tr>\n",
       "    <tr>\n",
       "      <th>max</th>\n",
       "      <td>4078.720100</td>\n",
       "      <td>14124.000000</td>\n",
       "    </tr>\n",
       "  </tbody>\n",
       "</table>\n",
       "</div>"
      ],
      "text/plain": [
       "       room_price_(in_bdt_or_any_other_currency)  review_count\n",
       "count                                4414.000000   4414.000000\n",
       "mean                                   72.509709    718.687812\n",
       "std                                   193.002547   1271.072338\n",
       "min                                     0.000000      0.000000\n",
       "25%                                     0.000000     59.000000\n",
       "50%                                     0.054600    277.000000\n",
       "75%                                    69.066725    808.000000\n",
       "max                                  4078.720100  14124.000000"
      ]
     },
     "execution_count": 115,
     "metadata": {},
     "output_type": "execute_result"
    }
   ],
   "source": [
    "df_tripadvisor_room.describe()"
   ]
  },
  {
   "cell_type": "code",
   "execution_count": 116,
   "metadata": {},
   "outputs": [
    {
     "data": {
      "text/html": [
       "<div>\n",
       "<style scoped>\n",
       "    .dataframe tbody tr th:only-of-type {\n",
       "        vertical-align: middle;\n",
       "    }\n",
       "\n",
       "    .dataframe tbody tr th {\n",
       "        vertical-align: top;\n",
       "    }\n",
       "\n",
       "    .dataframe thead th {\n",
       "        text-align: right;\n",
       "    }\n",
       "</style>\n",
       "<table border=\"1\" class=\"dataframe\">\n",
       "  <thead>\n",
       "    <tr style=\"text-align: right;\">\n",
       "      <th></th>\n",
       "      <th>property_name</th>\n",
       "      <th>room_reviews</th>\n",
       "    </tr>\n",
       "  </thead>\n",
       "  <tbody>\n",
       "    <tr>\n",
       "      <th>count</th>\n",
       "      <td>4414</td>\n",
       "      <td>4414</td>\n",
       "    </tr>\n",
       "    <tr>\n",
       "      <th>unique</th>\n",
       "      <td>4338</td>\n",
       "      <td>2822</td>\n",
       "    </tr>\n",
       "    <tr>\n",
       "      <th>top</th>\n",
       "      <td>Hilton Dubai Jumeirah                         ...</td>\n",
       "      <td>0</td>\n",
       "    </tr>\n",
       "    <tr>\n",
       "      <th>freq</th>\n",
       "      <td>6</td>\n",
       "      <td>996</td>\n",
       "    </tr>\n",
       "  </tbody>\n",
       "</table>\n",
       "</div>"
      ],
      "text/plain": [
       "                                            property_name room_reviews\n",
       "count                                                4414         4414\n",
       "unique                                               4338         2822\n",
       "top     Hilton Dubai Jumeirah                         ...            0\n",
       "freq                                                    6          996"
      ]
     },
     "execution_count": 116,
     "metadata": {},
     "output_type": "execute_result"
    }
   ],
   "source": [
    "df_tripadvisor_room.describe(include='object')"
   ]
  },
  {
   "cell_type": "code",
   "execution_count": 117,
   "metadata": {},
   "outputs": [
    {
     "data": {
      "text/plain": [
       "4338"
      ]
     },
     "execution_count": 117,
     "metadata": {},
     "output_type": "execute_result"
    }
   ],
   "source": [
    "# Unique property names\n",
    "df_tripadvisor_room['property_name'].nunique()"
   ]
  },
  {
   "cell_type": "code",
   "execution_count": 118,
   "metadata": {},
   "outputs": [],
   "source": [
    "#RENAME COLUMN NAMES\n",
    "df_tripadvisor_room.rename(columns={'room_price_(in_bdt_or_any_other_currency)': 'room_price(USD)', 'property_name': 'hotel_name'},inplace = True)"
   ]
  },
  {
   "cell_type": "code",
   "execution_count": 119,
   "metadata": {},
   "outputs": [
    {
     "data": {
      "text/plain": [
       "Index(['hotel_name', 'room_price(USD)', 'review_count', 'room_reviews'], dtype='object')"
      ]
     },
     "execution_count": 119,
     "metadata": {},
     "output_type": "execute_result"
    }
   ],
   "source": [
    "#chk for column names\n",
    "df_tripadvisor_room.columns"
   ]
  },
  {
   "cell_type": "code",
   "execution_count": 120,
   "metadata": {},
   "outputs": [
    {
     "data": {
      "text/html": [
       "<div>\n",
       "<style scoped>\n",
       "    .dataframe tbody tr th:only-of-type {\n",
       "        vertical-align: middle;\n",
       "    }\n",
       "\n",
       "    .dataframe tbody tr th {\n",
       "        vertical-align: top;\n",
       "    }\n",
       "\n",
       "    .dataframe thead th {\n",
       "        text-align: right;\n",
       "    }\n",
       "</style>\n",
       "<table border=\"1\" class=\"dataframe\">\n",
       "  <thead>\n",
       "    <tr style=\"text-align: right;\">\n",
       "      <th></th>\n",
       "      <th>hotel_name</th>\n",
       "      <th>room_price(USD)</th>\n",
       "      <th>review_count</th>\n",
       "      <th>room_reviews</th>\n",
       "    </tr>\n",
       "  </thead>\n",
       "  <tbody>\n",
       "    <tr>\n",
       "      <th>4273</th>\n",
       "      <td>Al Rousha Hotel Apartments                    ...</td>\n",
       "      <td>0.0</td>\n",
       "      <td>0</td>\n",
       "      <td>0</td>\n",
       "    </tr>\n",
       "    <tr>\n",
       "      <th>4274</th>\n",
       "      <td>Wider View - Jumeirah Beach Residence - Sadaf ...</td>\n",
       "      <td>0.0</td>\n",
       "      <td>0</td>\n",
       "      <td>0</td>\n",
       "    </tr>\n",
       "    <tr>\n",
       "      <th>4275</th>\n",
       "      <td>Luxury Bedspaces For Ladies In Deira          ...</td>\n",
       "      <td>0.0</td>\n",
       "      <td>0</td>\n",
       "      <td>0</td>\n",
       "    </tr>\n",
       "    <tr>\n",
       "      <th>4276</th>\n",
       "      <td>Duna Hotel 2                                  ...</td>\n",
       "      <td>0.0</td>\n",
       "      <td>0</td>\n",
       "      <td>0</td>\n",
       "    </tr>\n",
       "    <tr>\n",
       "      <th>4278</th>\n",
       "      <td>Grand Pearl Hostel (Men Only)                 ...</td>\n",
       "      <td>0.0</td>\n",
       "      <td>0</td>\n",
       "      <td>0</td>\n",
       "    </tr>\n",
       "    <tr>\n",
       "      <th>...</th>\n",
       "      <td>...</td>\n",
       "      <td>...</td>\n",
       "      <td>...</td>\n",
       "      <td>...</td>\n",
       "    </tr>\n",
       "    <tr>\n",
       "      <th>4472</th>\n",
       "      <td>Irantis Villa                                 ...</td>\n",
       "      <td>0.0</td>\n",
       "      <td>0</td>\n",
       "      <td>0</td>\n",
       "    </tr>\n",
       "    <tr>\n",
       "      <th>4473</th>\n",
       "      <td>Dhh - Al Tajer                                ...</td>\n",
       "      <td>0.0</td>\n",
       "      <td>0</td>\n",
       "      <td>0</td>\n",
       "    </tr>\n",
       "    <tr>\n",
       "      <th>4474</th>\n",
       "      <td>Shaibani Building                             ...</td>\n",
       "      <td>0.0</td>\n",
       "      <td>0</td>\n",
       "      <td>0</td>\n",
       "    </tr>\n",
       "    <tr>\n",
       "      <th>4475</th>\n",
       "      <td>Koh - Botanica                                ...</td>\n",
       "      <td>0.0</td>\n",
       "      <td>0</td>\n",
       "      <td>0</td>\n",
       "    </tr>\n",
       "    <tr>\n",
       "      <th>4476</th>\n",
       "      <td>Higuests - Park View Tower                    ...</td>\n",
       "      <td>0.0</td>\n",
       "      <td>0</td>\n",
       "      <td>0</td>\n",
       "    </tr>\n",
       "  </tbody>\n",
       "</table>\n",
       "<p>200 rows × 4 columns</p>\n",
       "</div>"
      ],
      "text/plain": [
       "                                             hotel_name  room_price(USD)  \\\n",
       "4273  Al Rousha Hotel Apartments                    ...              0.0   \n",
       "4274  Wider View - Jumeirah Beach Residence - Sadaf ...              0.0   \n",
       "4275  Luxury Bedspaces For Ladies In Deira          ...              0.0   \n",
       "4276  Duna Hotel 2                                  ...              0.0   \n",
       "4278  Grand Pearl Hostel (Men Only)                 ...              0.0   \n",
       "...                                                 ...              ...   \n",
       "4472  Irantis Villa                                 ...              0.0   \n",
       "4473  Dhh - Al Tajer                                ...              0.0   \n",
       "4474  Shaibani Building                             ...              0.0   \n",
       "4475  Koh - Botanica                                ...              0.0   \n",
       "4476  Higuests - Park View Tower                    ...              0.0   \n",
       "\n",
       "      review_count room_reviews  \n",
       "4273             0            0  \n",
       "4274             0            0  \n",
       "4275             0            0  \n",
       "4276             0            0  \n",
       "4278             0            0  \n",
       "...            ...          ...  \n",
       "4472             0            0  \n",
       "4473             0            0  \n",
       "4474             0            0  \n",
       "4475             0            0  \n",
       "4476             0            0  \n",
       "\n",
       "[200 rows x 4 columns]"
      ]
     },
     "execution_count": 120,
     "metadata": {},
     "output_type": "execute_result"
    }
   ],
   "source": [
    "df_tripadvisor_room.tail(200)"
   ]
  },
  {
   "cell_type": "code",
   "execution_count": 121,
   "metadata": {},
   "outputs": [
    {
     "name": "stdout",
     "output_type": "stream",
     "text": [
      "<class 'pandas.core.frame.DataFrame'>\n",
      "Int64Index: 4414 entries, 0 to 4476\n",
      "Data columns (total 4 columns):\n",
      " #   Column           Non-Null Count  Dtype  \n",
      "---  ------           --------------  -----  \n",
      " 0   hotel_name       4414 non-null   object \n",
      " 1   room_price(USD)  4414 non-null   float64\n",
      " 2   review_count     4414 non-null   int64  \n",
      " 3   room_reviews     4414 non-null   object \n",
      "dtypes: float64(1), int64(1), object(2)\n",
      "memory usage: 172.4+ KB\n"
     ]
    }
   ],
   "source": [
    "df_tripadvisor_room.info()"
   ]
  },
  {
   "cell_type": "markdown",
   "metadata": {},
   "source": [
    "## Exploratory Data Analysis"
   ]
  },
  {
   "cell_type": "code",
   "execution_count": 122,
   "metadata": {},
   "outputs": [
    {
     "data": {
      "text/html": [
       "<div>\n",
       "<style scoped>\n",
       "    .dataframe tbody tr th:only-of-type {\n",
       "        vertical-align: middle;\n",
       "    }\n",
       "\n",
       "    .dataframe tbody tr th {\n",
       "        vertical-align: top;\n",
       "    }\n",
       "\n",
       "    .dataframe thead th {\n",
       "        text-align: right;\n",
       "    }\n",
       "</style>\n",
       "<table border=\"1\" class=\"dataframe\">\n",
       "  <thead>\n",
       "    <tr style=\"text-align: right;\">\n",
       "      <th></th>\n",
       "      <th>hotel_name</th>\n",
       "      <th>room_price(USD)</th>\n",
       "      <th>review_count</th>\n",
       "      <th>room_reviews</th>\n",
       "    </tr>\n",
       "  </thead>\n",
       "  <tbody>\n",
       "    <tr>\n",
       "      <th>0</th>\n",
       "      <td>Sala Samui Choengmon Beach Resort             ...</td>\n",
       "      <td>417.2714</td>\n",
       "      <td>2820</td>\n",
       "      <td>the breakfast is excellent, the pools are real...</td>\n",
       "    </tr>\n",
       "    <tr>\n",
       "      <th>1</th>\n",
       "      <td>Napasai A Belmond Hotel Koh Samui             ...</td>\n",
       "      <td>269.9606</td>\n",
       "      <td>1191</td>\n",
       "      <td>we a had perfect view at the beach,           ...</td>\n",
       "    </tr>\n",
       "    <tr>\n",
       "      <th>2</th>\n",
       "      <td>Pimalai Resort And Spa                        ...</td>\n",
       "      <td>288.1697</td>\n",
       "      <td>3287</td>\n",
       "      <td>it has everything                             ...</td>\n",
       "    </tr>\n",
       "    <tr>\n",
       "      <th>3</th>\n",
       "      <td>Avani+ Mai Khao Phuket Suites &amp; Villas        ...</td>\n",
       "      <td>217.3717</td>\n",
       "      <td>144</td>\n",
       "      <td>the villa was very                            ...</td>\n",
       "    </tr>\n",
       "    <tr>\n",
       "      <th>4</th>\n",
       "      <td>Sheraton Samui Resort                         ...</td>\n",
       "      <td>171.2256</td>\n",
       "      <td>1006</td>\n",
       "      <td>me &amp; my wife stayed there for 3 nights and we ...</td>\n",
       "    </tr>\n",
       "  </tbody>\n",
       "</table>\n",
       "</div>"
      ],
      "text/plain": [
       "                                          hotel_name  room_price(USD)  \\\n",
       "0  Sala Samui Choengmon Beach Resort             ...         417.2714   \n",
       "1  Napasai A Belmond Hotel Koh Samui             ...         269.9606   \n",
       "2  Pimalai Resort And Spa                        ...         288.1697   \n",
       "3  Avani+ Mai Khao Phuket Suites & Villas        ...         217.3717   \n",
       "4  Sheraton Samui Resort                         ...         171.2256   \n",
       "\n",
       "   review_count                                       room_reviews  \n",
       "0          2820  the breakfast is excellent, the pools are real...  \n",
       "1          1191  we a had perfect view at the beach,           ...  \n",
       "2          3287  it has everything                             ...  \n",
       "3           144  the villa was very                            ...  \n",
       "4          1006  me & my wife stayed there for 3 nights and we ...  "
      ]
     },
     "execution_count": 122,
     "metadata": {},
     "output_type": "execute_result"
    }
   ],
   "source": [
    "#final dataset\n",
    "df_tripadvisor_room.head()\n"
   ]
  },
  {
   "cell_type": "code",
   "execution_count": 123,
   "metadata": {},
   "outputs": [
    {
     "data": {
      "text/plain": [
       "Index(['hotel_name', 'room_price(USD)', 'review_count', 'room_reviews'], dtype='object')"
      ]
     },
     "execution_count": 123,
     "metadata": {},
     "output_type": "execute_result"
    }
   ],
   "source": [
    "df_tripadvisor_room.columns"
   ]
  },
  {
   "cell_type": "code",
   "execution_count": 124,
   "metadata": {},
   "outputs": [
    {
     "data": {
      "text/html": [
       "<div>\n",
       "<style scoped>\n",
       "    .dataframe tbody tr th:only-of-type {\n",
       "        vertical-align: middle;\n",
       "    }\n",
       "\n",
       "    .dataframe tbody tr th {\n",
       "        vertical-align: top;\n",
       "    }\n",
       "\n",
       "    .dataframe thead th {\n",
       "        text-align: right;\n",
       "    }\n",
       "</style>\n",
       "<table border=\"1\" class=\"dataframe\">\n",
       "  <thead>\n",
       "    <tr style=\"text-align: right;\">\n",
       "      <th></th>\n",
       "      <th>room_price(USD)</th>\n",
       "      <th>review_count</th>\n",
       "    </tr>\n",
       "  </thead>\n",
       "  <tbody>\n",
       "    <tr>\n",
       "      <th>count</th>\n",
       "      <td>4414.000000</td>\n",
       "      <td>4414.000000</td>\n",
       "    </tr>\n",
       "    <tr>\n",
       "      <th>mean</th>\n",
       "      <td>72.509709</td>\n",
       "      <td>718.687812</td>\n",
       "    </tr>\n",
       "    <tr>\n",
       "      <th>std</th>\n",
       "      <td>193.002547</td>\n",
       "      <td>1271.072338</td>\n",
       "    </tr>\n",
       "    <tr>\n",
       "      <th>min</th>\n",
       "      <td>0.000000</td>\n",
       "      <td>0.000000</td>\n",
       "    </tr>\n",
       "    <tr>\n",
       "      <th>25%</th>\n",
       "      <td>0.000000</td>\n",
       "      <td>59.000000</td>\n",
       "    </tr>\n",
       "    <tr>\n",
       "      <th>50%</th>\n",
       "      <td>0.054600</td>\n",
       "      <td>277.000000</td>\n",
       "    </tr>\n",
       "    <tr>\n",
       "      <th>75%</th>\n",
       "      <td>69.066725</td>\n",
       "      <td>808.000000</td>\n",
       "    </tr>\n",
       "    <tr>\n",
       "      <th>max</th>\n",
       "      <td>4078.720100</td>\n",
       "      <td>14124.000000</td>\n",
       "    </tr>\n",
       "  </tbody>\n",
       "</table>\n",
       "</div>"
      ],
      "text/plain": [
       "       room_price(USD)  review_count\n",
       "count      4414.000000   4414.000000\n",
       "mean         72.509709    718.687812\n",
       "std         193.002547   1271.072338\n",
       "min           0.000000      0.000000\n",
       "25%           0.000000     59.000000\n",
       "50%           0.054600    277.000000\n",
       "75%          69.066725    808.000000\n",
       "max        4078.720100  14124.000000"
      ]
     },
     "execution_count": 124,
     "metadata": {},
     "output_type": "execute_result"
    }
   ],
   "source": [
    "df_tripadvisor_room.describe()"
   ]
  },
  {
   "cell_type": "code",
   "execution_count": 125,
   "metadata": {},
   "outputs": [
    {
     "data": {
      "text/html": [
       "<div>\n",
       "<style scoped>\n",
       "    .dataframe tbody tr th:only-of-type {\n",
       "        vertical-align: middle;\n",
       "    }\n",
       "\n",
       "    .dataframe tbody tr th {\n",
       "        vertical-align: top;\n",
       "    }\n",
       "\n",
       "    .dataframe thead th {\n",
       "        text-align: right;\n",
       "    }\n",
       "</style>\n",
       "<table border=\"1\" class=\"dataframe\">\n",
       "  <thead>\n",
       "    <tr style=\"text-align: right;\">\n",
       "      <th></th>\n",
       "      <th>hotel_name</th>\n",
       "      <th>room_reviews</th>\n",
       "    </tr>\n",
       "  </thead>\n",
       "  <tbody>\n",
       "    <tr>\n",
       "      <th>count</th>\n",
       "      <td>4414</td>\n",
       "      <td>4414</td>\n",
       "    </tr>\n",
       "    <tr>\n",
       "      <th>unique</th>\n",
       "      <td>4338</td>\n",
       "      <td>2822</td>\n",
       "    </tr>\n",
       "    <tr>\n",
       "      <th>top</th>\n",
       "      <td>Hilton Dubai Jumeirah                         ...</td>\n",
       "      <td>0</td>\n",
       "    </tr>\n",
       "    <tr>\n",
       "      <th>freq</th>\n",
       "      <td>6</td>\n",
       "      <td>996</td>\n",
       "    </tr>\n",
       "  </tbody>\n",
       "</table>\n",
       "</div>"
      ],
      "text/plain": [
       "                                               hotel_name room_reviews\n",
       "count                                                4414         4414\n",
       "unique                                               4338         2822\n",
       "top     Hilton Dubai Jumeirah                         ...            0\n",
       "freq                                                    6          996"
      ]
     },
     "execution_count": 125,
     "metadata": {},
     "output_type": "execute_result"
    }
   ],
   "source": [
    "df_tripadvisor_room.describe(include='object')"
   ]
  },
  {
   "cell_type": "code",
   "execution_count": 126,
   "metadata": {},
   "outputs": [
    {
     "data": {
      "text/html": [
       "<div>\n",
       "<style scoped>\n",
       "    .dataframe tbody tr th:only-of-type {\n",
       "        vertical-align: middle;\n",
       "    }\n",
       "\n",
       "    .dataframe tbody tr th {\n",
       "        vertical-align: top;\n",
       "    }\n",
       "\n",
       "    .dataframe thead th {\n",
       "        text-align: right;\n",
       "    }\n",
       "</style>\n",
       "<table border=\"1\" class=\"dataframe\">\n",
       "  <thead>\n",
       "    <tr style=\"text-align: right;\">\n",
       "      <th></th>\n",
       "      <th>hotel_name</th>\n",
       "      <th>room_price(USD)</th>\n",
       "      <th>review_count</th>\n",
       "      <th>room_reviews</th>\n",
       "    </tr>\n",
       "  </thead>\n",
       "  <tbody>\n",
       "    <tr>\n",
       "      <th>0</th>\n",
       "      <td>Sala Samui Choengmon Beach Resort             ...</td>\n",
       "      <td>417.2714</td>\n",
       "      <td>2820</td>\n",
       "      <td>the breakfast is excellent, the pools are real...</td>\n",
       "    </tr>\n",
       "    <tr>\n",
       "      <th>1</th>\n",
       "      <td>Napasai A Belmond Hotel Koh Samui             ...</td>\n",
       "      <td>269.9606</td>\n",
       "      <td>1191</td>\n",
       "      <td>we a had perfect view at the beach,           ...</td>\n",
       "    </tr>\n",
       "    <tr>\n",
       "      <th>2</th>\n",
       "      <td>Pimalai Resort And Spa                        ...</td>\n",
       "      <td>288.1697</td>\n",
       "      <td>3287</td>\n",
       "      <td>it has everything                             ...</td>\n",
       "    </tr>\n",
       "    <tr>\n",
       "      <th>3</th>\n",
       "      <td>Avani+ Mai Khao Phuket Suites &amp; Villas        ...</td>\n",
       "      <td>217.3717</td>\n",
       "      <td>144</td>\n",
       "      <td>the villa was very                            ...</td>\n",
       "    </tr>\n",
       "    <tr>\n",
       "      <th>4</th>\n",
       "      <td>Sheraton Samui Resort                         ...</td>\n",
       "      <td>171.2256</td>\n",
       "      <td>1006</td>\n",
       "      <td>me &amp; my wife stayed there for 3 nights and we ...</td>\n",
       "    </tr>\n",
       "    <tr>\n",
       "      <th>...</th>\n",
       "      <td>...</td>\n",
       "      <td>...</td>\n",
       "      <td>...</td>\n",
       "      <td>...</td>\n",
       "    </tr>\n",
       "    <tr>\n",
       "      <th>4472</th>\n",
       "      <td>Irantis Villa                                 ...</td>\n",
       "      <td>0.0000</td>\n",
       "      <td>0</td>\n",
       "      <td>0</td>\n",
       "    </tr>\n",
       "    <tr>\n",
       "      <th>4473</th>\n",
       "      <td>Dhh - Al Tajer                                ...</td>\n",
       "      <td>0.0000</td>\n",
       "      <td>0</td>\n",
       "      <td>0</td>\n",
       "    </tr>\n",
       "    <tr>\n",
       "      <th>4474</th>\n",
       "      <td>Shaibani Building                             ...</td>\n",
       "      <td>0.0000</td>\n",
       "      <td>0</td>\n",
       "      <td>0</td>\n",
       "    </tr>\n",
       "    <tr>\n",
       "      <th>4475</th>\n",
       "      <td>Koh - Botanica                                ...</td>\n",
       "      <td>0.0000</td>\n",
       "      <td>0</td>\n",
       "      <td>0</td>\n",
       "    </tr>\n",
       "    <tr>\n",
       "      <th>4476</th>\n",
       "      <td>Higuests - Park View Tower                    ...</td>\n",
       "      <td>0.0000</td>\n",
       "      <td>0</td>\n",
       "      <td>0</td>\n",
       "    </tr>\n",
       "  </tbody>\n",
       "</table>\n",
       "<p>4414 rows × 4 columns</p>\n",
       "</div>"
      ],
      "text/plain": [
       "                                             hotel_name  room_price(USD)  \\\n",
       "0     Sala Samui Choengmon Beach Resort             ...         417.2714   \n",
       "1     Napasai A Belmond Hotel Koh Samui             ...         269.9606   \n",
       "2     Pimalai Resort And Spa                        ...         288.1697   \n",
       "3     Avani+ Mai Khao Phuket Suites & Villas        ...         217.3717   \n",
       "4     Sheraton Samui Resort                         ...         171.2256   \n",
       "...                                                 ...              ...   \n",
       "4472  Irantis Villa                                 ...           0.0000   \n",
       "4473  Dhh - Al Tajer                                ...           0.0000   \n",
       "4474  Shaibani Building                             ...           0.0000   \n",
       "4475  Koh - Botanica                                ...           0.0000   \n",
       "4476  Higuests - Park View Tower                    ...           0.0000   \n",
       "\n",
       "      review_count                                       room_reviews  \n",
       "0             2820  the breakfast is excellent, the pools are real...  \n",
       "1             1191  we a had perfect view at the beach,           ...  \n",
       "2             3287  it has everything                             ...  \n",
       "3              144  the villa was very                            ...  \n",
       "4             1006  me & my wife stayed there for 3 nights and we ...  \n",
       "...            ...                                                ...  \n",
       "4472             0                                                  0  \n",
       "4473             0                                                  0  \n",
       "4474             0                                                  0  \n",
       "4475             0                                                  0  \n",
       "4476             0                                                  0  \n",
       "\n",
       "[4414 rows x 4 columns]"
      ]
     },
     "execution_count": 126,
     "metadata": {},
     "output_type": "execute_result"
    }
   ],
   "source": [
    "df_tripadvisor_room"
   ]
  },
  {
   "cell_type": "code",
   "execution_count": 127,
   "metadata": {},
   "outputs": [
    {
     "data": {
      "text/plain": [
       "'Rixos The Palm Hotel & Suites                     '"
      ]
     },
     "execution_count": 127,
     "metadata": {},
     "output_type": "execute_result"
    }
   ],
   "source": [
    "#EXPENSIVE HOTEL\n",
    "df_tripadvisor_room.sort_values(by='room_price(USD)' , ascending=False).iloc[0]['hotel_name']"
   ]
  },
  {
   "cell_type": "code",
   "execution_count": 128,
   "metadata": {},
   "outputs": [
    {
     "data": {
      "text/plain": [
       "'Higuests - Park View Tower                        '"
      ]
     },
     "execution_count": 128,
     "metadata": {},
     "output_type": "execute_result"
    }
   ],
   "source": [
    "#CHEAP HOTEL\n",
    "df_tripadvisor_room.sort_values(by='room_price(USD)' , ascending=True).iloc[0]['hotel_name']"
   ]
  },
  {
   "cell_type": "code",
   "execution_count": 129,
   "metadata": {},
   "outputs": [
    {
     "data": {
      "text/plain": [
       "'Jw Marriott Marquis Hotel Dubai                   '"
      ]
     },
     "execution_count": 129,
     "metadata": {},
     "output_type": "execute_result"
    }
   ],
   "source": [
    "# highest_rating_hotel\n",
    "df_tripadvisor_room.sort_values(by='review_count' , ascending=False).iloc[0]['hotel_name']"
   ]
  },
  {
   "cell_type": "code",
   "execution_count": 130,
   "metadata": {},
   "outputs": [
    {
     "data": {
      "text/plain": [
       "'Higuests - Park View Tower                        '"
      ]
     },
     "execution_count": 130,
     "metadata": {},
     "output_type": "execute_result"
    }
   ],
   "source": [
    "# lowest_rating_hotel\n",
    "df_tripadvisor_room.sort_values(by='review_count' , ascending=True).iloc[0]['hotel_name']"
   ]
  },
  {
   "cell_type": "code",
   "execution_count": 131,
   "metadata": {},
   "outputs": [],
   "source": [
    "filtered_df = df_tripadvisor_room[(df_tripadvisor_room['review_count'].notna()) & (df_tripadvisor_room['review_count'] != 0)] = df_tripadvisor_room[(df_tripadvisor_room['review_count'].notna()) & (df_tripadvisor_room['review_count'] != 0)]"
   ]
  },
  {
   "cell_type": "code",
   "execution_count": 132,
   "metadata": {},
   "outputs": [
    {
     "data": {
      "text/html": [
       "<div>\n",
       "<style scoped>\n",
       "    .dataframe tbody tr th:only-of-type {\n",
       "        vertical-align: middle;\n",
       "    }\n",
       "\n",
       "    .dataframe tbody tr th {\n",
       "        vertical-align: top;\n",
       "    }\n",
       "\n",
       "    .dataframe thead th {\n",
       "        text-align: right;\n",
       "    }\n",
       "</style>\n",
       "<table border=\"1\" class=\"dataframe\">\n",
       "  <thead>\n",
       "    <tr style=\"text-align: right;\">\n",
       "      <th></th>\n",
       "      <th>hotel_name</th>\n",
       "      <th>room_price(USD)</th>\n",
       "      <th>review_count</th>\n",
       "      <th>room_reviews</th>\n",
       "    </tr>\n",
       "  </thead>\n",
       "  <tbody>\n",
       "    <tr>\n",
       "      <th>0</th>\n",
       "      <td>Sala Samui Choengmon Beach Resort             ...</td>\n",
       "      <td>417.2714</td>\n",
       "      <td>2820</td>\n",
       "      <td>the breakfast is excellent, the pools are real...</td>\n",
       "    </tr>\n",
       "    <tr>\n",
       "      <th>1</th>\n",
       "      <td>Napasai A Belmond Hotel Koh Samui             ...</td>\n",
       "      <td>269.9606</td>\n",
       "      <td>1191</td>\n",
       "      <td>we a had perfect view at the beach,           ...</td>\n",
       "    </tr>\n",
       "    <tr>\n",
       "      <th>2</th>\n",
       "      <td>Pimalai Resort And Spa                        ...</td>\n",
       "      <td>288.1697</td>\n",
       "      <td>3287</td>\n",
       "      <td>it has everything                             ...</td>\n",
       "    </tr>\n",
       "    <tr>\n",
       "      <th>3</th>\n",
       "      <td>Avani+ Mai Khao Phuket Suites &amp; Villas        ...</td>\n",
       "      <td>217.3717</td>\n",
       "      <td>144</td>\n",
       "      <td>the villa was very                            ...</td>\n",
       "    </tr>\n",
       "    <tr>\n",
       "      <th>4</th>\n",
       "      <td>Sheraton Samui Resort                         ...</td>\n",
       "      <td>171.2256</td>\n",
       "      <td>1006</td>\n",
       "      <td>me &amp; my wife stayed there for 3 nights and we ...</td>\n",
       "    </tr>\n",
       "    <tr>\n",
       "      <th>...</th>\n",
       "      <td>...</td>\n",
       "      <td>...</td>\n",
       "      <td>...</td>\n",
       "      <td>...</td>\n",
       "    </tr>\n",
       "    <tr>\n",
       "      <th>4258</th>\n",
       "      <td>Al Ashrafia Holiday Homes                     ...</td>\n",
       "      <td>0.0000</td>\n",
       "      <td>4</td>\n",
       "      <td>city walk to burj khalifa my trip was business...</td>\n",
       "    </tr>\n",
       "    <tr>\n",
       "      <th>4259</th>\n",
       "      <td>Hi Guests Vacation Homes - Park Island Sanibel...</td>\n",
       "      <td>0.0000</td>\n",
       "      <td>2</td>\n",
       "      <td>sanibel my issue is with higuests vacation hom...</td>\n",
       "    </tr>\n",
       "    <tr>\n",
       "      <th>4261</th>\n",
       "      <td>Victoria Hotel                                ...</td>\n",
       "      <td>0.0000</td>\n",
       "      <td>8</td>\n",
       "      <td>were visiting dubai the entire experience from...</td>\n",
       "    </tr>\n",
       "    <tr>\n",
       "      <th>4265</th>\n",
       "      <td>Maison Privee - Tiara Ruby                    ...</td>\n",
       "      <td>0.0000</td>\n",
       "      <td>2</td>\n",
       "      <td>changes we met rami (who is the so called owne...</td>\n",
       "    </tr>\n",
       "    <tr>\n",
       "      <th>4266</th>\n",
       "      <td>Staycae Ghalia                                ...</td>\n",
       "      <td>0.0000</td>\n",
       "      <td>3</td>\n",
       "      <td>arrived the men at the reception didnt want to...</td>\n",
       "    </tr>\n",
       "  </tbody>\n",
       "</table>\n",
       "<p>4006 rows × 4 columns</p>\n",
       "</div>"
      ],
      "text/plain": [
       "                                             hotel_name  room_price(USD)  \\\n",
       "0     Sala Samui Choengmon Beach Resort             ...         417.2714   \n",
       "1     Napasai A Belmond Hotel Koh Samui             ...         269.9606   \n",
       "2     Pimalai Resort And Spa                        ...         288.1697   \n",
       "3     Avani+ Mai Khao Phuket Suites & Villas        ...         217.3717   \n",
       "4     Sheraton Samui Resort                         ...         171.2256   \n",
       "...                                                 ...              ...   \n",
       "4258  Al Ashrafia Holiday Homes                     ...           0.0000   \n",
       "4259  Hi Guests Vacation Homes - Park Island Sanibel...           0.0000   \n",
       "4261  Victoria Hotel                                ...           0.0000   \n",
       "4265  Maison Privee - Tiara Ruby                    ...           0.0000   \n",
       "4266  Staycae Ghalia                                ...           0.0000   \n",
       "\n",
       "      review_count                                       room_reviews  \n",
       "0             2820  the breakfast is excellent, the pools are real...  \n",
       "1             1191  we a had perfect view at the beach,           ...  \n",
       "2             3287  it has everything                             ...  \n",
       "3              144  the villa was very                            ...  \n",
       "4             1006  me & my wife stayed there for 3 nights and we ...  \n",
       "...            ...                                                ...  \n",
       "4258             4  city walk to burj khalifa my trip was business...  \n",
       "4259             2  sanibel my issue is with higuests vacation hom...  \n",
       "4261             8  were visiting dubai the entire experience from...  \n",
       "4265             2  changes we met rami (who is the so called owne...  \n",
       "4266             3  arrived the men at the reception didnt want to...  \n",
       "\n",
       "[4006 rows x 4 columns]"
      ]
     },
     "execution_count": 132,
     "metadata": {},
     "output_type": "execute_result"
    }
   ],
   "source": [
    "filtered_df"
   ]
  },
  {
   "cell_type": "code",
   "execution_count": 133,
   "metadata": {},
   "outputs": [
    {
     "data": {
      "text/plain": [
       "<Axes: xlabel='room_price(USD)', ylabel='review_count'>"
      ]
     },
     "execution_count": 133,
     "metadata": {},
     "output_type": "execute_result"
    },
    {
     "data": {
      "image/png": "[encoded data removed]",
      "text/plain": [
       "<Figure size 640x480 with 1 Axes>"
      ]
     },
     "metadata": {},
     "output_type": "display_data"
    }
   ],
   "source": [
    "# Relation between room_price(USD) and review_count\n",
    "df_tripadvisor_room.plot(kind='scatter', x = 'room_price(USD)', y= 'review_count')"
   ]
  },
  {
   "cell_type": "markdown",
   "metadata": {},
   "source": [
    "### There seems to be no relation between price and rating"
   ]
  },
  {
   "cell_type": "markdown",
   "metadata": {},
   "source": [
    "### Cleaning comments to analyze "
   ]
  },
  {
   "cell_type": "code",
   "execution_count": 134,
   "metadata": {},
   "outputs": [
    {
     "data": {
      "text/plain": [
       "0    the breakfast is excellent, the pools are real...\n",
       "1    we a had perfect view at the beach,           ...\n",
       "2    it has everything                             ...\n",
       "3    the villa was very                            ...\n",
       "4    me & my wife stayed there for 3 nights and we ...\n",
       "Name: room_reviews, dtype: object"
      ]
     },
     "execution_count": 134,
     "metadata": {},
     "output_type": "execute_result"
    }
   ],
   "source": [
    "df_tripadvisor_room['room_reviews'].head()"
   ]
  },
  {
   "cell_type": "markdown",
   "metadata": {},
   "source": [
    "### Install NLTK (Natural Language Toolkit) library "
   ]
  },
  {
   "cell_type": "code",
   "execution_count": 135,
   "metadata": {},
   "outputs": [
    {
     "ename": "ModuleNotFoundError",
     "evalue": "No module named 'nltk'",
     "output_type": "error",
     "traceback": [
      "\u001b[0;31m---------------------------------------------------------------------------\u001b[0m",
      "\u001b[0;31mModuleNotFoundError\u001b[0m                       Traceback (most recent call last)",
      "Cell \u001b[0;32mIn[135], line 2\u001b[0m\n\u001b[1;32m      1\u001b[0m \u001b[39m# Tokenization import data\u001b[39;00m\n\u001b[0;32m----> 2\u001b[0m \u001b[39mimport\u001b[39;00m \u001b[39mnltk\u001b[39;00m\n\u001b[1;32m      3\u001b[0m \u001b[39mfrom\u001b[39;00m \u001b[39mnltk\u001b[39;00m\u001b[39m.\u001b[39;00m\u001b[39mtokenize\u001b[39;00m \u001b[39mimport\u001b[39;00m word_tokenize\n\u001b[1;32m      4\u001b[0m nltk\u001b[39m.\u001b[39mdownload(\u001b[39m'\u001b[39m\u001b[39mpunkt\u001b[39m\u001b[39m'\u001b[39m)\n",
      "\u001b[0;31mModuleNotFoundError\u001b[0m: No module named 'nltk'"
     ]
    }
   ],
   "source": [
    "# Tokenization import data\n",
    "import nltk\n",
    "from nltk.tokenize import word_tokenize\n",
    "nltk.download('punkt')\n"
   ]
  },
  {
   "cell_type": "code",
   "execution_count": null,
   "metadata": {},
   "outputs": [],
   "source": [
    "# CONVERT DATA TO STRING\n",
    "df_tripadvisor_room['room_reviews'] = df_tripadvisor_room['room_reviews'].astype(str)"
   ]
  },
  {
   "cell_type": "code",
   "execution_count": null,
   "metadata": {},
   "outputs": [],
   "source": [
    "#remove special chatracters\n",
    "import re\n",
    "\n",
    "def remove_special_characters(text):\n",
    "    # Use regular expression to remove non-alphanumeric characters and spaces\n",
    "    cleaned_text = re.sub(r'[^a-zA-Z0-9\\s]', '', text)\n",
    "    return cleaned_text\n"
   ]
  },
  {
   "cell_type": "code",
   "execution_count": null,
   "metadata": {},
   "outputs": [],
   "source": [
    "# call function\n",
    "df_tripadvisor_room['room_reviews'] = df_tripadvisor_room['room_reviews'].apply(remove_special_characters)"
   ]
  },
  {
   "cell_type": "code",
   "execution_count": null,
   "metadata": {},
   "outputs": [],
   "source": [
    "# splitting text documents as seperate tokens or words\n",
    "df_tripadvisor_room['room_reviews'] = df_tripadvisor_room['room_reviews'].apply(lambda text: word_tokenize(text))"
   ]
  },
  {
   "cell_type": "code",
   "execution_count": null,
   "metadata": {},
   "outputs": [
    {
     "data": {
      "text/plain": [
       "0       [the, breakfast, is, excellent, the, pools, ar...\n",
       "1             [we, a, had, perfect, view, at, the, beach]\n",
       "2                                   [it, has, everything]\n",
       "3                                 [the, villa, was, very]\n",
       "4       [me, my, wife, stayed, there, for, 3, nights, ...\n",
       "                              ...                        \n",
       "4472                                                  [0]\n",
       "4473                                                  [0]\n",
       "4474                                                  [0]\n",
       "4475                                                  [0]\n",
       "4476                                                  [0]\n",
       "Name: room_reviews, Length: 4414, dtype: object"
      ]
     },
     "execution_count": 71,
     "metadata": {},
     "output_type": "execute_result"
    }
   ],
   "source": [
    "df_tripadvisor_room['room_reviews']"
   ]
  },
  {
   "cell_type": "code",
   "execution_count": null,
   "metadata": {},
   "outputs": [
    {
     "name": "stderr",
     "output_type": "stream",
     "text": [
      "[nltk_data] Downloading package stopwords to\n",
      "[nltk_data]     /Users/neuefische/nltk_data...\n",
      "[nltk_data]   Package stopwords is already up-to-date!\n"
     ]
    }
   ],
   "source": [
    "# removing stop words\n",
    "nltk.download('stopwords') \n",
    "from nltk.corpus import stopwords              #Download stopwords data \n",
    "stop_words = set(stopwords.words('english'))   #Load the English stop words\n"
   ]
  },
  {
   "cell_type": "code",
   "execution_count": null,
   "metadata": {},
   "outputs": [],
   "source": [
    "# function to remove stop words\n",
    "def remove_stopwords(words):\n",
    "    filtered_words = [word for word in words if word.lower() not in stop_words]\n",
    "    return filtered_words\n",
    "\n",
    "# Apply the function to the 'room_reviews' column\n",
    "df_tripadvisor_room['room_reviews'] = df_tripadvisor_room['room_reviews'].apply(remove_stopwords)\n"
   ]
  },
  {
   "cell_type": "code",
   "execution_count": null,
   "metadata": {},
   "outputs": [
    {
     "data": {
      "text/plain": [
       "0     [breakfast, excellent, pools, really, nice, be...\n",
       "1                                [perfect, view, beach]\n",
       "2                                          [everything]\n",
       "3                                               [villa]\n",
       "4     [wife, stayed, 3, nights, really, enjoyed, eve...\n",
       "5     [prefer, private, room, nice, view, go, oceanf...\n",
       "6     [hotel, near, airport, service, excellent, pat...\n",
       "7                                          [good, food]\n",
       "8     [room, beautiful, comfortable, big, pool, outd...\n",
       "9     [fantastic, enjoy, stayed, melia, koh, samui, ...\n",
       "10    [grateful, staff, putting, together, wonderful...\n",
       "11    [stay, holiday, ao, nang, resert, second, time...\n",
       "12    [one, greatest, moments, little, girls, life, ...\n",
       "13    [hong, island, amazing, view, pool, good, food...\n",
       "14                      [hotel, fabulous, staff, super]\n",
       "15                                     [amazing, place]\n",
       "16    [facilities, perfect, staff, friendly, gently,...\n",
       "17    [private, peaceful, beach, always, clean, than...\n",
       "18                              [pool, one, koh, samui]\n",
       "19    [mareeya, team, sweet, ladies, restaurant, nin...\n",
       "20                        [kimpton, new, resort, samui]\n",
       "21    [avani, khao, lak, private, location, best, re...\n",
       "22    [delicious, drinks, yummy, pools, relaxing, ho...\n",
       "23                                   [perfectly, clean]\n",
       "24                  [comfortable, good, sized, balcony]\n",
       "25                [hotel, fresh, feeling, enthusiastic]\n",
       "26                               [facilities, fabulous]\n",
       "27    [recommend, anybody, wanting, escape, theyre, ...\n",
       "28    [love, everything, hotel, facilities, great, k...\n",
       "29    [calm, relaxing, atmosphere, nice, beach, area...\n",
       "30    [genuine, hospitality, airport, transfer, arra...\n",
       "31                        [sister, enjoyed, stay, much]\n",
       "32    [close, sights, safe, hosts, chefs, rada, kai,...\n",
       "33    [one, comfortable, mattresses, ive, ever, slep...\n",
       "34                    [view, food, amazing, pool, vila]\n",
       "35    [every, request, smile, face, restaurant, staf...\n",
       "36    [take, care, first, day, came, last, day, back...\n",
       "37         [everything, need, comfortable, highquality]\n",
       "38    [anantara, riverside, amazing, true, oriental,...\n",
       "39        [lovely, surprise, bottle, fizz, greeted, us]\n",
       "40                                [everything, perfect]\n",
       "41               [wonderful, place, stay, chill, enjoy]\n",
       "42    [stay, newly, opened, hotel, good, team, super...\n",
       "43                                              [patio]\n",
       "44                         [pros, beachfront, 4, 5star]\n",
       "45                                  [wonderful, moment]\n",
       "46                                             [stayed]\n",
       "47    [chose, big, villas, private, pool, sea, ocean...\n",
       "48     [hotel, amazing, connectivity, beach, breakfast]\n",
       "49    [service, every, day, communal, areas, kept, c...\n",
       "50                                    [helpfull, staff]\n",
       "51    [pros, hotel, gorgeous, river, flowing, middle...\n",
       "52           [excellent, hotel, nice, staff, excellent]\n",
       "53                                           [spacious]\n",
       "54                             [location, quiet, beach]\n",
       "55                                                [t55]\n",
       "56                                        [nice, place]\n",
       "57    [necessary, comforts, including, ac, every, room]\n",
       "58    [definitely, come, back, location, heart, vege...\n",
       "59    [first, time, stay, nice, room, bed, pillows, ...\n",
       "Name: room_reviews, dtype: object"
      ]
     },
     "execution_count": 74,
     "metadata": {},
     "output_type": "execute_result"
    }
   ],
   "source": [
    "df_tripadvisor_room['room_reviews'].head(60)"
   ]
  },
  {
   "cell_type": "code",
   "execution_count": null,
   "metadata": {},
   "outputs": [
    {
     "data": {
      "text/plain": [
       "7.796782963298595"
      ]
     },
     "execution_count": 75,
     "metadata": {},
     "output_type": "execute_result"
    }
   ],
   "source": [
    "# mean, max, min\n",
    "df_tripadvisor_room['room_reviews'].str.len().mean()"
   ]
  },
  {
   "cell_type": "code",
   "execution_count": null,
   "metadata": {},
   "outputs": [
    {
     "data": {
      "text/plain": [
       "26"
      ]
     },
     "execution_count": 76,
     "metadata": {},
     "output_type": "execute_result"
    }
   ],
   "source": [
    "df_tripadvisor_room['room_reviews'].str.len().max()"
   ]
  },
  {
   "cell_type": "code",
   "execution_count": null,
   "metadata": {},
   "outputs": [],
   "source": [
    "max_length = df_tripadvisor_room[df_tripadvisor_room['room_reviews'].str.len() == max]\n"
   ]
  },
  {
   "cell_type": "code",
   "execution_count": null,
   "metadata": {},
   "outputs": [],
   "source": [
    "result = max_length.groupby('room_reviews')['hotel_name'].count()"
   ]
  },
  {
   "cell_type": "code",
   "execution_count": null,
   "metadata": {},
   "outputs": [
    {
     "data": {
      "text/plain": [
       "Series([], Name: hotel_name, dtype: int64)"
      ]
     },
     "execution_count": 79,
     "metadata": {},
     "output_type": "execute_result"
    }
   ],
   "source": [
    "result"
   ]
  },
  {
   "cell_type": "code",
   "execution_count": null,
   "metadata": {},
   "outputs": [
    {
     "data": {
      "text/plain": [
       "0"
      ]
     },
     "execution_count": 80,
     "metadata": {},
     "output_type": "execute_result"
    }
   ],
   "source": [
    "df_tripadvisor_room['room_reviews'].str.len().min()"
   ]
  },
  {
   "cell_type": "markdown",
   "metadata": {},
   "source": [
    "### Lemmitization"
   ]
  },
  {
   "cell_type": "code",
   "execution_count": null,
   "metadata": {},
   "outputs": [
    {
     "name": "stderr",
     "output_type": "stream",
     "text": [
      "[nltk_data] Downloading package wordnet to\n",
      "[nltk_data]     /Users/neuefische/nltk_data...\n",
      "[nltk_data]   Package wordnet is already up-to-date!\n"
     ]
    },
    {
     "data": {
      "text/plain": [
       "True"
      ]
     },
     "execution_count": 81,
     "metadata": {},
     "output_type": "execute_result"
    }
   ],
   "source": [
    "from nltk.stem import WordNetLemmatizer\n",
    "nltk.download('wordnet')"
   ]
  },
  {
   "cell_type": "code",
   "execution_count": null,
   "metadata": {},
   "outputs": [],
   "source": [
    "# function for lemmatize\n",
    "lemmatizer = WordNetLemmatizer()\n",
    "def lemmatize_text(words):\n",
    "    lemmatized_words = [lemmatizer.lemmatize(word) for word in words]\n",
    "    return lemmatized_words"
   ]
  },
  {
   "cell_type": "code",
   "execution_count": null,
   "metadata": {},
   "outputs": [],
   "source": [
    "df_tripadvisor_room['room_reviews'] = df_tripadvisor_room['room_reviews'].apply(lemmatize_text)"
   ]
  },
  {
   "cell_type": "code",
   "execution_count": null,
   "metadata": {},
   "outputs": [
    {
     "data": {
      "text/plain": [
       "['0']"
      ]
     },
     "execution_count": 84,
     "metadata": {},
     "output_type": "execute_result"
    }
   ],
   "source": [
    "df_tripadvisor_room['room_reviews'][4414]"
   ]
  },
  {
   "cell_type": "markdown",
   "metadata": {},
   "source": [
    "### SENTIMENT ANALYSIS"
   ]
  },
  {
   "cell_type": "code",
   "execution_count": null,
   "metadata": {},
   "outputs": [
    {
     "data": {
      "text/plain": [
       "0       [breakfast, excellent, pool, really, nice, bea...\n",
       "1                                  [perfect, view, beach]\n",
       "2                                            [everything]\n",
       "3                                                 [villa]\n",
       "4       [wife, stayed, 3, night, really, enjoyed, ever...\n",
       "                              ...                        \n",
       "4472                                                  [0]\n",
       "4473                                                  [0]\n",
       "4474                                                  [0]\n",
       "4475                                                  [0]\n",
       "4476                                                  [0]\n",
       "Name: room_reviews, Length: 4414, dtype: object"
      ]
     },
     "execution_count": 85,
     "metadata": {},
     "output_type": "execute_result"
    }
   ],
   "source": [
    "df_tripadvisor_room['room_reviews']"
   ]
  },
  {
   "cell_type": "code",
   "execution_count": null,
   "metadata": {},
   "outputs": [],
   "source": [
    "import pandas as pd\n",
    "from vaderSentiment.vaderSentiment import SentimentIntensityAnalyzer\n",
    "\n",
    "# Initialize the VADER sentiment analyzer\n",
    "analyzer = SentimentIntensityAnalyzer()\n"
   ]
  },
  {
   "cell_type": "code",
   "execution_count": null,
   "metadata": {},
   "outputs": [],
   "source": [
    "# Function to analyze sentiment using VADER\n",
    "def analyze_sentiment(text):\n",
    "    sentiment_scores = analyzer.polarity_scores(text)\n",
    "    # Determine sentiment based on compound score\n",
    "    if sentiment_scores['compound'] >= 0.05:\n",
    "        return 'positive'\n",
    "    elif sentiment_scores['compound'] <= -0.05:\n",
    "        return 'negative'\n",
    "    else:\n",
    "        return 'neutral'\n"
   ]
  },
  {
   "cell_type": "code",
   "execution_count": null,
   "metadata": {},
   "outputs": [],
   "source": [
    "# Apply sentiment analysis to each text entry in the 'room_reviews' column\n",
    "df_tripadvisor_room['sentiment'] = df_tripadvisor_room['room_reviews'].apply(lambda x: ' '.join(x))  # Convert tokens back to a string\n",
    "df_tripadvisor_room['sentiment'] = df_tripadvisor_room['sentiment'].apply(analyze_sentiment)\n",
    "\n",
    "# Now, the 'sentiment' column contains the sentiment classification for each text entry\n"
   ]
  },
  {
   "cell_type": "code",
   "execution_count": null,
   "metadata": {},
   "outputs": [
    {
     "data": {
      "text/plain": [
       "4472    neutral\n",
       "4473    neutral\n",
       "4474    neutral\n",
       "4475    neutral\n",
       "4476    neutral\n",
       "Name: sentiment, dtype: object"
      ]
     },
     "execution_count": 89,
     "metadata": {},
     "output_type": "execute_result"
    }
   ],
   "source": [
    "df_tripadvisor_room['sentiment'].tail()"
   ]
  },
  {
   "cell_type": "code",
   "execution_count": null,
   "metadata": {},
   "outputs": [
    {
     "data": {
      "text/plain": [
       "4338"
      ]
     },
     "execution_count": 90,
     "metadata": {},
     "output_type": "execute_result"
    }
   ],
   "source": [
    "df_tripadvisor_room['hotel_name'].nunique()"
   ]
  },
  {
   "cell_type": "code",
   "execution_count": null,
   "metadata": {},
   "outputs": [
    {
     "data": {
      "text/plain": [
       "positive    2724\n",
       "neutral     1549\n",
       "negative     141\n",
       "Name: sentiment, dtype: int64"
      ]
     },
     "execution_count": 91,
     "metadata": {},
     "output_type": "execute_result"
    }
   ],
   "source": [
    "df_tripadvisor_room['sentiment'].value_counts()"
   ]
  },
  {
   "cell_type": "code",
   "execution_count": null,
   "metadata": {},
   "outputs": [],
   "source": [
    "df = df_tripadvisor_room[(df_tripadvisor_room['sentiment'] == 'negative')  & (df_tripadvisor_room['room_reviews'])]"
   ]
  },
  {
   "cell_type": "code",
   "execution_count": null,
   "metadata": {},
   "outputs": [
    {
     "data": {
      "text/html": [
       "<div>\n",
       "<style scoped>\n",
       "    .dataframe tbody tr th:only-of-type {\n",
       "        vertical-align: middle;\n",
       "    }\n",
       "\n",
       "    .dataframe tbody tr th {\n",
       "        vertical-align: top;\n",
       "    }\n",
       "\n",
       "    .dataframe thead th {\n",
       "        text-align: right;\n",
       "    }\n",
       "</style>\n",
       "<table border=\"1\" class=\"dataframe\">\n",
       "  <thead>\n",
       "    <tr style=\"text-align: right;\">\n",
       "      <th></th>\n",
       "      <th>hotel_name</th>\n",
       "      <th>room_price(USD)</th>\n",
       "      <th>review_count</th>\n",
       "      <th>room_reviews</th>\n",
       "      <th>sentiment</th>\n",
       "    </tr>\n",
       "  </thead>\n",
       "  <tbody>\n",
       "    <tr>\n",
       "      <th>82</th>\n",
       "      <td>Kanda Residences Pool Villas                  ...</td>\n",
       "      <td>196.6965</td>\n",
       "      <td>383</td>\n",
       "      <td>[visited, many, time, year, course, covid, per...</td>\n",
       "      <td>negative</td>\n",
       "    </tr>\n",
       "    <tr>\n",
       "      <th>158</th>\n",
       "      <td>Nora Buri Resort &amp; Spa                        ...</td>\n",
       "      <td>124.7883</td>\n",
       "      <td>1892</td>\n",
       "      <td>[stayed, hillside, villa, private, pool, nothi...</td>\n",
       "      <td>negative</td>\n",
       "    </tr>\n",
       "    <tr>\n",
       "      <th>234</th>\n",
       "      <td>Novotel Bangkok Sukhumvit 4                   ...</td>\n",
       "      <td>85.2033</td>\n",
       "      <td>449</td>\n",
       "      <td>[khun, kook, provide, late, check, departure, ...</td>\n",
       "      <td>negative</td>\n",
       "    </tr>\n",
       "    <tr>\n",
       "      <th>288</th>\n",
       "      <td>Khaolak Paradise Resort                       ...</td>\n",
       "      <td>83.0921</td>\n",
       "      <td>298</td>\n",
       "      <td>[really, place, 36, room, set, thatched, roof,...</td>\n",
       "      <td>negative</td>\n",
       "    </tr>\n",
       "    <tr>\n",
       "      <th>355</th>\n",
       "      <td>Patong Bay Residence                          ...</td>\n",
       "      <td>30.7853</td>\n",
       "      <td>221</td>\n",
       "      <td>[found, strange, kitchen, microwave, kitchen, ...</td>\n",
       "      <td>negative</td>\n",
       "    </tr>\n",
       "    <tr>\n",
       "      <th>...</th>\n",
       "      <td>...</td>\n",
       "      <td>...</td>\n",
       "      <td>...</td>\n",
       "      <td>...</td>\n",
       "      <td>...</td>\n",
       "    </tr>\n",
       "    <tr>\n",
       "      <th>4249</th>\n",
       "      <td>Al Kawakeeb Hotel                             ...</td>\n",
       "      <td>0.0000</td>\n",
       "      <td>7</td>\n",
       "      <td>[illiterate, staff, reception, irresponsible, ...</td>\n",
       "      <td>negative</td>\n",
       "    </tr>\n",
       "    <tr>\n",
       "      <th>4251</th>\n",
       "      <td>Maison Privee - Five Palm Jumeirah Residences ...</td>\n",
       "      <td>0.0000</td>\n",
       "      <td>5</td>\n",
       "      <td>[maison, priveits, villa, 41, palm, know, pand...</td>\n",
       "      <td>negative</td>\n",
       "    </tr>\n",
       "    <tr>\n",
       "      <th>4253</th>\n",
       "      <td>One Perfect Stay Jumeirah Heights             ...</td>\n",
       "      <td>0.0000</td>\n",
       "      <td>4</td>\n",
       "      <td>[son, arrived, stunk, badly, mold, mildew, flo...</td>\n",
       "      <td>negative</td>\n",
       "    </tr>\n",
       "    <tr>\n",
       "      <th>4256</th>\n",
       "      <td>Dream Inn Dubai Signature Villa               ...</td>\n",
       "      <td>0.0000</td>\n",
       "      <td>8</td>\n",
       "      <td>[reason, 1, bad, customer, service, 2, picture...</td>\n",
       "      <td>negative</td>\n",
       "    </tr>\n",
       "    <tr>\n",
       "      <th>4261</th>\n",
       "      <td>Victoria Hotel                                ...</td>\n",
       "      <td>0.0000</td>\n",
       "      <td>8</td>\n",
       "      <td>[visiting, dubai, entire, experience, checkin,...</td>\n",
       "      <td>negative</td>\n",
       "    </tr>\n",
       "  </tbody>\n",
       "</table>\n",
       "<p>141 rows × 5 columns</p>\n",
       "</div>"
      ],
      "text/plain": [
       "                                             hotel_name  room_price(USD)  \\\n",
       "82    Kanda Residences Pool Villas                  ...         196.6965   \n",
       "158   Nora Buri Resort & Spa                        ...         124.7883   \n",
       "234   Novotel Bangkok Sukhumvit 4                   ...          85.2033   \n",
       "288   Khaolak Paradise Resort                       ...          83.0921   \n",
       "355   Patong Bay Residence                          ...          30.7853   \n",
       "...                                                 ...              ...   \n",
       "4249  Al Kawakeeb Hotel                             ...           0.0000   \n",
       "4251  Maison Privee - Five Palm Jumeirah Residences ...           0.0000   \n",
       "4253  One Perfect Stay Jumeirah Heights             ...           0.0000   \n",
       "4256  Dream Inn Dubai Signature Villa               ...           0.0000   \n",
       "4261  Victoria Hotel                                ...           0.0000   \n",
       "\n",
       "      review_count                                       room_reviews  \\\n",
       "82             383  [visited, many, time, year, course, covid, per...   \n",
       "158           1892  [stayed, hillside, villa, private, pool, nothi...   \n",
       "234            449  [khun, kook, provide, late, check, departure, ...   \n",
       "288            298  [really, place, 36, room, set, thatched, roof,...   \n",
       "355            221  [found, strange, kitchen, microwave, kitchen, ...   \n",
       "...            ...                                                ...   \n",
       "4249             7  [illiterate, staff, reception, irresponsible, ...   \n",
       "4251             5  [maison, priveits, villa, 41, palm, know, pand...   \n",
       "4253             4  [son, arrived, stunk, badly, mold, mildew, flo...   \n",
       "4256             8  [reason, 1, bad, customer, service, 2, picture...   \n",
       "4261             8  [visiting, dubai, entire, experience, checkin,...   \n",
       "\n",
       "     sentiment  \n",
       "82    negative  \n",
       "158   negative  \n",
       "234   negative  \n",
       "288   negative  \n",
       "355   negative  \n",
       "...        ...  \n",
       "4249  negative  \n",
       "4251  negative  \n",
       "4253  negative  \n",
       "4256  negative  \n",
       "4261  negative  \n",
       "\n",
       "[141 rows x 5 columns]"
      ]
     },
     "execution_count": 93,
     "metadata": {},
     "output_type": "execute_result"
    }
   ],
   "source": [
    "df"
   ]
  },
  {
   "cell_type": "code",
   "execution_count": null,
   "metadata": {},
   "outputs": [],
   "source": [
    "df_new_dataset = df_tripadvisor_room[(df_tripadvisor_room['sentiment']!='neutral')]"
   ]
  },
  {
   "cell_type": "code",
   "execution_count": null,
   "metadata": {},
   "outputs": [
    {
     "data": {
      "text/html": [
       "<div>\n",
       "<style scoped>\n",
       "    .dataframe tbody tr th:only-of-type {\n",
       "        vertical-align: middle;\n",
       "    }\n",
       "\n",
       "    .dataframe tbody tr th {\n",
       "        vertical-align: top;\n",
       "    }\n",
       "\n",
       "    .dataframe thead th {\n",
       "        text-align: right;\n",
       "    }\n",
       "</style>\n",
       "<table border=\"1\" class=\"dataframe\">\n",
       "  <thead>\n",
       "    <tr style=\"text-align: right;\">\n",
       "      <th></th>\n",
       "      <th>hotel_name</th>\n",
       "      <th>room_price(USD)</th>\n",
       "      <th>review_count</th>\n",
       "      <th>room_reviews</th>\n",
       "      <th>sentiment</th>\n",
       "    </tr>\n",
       "  </thead>\n",
       "  <tbody>\n",
       "    <tr>\n",
       "      <th>0</th>\n",
       "      <td>Sala Samui Choengmon Beach Resort             ...</td>\n",
       "      <td>417.2714</td>\n",
       "      <td>2820</td>\n",
       "      <td>[breakfast, excellent, pool, really, nice, bea...</td>\n",
       "      <td>positive</td>\n",
       "    </tr>\n",
       "    <tr>\n",
       "      <th>1</th>\n",
       "      <td>Napasai A Belmond Hotel Koh Samui             ...</td>\n",
       "      <td>269.9606</td>\n",
       "      <td>1191</td>\n",
       "      <td>[perfect, view, beach]</td>\n",
       "      <td>positive</td>\n",
       "    </tr>\n",
       "    <tr>\n",
       "      <th>4</th>\n",
       "      <td>Sheraton Samui Resort                         ...</td>\n",
       "      <td>171.2256</td>\n",
       "      <td>1006</td>\n",
       "      <td>[wife, stayed, 3, night, really, enjoyed, ever...</td>\n",
       "      <td>positive</td>\n",
       "    </tr>\n",
       "    <tr>\n",
       "      <th>5</th>\n",
       "      <td>Sala Samui Chaweng Beach Resort               ...</td>\n",
       "      <td>239.2754</td>\n",
       "      <td>968</td>\n",
       "      <td>[prefer, private, room, nice, view, go, oceanf...</td>\n",
       "      <td>positive</td>\n",
       "    </tr>\n",
       "    <tr>\n",
       "      <th>6</th>\n",
       "      <td>Phuket Marriott Resort And Spa Nai Yang Beach ...</td>\n",
       "      <td>159.5503</td>\n",
       "      <td>1474</td>\n",
       "      <td>[hotel, near, airport, service, excellent, pat...</td>\n",
       "      <td>positive</td>\n",
       "    </tr>\n",
       "    <tr>\n",
       "      <th>...</th>\n",
       "      <td>...</td>\n",
       "      <td>...</td>\n",
       "      <td>...</td>\n",
       "      <td>...</td>\n",
       "      <td>...</td>\n",
       "    </tr>\n",
       "    <tr>\n",
       "      <th>4256</th>\n",
       "      <td>Dream Inn Dubai Signature Villa               ...</td>\n",
       "      <td>0.0000</td>\n",
       "      <td>8</td>\n",
       "      <td>[reason, 1, bad, customer, service, 2, picture...</td>\n",
       "      <td>negative</td>\n",
       "    </tr>\n",
       "    <tr>\n",
       "      <th>4257</th>\n",
       "      <td>Oyo 180 Evin Hotel                            ...</td>\n",
       "      <td>0.0000</td>\n",
       "      <td>3</td>\n",
       "      <td>[crowded, noisy, area, staff, welcoming, hotel...</td>\n",
       "      <td>positive</td>\n",
       "    </tr>\n",
       "    <tr>\n",
       "      <th>4258</th>\n",
       "      <td>Al Ashrafia Holiday Homes                     ...</td>\n",
       "      <td>0.0000</td>\n",
       "      <td>4</td>\n",
       "      <td>[city, walk, burj, khalifa, trip, business, in...</td>\n",
       "      <td>positive</td>\n",
       "    </tr>\n",
       "    <tr>\n",
       "      <th>4259</th>\n",
       "      <td>Hi Guests Vacation Homes - Park Island Sanibel...</td>\n",
       "      <td>0.0000</td>\n",
       "      <td>2</td>\n",
       "      <td>[sanibel, issue, higuests, vacation, home, bur...</td>\n",
       "      <td>positive</td>\n",
       "    </tr>\n",
       "    <tr>\n",
       "      <th>4261</th>\n",
       "      <td>Victoria Hotel                                ...</td>\n",
       "      <td>0.0000</td>\n",
       "      <td>8</td>\n",
       "      <td>[visiting, dubai, entire, experience, checkin,...</td>\n",
       "      <td>negative</td>\n",
       "    </tr>\n",
       "  </tbody>\n",
       "</table>\n",
       "<p>2865 rows × 5 columns</p>\n",
       "</div>"
      ],
      "text/plain": [
       "                                             hotel_name  room_price(USD)  \\\n",
       "0     Sala Samui Choengmon Beach Resort             ...         417.2714   \n",
       "1     Napasai A Belmond Hotel Koh Samui             ...         269.9606   \n",
       "4     Sheraton Samui Resort                         ...         171.2256   \n",
       "5     Sala Samui Chaweng Beach Resort               ...         239.2754   \n",
       "6     Phuket Marriott Resort And Spa Nai Yang Beach ...         159.5503   \n",
       "...                                                 ...              ...   \n",
       "4256  Dream Inn Dubai Signature Villa               ...           0.0000   \n",
       "4257  Oyo 180 Evin Hotel                            ...           0.0000   \n",
       "4258  Al Ashrafia Holiday Homes                     ...           0.0000   \n",
       "4259  Hi Guests Vacation Homes - Park Island Sanibel...           0.0000   \n",
       "4261  Victoria Hotel                                ...           0.0000   \n",
       "\n",
       "      review_count                                       room_reviews  \\\n",
       "0             2820  [breakfast, excellent, pool, really, nice, bea...   \n",
       "1             1191                             [perfect, view, beach]   \n",
       "4             1006  [wife, stayed, 3, night, really, enjoyed, ever...   \n",
       "5              968  [prefer, private, room, nice, view, go, oceanf...   \n",
       "6             1474  [hotel, near, airport, service, excellent, pat...   \n",
       "...            ...                                                ...   \n",
       "4256             8  [reason, 1, bad, customer, service, 2, picture...   \n",
       "4257             3  [crowded, noisy, area, staff, welcoming, hotel...   \n",
       "4258             4  [city, walk, burj, khalifa, trip, business, in...   \n",
       "4259             2  [sanibel, issue, higuests, vacation, home, bur...   \n",
       "4261             8  [visiting, dubai, entire, experience, checkin,...   \n",
       "\n",
       "     sentiment  \n",
       "0     positive  \n",
       "1     positive  \n",
       "4     positive  \n",
       "5     positive  \n",
       "6     positive  \n",
       "...        ...  \n",
       "4256  negative  \n",
       "4257  positive  \n",
       "4258  positive  \n",
       "4259  positive  \n",
       "4261  negative  \n",
       "\n",
       "[2865 rows x 5 columns]"
      ]
     },
     "execution_count": 95,
     "metadata": {},
     "output_type": "execute_result"
    }
   ],
   "source": [
    "df_new_dataset"
   ]
  },
  {
   "cell_type": "code",
   "execution_count": null,
   "metadata": {},
   "outputs": [],
   "source": [
    "df_1 = df_new_dataset[df_new_dataset['room_price(USD)']== 0]"
   ]
  },
  {
   "cell_type": "code",
   "execution_count": null,
   "metadata": {},
   "outputs": [
    {
     "data": {
      "text/html": [
       "<div>\n",
       "<style scoped>\n",
       "    .dataframe tbody tr th:only-of-type {\n",
       "        vertical-align: middle;\n",
       "    }\n",
       "\n",
       "    .dataframe tbody tr th {\n",
       "        vertical-align: top;\n",
       "    }\n",
       "\n",
       "    .dataframe thead th {\n",
       "        text-align: right;\n",
       "    }\n",
       "</style>\n",
       "<table border=\"1\" class=\"dataframe\">\n",
       "  <thead>\n",
       "    <tr style=\"text-align: right;\">\n",
       "      <th></th>\n",
       "      <th>hotel_name</th>\n",
       "      <th>room_price(USD)</th>\n",
       "      <th>review_count</th>\n",
       "      <th>room_reviews</th>\n",
       "      <th>sentiment</th>\n",
       "    </tr>\n",
       "  </thead>\n",
       "  <tbody>\n",
       "    <tr>\n",
       "      <th>28</th>\n",
       "      <td>Hua Hin Marriott Resort &amp; Spa                 ...</td>\n",
       "      <td>0.0</td>\n",
       "      <td>3230</td>\n",
       "      <td>[love, everything, hotel, facility, great, kid...</td>\n",
       "      <td>positive</td>\n",
       "    </tr>\n",
       "    <tr>\n",
       "      <th>29</th>\n",
       "      <td>Anantara Mai Khao Phuket Villas               ...</td>\n",
       "      <td>0.0</td>\n",
       "      <td>2872</td>\n",
       "      <td>[calm, relaxing, atmosphere, nice, beach, area...</td>\n",
       "      <td>positive</td>\n",
       "    </tr>\n",
       "    <tr>\n",
       "      <th>1346</th>\n",
       "      <td>Ten Moons Lipe Resort                         ...</td>\n",
       "      <td>0.0</td>\n",
       "      <td>903</td>\n",
       "      <td>[great, location]</td>\n",
       "      <td>positive</td>\n",
       "    </tr>\n",
       "    <tr>\n",
       "      <th>1347</th>\n",
       "      <td>The Okura Prestige Bangkok                    ...</td>\n",
       "      <td>0.0</td>\n",
       "      <td>4382</td>\n",
       "      <td>[outstanding]</td>\n",
       "      <td>positive</td>\n",
       "    </tr>\n",
       "    <tr>\n",
       "      <th>1348</th>\n",
       "      <td>Banyan Tree Bangkok                           ...</td>\n",
       "      <td>0.0</td>\n",
       "      <td>12153</td>\n",
       "      <td>[w, pleasant, stay, banyan, tree, bangkok, khu...</td>\n",
       "      <td>positive</td>\n",
       "    </tr>\n",
       "    <tr>\n",
       "      <th>...</th>\n",
       "      <td>...</td>\n",
       "      <td>...</td>\n",
       "      <td>...</td>\n",
       "      <td>...</td>\n",
       "      <td>...</td>\n",
       "    </tr>\n",
       "    <tr>\n",
       "      <th>4256</th>\n",
       "      <td>Dream Inn Dubai Signature Villa               ...</td>\n",
       "      <td>0.0</td>\n",
       "      <td>8</td>\n",
       "      <td>[reason, 1, bad, customer, service, 2, picture...</td>\n",
       "      <td>negative</td>\n",
       "    </tr>\n",
       "    <tr>\n",
       "      <th>4257</th>\n",
       "      <td>Oyo 180 Evin Hotel                            ...</td>\n",
       "      <td>0.0</td>\n",
       "      <td>3</td>\n",
       "      <td>[crowded, noisy, area, staff, welcoming, hotel...</td>\n",
       "      <td>positive</td>\n",
       "    </tr>\n",
       "    <tr>\n",
       "      <th>4258</th>\n",
       "      <td>Al Ashrafia Holiday Homes                     ...</td>\n",
       "      <td>0.0</td>\n",
       "      <td>4</td>\n",
       "      <td>[city, walk, burj, khalifa, trip, business, in...</td>\n",
       "      <td>positive</td>\n",
       "    </tr>\n",
       "    <tr>\n",
       "      <th>4259</th>\n",
       "      <td>Hi Guests Vacation Homes - Park Island Sanibel...</td>\n",
       "      <td>0.0</td>\n",
       "      <td>2</td>\n",
       "      <td>[sanibel, issue, higuests, vacation, home, bur...</td>\n",
       "      <td>positive</td>\n",
       "    </tr>\n",
       "    <tr>\n",
       "      <th>4261</th>\n",
       "      <td>Victoria Hotel                                ...</td>\n",
       "      <td>0.0</td>\n",
       "      <td>8</td>\n",
       "      <td>[visiting, dubai, entire, experience, checkin,...</td>\n",
       "      <td>negative</td>\n",
       "    </tr>\n",
       "  </tbody>\n",
       "</table>\n",
       "<p>715 rows × 5 columns</p>\n",
       "</div>"
      ],
      "text/plain": [
       "                                             hotel_name  room_price(USD)  \\\n",
       "28    Hua Hin Marriott Resort & Spa                 ...              0.0   \n",
       "29    Anantara Mai Khao Phuket Villas               ...              0.0   \n",
       "1346  Ten Moons Lipe Resort                         ...              0.0   \n",
       "1347  The Okura Prestige Bangkok                    ...              0.0   \n",
       "1348  Banyan Tree Bangkok                           ...              0.0   \n",
       "...                                                 ...              ...   \n",
       "4256  Dream Inn Dubai Signature Villa               ...              0.0   \n",
       "4257  Oyo 180 Evin Hotel                            ...              0.0   \n",
       "4258  Al Ashrafia Holiday Homes                     ...              0.0   \n",
       "4259  Hi Guests Vacation Homes - Park Island Sanibel...              0.0   \n",
       "4261  Victoria Hotel                                ...              0.0   \n",
       "\n",
       "      review_count                                       room_reviews  \\\n",
       "28            3230  [love, everything, hotel, facility, great, kid...   \n",
       "29            2872  [calm, relaxing, atmosphere, nice, beach, area...   \n",
       "1346           903                                  [great, location]   \n",
       "1347          4382                                      [outstanding]   \n",
       "1348         12153  [w, pleasant, stay, banyan, tree, bangkok, khu...   \n",
       "...            ...                                                ...   \n",
       "4256             8  [reason, 1, bad, customer, service, 2, picture...   \n",
       "4257             3  [crowded, noisy, area, staff, welcoming, hotel...   \n",
       "4258             4  [city, walk, burj, khalifa, trip, business, in...   \n",
       "4259             2  [sanibel, issue, higuests, vacation, home, bur...   \n",
       "4261             8  [visiting, dubai, entire, experience, checkin,...   \n",
       "\n",
       "     sentiment  \n",
       "28    positive  \n",
       "29    positive  \n",
       "1346  positive  \n",
       "1347  positive  \n",
       "1348  positive  \n",
       "...        ...  \n",
       "4256  negative  \n",
       "4257  positive  \n",
       "4258  positive  \n",
       "4259  positive  \n",
       "4261  negative  \n",
       "\n",
       "[715 rows x 5 columns]"
      ]
     },
     "execution_count": 97,
     "metadata": {},
     "output_type": "execute_result"
    }
   ],
   "source": [
    "df_1"
   ]
  },
  {
   "cell_type": "code",
   "execution_count": null,
   "metadata": {},
   "outputs": [],
   "source": [
    "df_neutral = df_tripadvisor_room[(df_tripadvisor_room['sentiment'] == 'neutral')  & (df_tripadvisor_room['room_reviews'])]"
   ]
  },
  {
   "cell_type": "code",
   "execution_count": null,
   "metadata": {},
   "outputs": [],
   "source": [
    "# dataframe with price & count != 0\n",
    "df_tripadvisor_reviews = df_tripadvisor_room[(df_tripadvisor_room['room_price(USD)'] != 0)  & (df_tripadvisor_room['review_count']!=0)]"
   ]
  },
  {
   "cell_type": "code",
   "execution_count": null,
   "metadata": {},
   "outputs": [
    {
     "data": {
      "text/plain": [
       "(3036, 5)"
      ]
     },
     "execution_count": 100,
     "metadata": {},
     "output_type": "execute_result"
    }
   ],
   "source": [
    "df_tripadvisor_reviews.shape"
   ]
  },
  {
   "cell_type": "code",
   "execution_count": null,
   "metadata": {},
   "outputs": [],
   "source": [
    "# Set the schema to your course name and the table_name variable to 'carriers_' + your initials/group number\n",
    "\n",
    "schema = 'cgn_analytics_23_3' \n",
    "table_name = 'tripadvisor_reviews_gp4'\n"
   ]
  },
  {
   "cell_type": "code",
   "execution_count": null,
   "metadata": {},
   "outputs": [],
   "source": [
    "# we need psycopg2 for raising possible error message\n",
    "from sql_functions import get_engine \n",
    "engine = get_engine()\n",
    "# Import psycopg2\n",
    "import psycopg2"
   ]
  },
  {
   "cell_type": "code",
   "execution_count": null,
   "metadata": {},
   "outputs": [
    {
     "name": "stdout",
     "output_type": "stream",
     "text": [
      "The tripadvisor_reviews_gp4 table was imported successfully.\n"
     ]
    }
   ],
   "source": [
    "# Write records stored in a dataframe to SQL database\n",
    "if engine!=None:\n",
    "    try:\n",
    "        df_tripadvisor_reviews.to_sql(name=table_name, # Name of SQL table variable\n",
    "                        con=engine, # Engine or connection\n",
    "                        schema=schema, # your class schema variable\n",
    "                        if_exists='replace', # Drop the table before inserting new values \n",
    "                        index=False, # Write DataFrame index as a column\n",
    "                        chunksize=5000, # Specify the number of rows in each batch to be written at a time\n",
    "                        method='multi') # Pass multiple values in a single INSERT clause\n",
    "        print(f\"The {table_name} table was imported successfully.\")\n",
    "    # Error handling\n",
    "    except (Exception, psycopg2.DatabaseError) as error:\n",
    "        print(error)\n",
    "        engine = None\n",
    "else:\n",
    "    print('No engine')"
   ]
  },
  {
   "cell_type": "markdown",
   "metadata": {},
   "source": [
    "### Create a dictionary of words "
   ]
  },
  {
   "cell_type": "code",
   "execution_count": null,
   "metadata": {},
   "outputs": [],
   "source": [
    "# classification of comments - create list for services for reviews \n",
    " \n",
    "Accomodation =['pool', 'worst','disappointing', 'room', 'kitchen', 'toilet', 'uncomfortable']\n",
    "Concierge    =['service','staff', 'internet', 'a.c.', 'unfortunately', 'late', 'check', 'checkin', 'rudely', 'facility', 'pleasant','terrible', 'damaged','checking', 'housekeeper', 'stress', 'bad', 'horrible', 'negative', 'cheap', 'ugly']\n",
    "Dining_Food  =['food', 'buffet', 'restaurant', 'cafeteria', 'menu', 'quality', 'strange', 'resort']\n"
   ]
  },
  {
   "cell_type": "code",
   "execution_count": null,
   "metadata": {},
   "outputs": [],
   "source": [
    "# find about which category customers have complaint from negative semtiment \n",
    "df_negative_sentiment = df_tripadvisor_reviews[df_tripadvisor_reviews['sentiment']=='negative']"
   ]
  },
  {
   "cell_type": "code",
   "execution_count": null,
   "metadata": {},
   "outputs": [],
   "source": [
    "# function to classify the comment\n",
    "def classify_comments(comment):\n",
    "    if any(word in comment for word in Concierge ):\n",
    "        return 'Concierge'\n",
    "    elif any(word in comment for word in Dining_Food):\n",
    "        return 'Dining_Food'\n",
    "    elif any(word in comment for word in Accomodation):\n",
    "        return 'Accomodation'\n",
    "    else:\n",
    "        return 'Other'\n"
   ]
  },
  {
   "cell_type": "code",
   "execution_count": null,
   "metadata": {},
   "outputs": [
    {
     "name": "stderr",
     "output_type": "stream",
     "text": [
      "/var/folders/fj/hxf26m1d519gzxl6zq1hqgmm0000gn/T/ipykernel_4433/1855975907.py:2: SettingWithCopyWarning: \n",
      "A value is trying to be set on a copy of a slice from a DataFrame.\n",
      "Try using .loc[row_indexer,col_indexer] = value instead\n",
      "\n",
      "See the caveats in the documentation: https://pandas.pydata.org/pandas-docs/stable/user_guide/indexing.html#returning-a-view-versus-a-copy\n",
      "  df_negative_sentiment.loc[:, 'category'] = df_negative_sentiment['room_reviews'].apply(classify_comments)\n"
     ]
    }
   ],
   "source": [
    "# apply function\n",
    "df_negative_sentiment.loc[:, 'category'] = df_negative_sentiment['room_reviews'].apply(classify_comments)\n"
   ]
  },
  {
   "cell_type": "code",
   "execution_count": null,
   "metadata": {},
   "outputs": [
    {
     "data": {
      "text/html": [
       "<div>\n",
       "<style scoped>\n",
       "    .dataframe tbody tr th:only-of-type {\n",
       "        vertical-align: middle;\n",
       "    }\n",
       "\n",
       "    .dataframe tbody tr th {\n",
       "        vertical-align: top;\n",
       "    }\n",
       "\n",
       "    .dataframe thead th {\n",
       "        text-align: right;\n",
       "    }\n",
       "</style>\n",
       "<table border=\"1\" class=\"dataframe\">\n",
       "  <thead>\n",
       "    <tr style=\"text-align: right;\">\n",
       "      <th></th>\n",
       "      <th>hotel_name</th>\n",
       "      <th>room_price(USD)</th>\n",
       "      <th>review_count</th>\n",
       "      <th>room_reviews</th>\n",
       "      <th>sentiment</th>\n",
       "      <th>category</th>\n",
       "    </tr>\n",
       "  </thead>\n",
       "  <tbody>\n",
       "    <tr>\n",
       "      <th>82</th>\n",
       "      <td>Kanda Residences Pool Villas                  ...</td>\n",
       "      <td>196.6965</td>\n",
       "      <td>383</td>\n",
       "      <td>[visited, many, time, year, course, covid, per...</td>\n",
       "      <td>negative</td>\n",
       "      <td>Accomodation</td>\n",
       "    </tr>\n",
       "    <tr>\n",
       "      <th>158</th>\n",
       "      <td>Nora Buri Resort &amp; Spa                        ...</td>\n",
       "      <td>124.7883</td>\n",
       "      <td>1892</td>\n",
       "      <td>[stayed, hillside, villa, private, pool, nothi...</td>\n",
       "      <td>negative</td>\n",
       "      <td>Accomodation</td>\n",
       "    </tr>\n",
       "    <tr>\n",
       "      <th>234</th>\n",
       "      <td>Novotel Bangkok Sukhumvit 4                   ...</td>\n",
       "      <td>85.2033</td>\n",
       "      <td>449</td>\n",
       "      <td>[khun, kook, provide, late, check, departure, ...</td>\n",
       "      <td>negative</td>\n",
       "      <td>Concierge</td>\n",
       "    </tr>\n",
       "    <tr>\n",
       "      <th>288</th>\n",
       "      <td>Khaolak Paradise Resort                       ...</td>\n",
       "      <td>83.0921</td>\n",
       "      <td>298</td>\n",
       "      <td>[really, place, 36, room, set, thatched, roof,...</td>\n",
       "      <td>negative</td>\n",
       "      <td>Accomodation</td>\n",
       "    </tr>\n",
       "    <tr>\n",
       "      <th>355</th>\n",
       "      <td>Patong Bay Residence                          ...</td>\n",
       "      <td>30.7853</td>\n",
       "      <td>221</td>\n",
       "      <td>[found, strange, kitchen, microwave, kitchen, ...</td>\n",
       "      <td>negative</td>\n",
       "      <td>Dining_Food</td>\n",
       "    </tr>\n",
       "  </tbody>\n",
       "</table>\n",
       "</div>"
      ],
      "text/plain": [
       "                                            hotel_name  room_price(USD)  \\\n",
       "82   Kanda Residences Pool Villas                  ...         196.6965   \n",
       "158  Nora Buri Resort & Spa                        ...         124.7883   \n",
       "234  Novotel Bangkok Sukhumvit 4                   ...          85.2033   \n",
       "288  Khaolak Paradise Resort                       ...          83.0921   \n",
       "355  Patong Bay Residence                          ...          30.7853   \n",
       "\n",
       "     review_count                                       room_reviews  \\\n",
       "82            383  [visited, many, time, year, course, covid, per...   \n",
       "158          1892  [stayed, hillside, villa, private, pool, nothi...   \n",
       "234           449  [khun, kook, provide, late, check, departure, ...   \n",
       "288           298  [really, place, 36, room, set, thatched, roof,...   \n",
       "355           221  [found, strange, kitchen, microwave, kitchen, ...   \n",
       "\n",
       "    sentiment      category  \n",
       "82   negative  Accomodation  \n",
       "158  negative  Accomodation  \n",
       "234  negative     Concierge  \n",
       "288  negative  Accomodation  \n",
       "355  negative   Dining_Food  "
      ]
     },
     "execution_count": 129,
     "metadata": {},
     "output_type": "execute_result"
    }
   ],
   "source": [
    "df_negative_sentiment.head()"
   ]
  },
  {
   "cell_type": "code",
   "execution_count": null,
   "metadata": {},
   "outputs": [
    {
     "data": {
      "text/plain": [
       "Concierge       32\n",
       "Accomodation    15\n",
       "Other            7\n",
       "Dining_Food      5\n",
       "Name: category, dtype: int64"
      ]
     },
     "execution_count": 130,
     "metadata": {},
     "output_type": "execute_result"
    }
   ],
   "source": [
    "df_negative_sentiment['category'].value_counts()"
   ]
  },
  {
   "cell_type": "code",
   "execution_count": null,
   "metadata": {},
   "outputs": [],
   "source": [
    "import matplotlib.pyplot as plt"
   ]
  },
  {
   "cell_type": "code",
   "execution_count": null,
   "metadata": {},
   "outputs": [
    {
     "name": "stderr",
     "output_type": "stream",
     "text": [
      "/var/folders/fj/hxf26m1d519gzxl6zq1hqgmm0000gn/T/ipykernel_4433/1114352035.py:2: MatplotlibDeprecationWarning: The seaborn styles shipped by Matplotlib are deprecated since 3.6, as they no longer correspond to the styles shipped by seaborn. However, they will remain available as 'seaborn-v0_8-<style>'. Alternatively, directly use the seaborn API instead.\n",
      "  plt.style.use('seaborn-deep')\n"
     ]
    },
    {
     "data": {
      "image/png": "[encoded data removed]",
      "text/plain": [
       "<Figure size 600x1200 with 1 Axes>"
      ]
     },
     "metadata": {},
     "output_type": "display_data"
    }
   ],
   "source": [
    "# Use predefined style\n",
    "plt.style.use('seaborn-deep') \n",
    "\n",
    "# Set figure size\n",
    "plt.figure(figsize=(6, 12))\n",
    "\n",
    "# Create pie-chart which shows percentage of observations in each service  category\n",
    "# 1. Define x-value - we want to get the count of rows for each value in the column using .value_counts()\n",
    "x = df_negative_sentiment['category'].value_counts(sort=False)\n",
    "# 2. Define labels\n",
    "mylabels = ['Accomodation', 'Concierge', 'Dining_Food', 'Other']\n",
    "# 3. Plot pie chart for variable x, percentage values should be displayed in certain distance \n",
    "# between center of pie slice and start of the text as well as in certain fontsize.\n",
    "plt.pie(x, autopct='%1.1f%%', pctdistance=0.5, textprops={'fontsize': 12})\n",
    "\n",
    "# Set title\n",
    "plt.title(\"Negative Reviews\", fontsize = 15)\n",
    "\n",
    "# Create legend\n",
    "plt.legend(mylabels, title='Categories')#, loc = 'upper right')\n",
    "\n",
    "# Show graphicx = df_negative_sentiment['category'].value_counts()\n",
    "plt.show()"
   ]
  },
  {
   "cell_type": "markdown",
   "metadata": {},
   "source": [
    "### Distribution between positive and negative reviews"
   ]
  },
  {
   "cell_type": "code",
   "execution_count": null,
   "metadata": {},
   "outputs": [
    {
     "data": {
      "text/plain": [
       "positive    2091\n",
       "neutral      886\n",
       "negative      59\n",
       "Name: sentiment, dtype: int64"
      ]
     },
     "execution_count": 112,
     "metadata": {},
     "output_type": "execute_result"
    }
   ],
   "source": [
    "df_tripadvisor_reviews['sentiment'].value_counts()"
   ]
  },
  {
   "cell_type": "code",
   "execution_count": null,
   "metadata": {},
   "outputs": [
    {
     "name": "stderr",
     "output_type": "stream",
     "text": [
      "/var/folders/fj/hxf26m1d519gzxl6zq1hqgmm0000gn/T/ipykernel_4433/3893260453.py:2: MatplotlibDeprecationWarning: The seaborn styles shipped by Matplotlib are deprecated since 3.6, as they no longer correspond to the styles shipped by seaborn. However, they will remain available as 'seaborn-v0_8-<style>'. Alternatively, directly use the seaborn API instead.\n",
      "  plt.style.use('seaborn-deep')\n"
     ]
    },
    {
     "data": {
      "image/png": "[encoded data removed]",
      "text/plain": [
       "<Figure size 600x1200 with 1 Axes>"
      ]
     },
     "metadata": {},
     "output_type": "display_data"
    }
   ],
   "source": [
    "# Use predefined style\n",
    "plt.style.use('seaborn-deep') \n",
    "\n",
    "# Set figure size\n",
    "plt.figure(figsize=(6, 12))\n",
    "\n",
    "# Create pie-chart which shows percentage of observations in each service  category\n",
    "# 1. Define x-value - we want to get the count of rows for each value in the column using .value_counts()\n",
    "x = df_tripadvisor_reviews['sentiment'].value_counts(sort=False)\n",
    "# 2. Define labels\n",
    "mylabels = ['positive', 'negative', 'neutral']\n",
    "# 3. Plot pie chart for variable x, percentage values should be displayed in certain distance \n",
    "# between center of pie slice and start of the text as well as in certain fontsize.\n",
    "plt.pie(x, autopct='%1.1f%%', pctdistance=0.5, textprops={'fontsize': 12})\n",
    "\n",
    "# Set title\n",
    "plt.title(\"Sentiment Distribution\", fontsize = 15)\n",
    "\n",
    "# Create legend\n",
    "plt.legend(mylabels, title = 'Reviews', loc = 'upper right')\n",
    "\n",
    "# Show graphicx = df_tripadvisor_reviews['sentiment'].value_counts()\n",
    "plt.show()"
   ]
  },
  {
   "cell_type": "markdown",
   "metadata": {},
   "source": [
    "### Positive Reviews"
   ]
  },
  {
   "cell_type": "code",
   "execution_count": null,
   "metadata": {},
   "outputs": [],
   "source": [
    "df_positive_reviews = df_tripadvisor_reviews[df_tripadvisor_reviews['sentiment'] == 'positive']"
   ]
  },
  {
   "cell_type": "code",
   "execution_count": null,
   "metadata": {},
   "outputs": [
    {
     "data": {
      "text/html": [
       "<div>\n",
       "<style scoped>\n",
       "    .dataframe tbody tr th:only-of-type {\n",
       "        vertical-align: middle;\n",
       "    }\n",
       "\n",
       "    .dataframe tbody tr th {\n",
       "        vertical-align: top;\n",
       "    }\n",
       "\n",
       "    .dataframe thead th {\n",
       "        text-align: right;\n",
       "    }\n",
       "</style>\n",
       "<table border=\"1\" class=\"dataframe\">\n",
       "  <thead>\n",
       "    <tr style=\"text-align: right;\">\n",
       "      <th></th>\n",
       "      <th>hotel_name</th>\n",
       "      <th>room_price(USD)</th>\n",
       "      <th>review_count</th>\n",
       "      <th>room_reviews</th>\n",
       "      <th>sentiment</th>\n",
       "    </tr>\n",
       "  </thead>\n",
       "  <tbody>\n",
       "    <tr>\n",
       "      <th>0</th>\n",
       "      <td>Sala Samui Choengmon Beach Resort             ...</td>\n",
       "      <td>417.2714</td>\n",
       "      <td>2820</td>\n",
       "      <td>[breakfast, excellent, pool, really, nice, bea...</td>\n",
       "      <td>positive</td>\n",
       "    </tr>\n",
       "    <tr>\n",
       "      <th>1</th>\n",
       "      <td>Napasai A Belmond Hotel Koh Samui             ...</td>\n",
       "      <td>269.9606</td>\n",
       "      <td>1191</td>\n",
       "      <td>[perfect, view, beach]</td>\n",
       "      <td>positive</td>\n",
       "    </tr>\n",
       "    <tr>\n",
       "      <th>4</th>\n",
       "      <td>Sheraton Samui Resort                         ...</td>\n",
       "      <td>171.2256</td>\n",
       "      <td>1006</td>\n",
       "      <td>[wife, stayed, 3, night, really, enjoyed, ever...</td>\n",
       "      <td>positive</td>\n",
       "    </tr>\n",
       "    <tr>\n",
       "      <th>5</th>\n",
       "      <td>Sala Samui Chaweng Beach Resort               ...</td>\n",
       "      <td>239.2754</td>\n",
       "      <td>968</td>\n",
       "      <td>[prefer, private, room, nice, view, go, oceanf...</td>\n",
       "      <td>positive</td>\n",
       "    </tr>\n",
       "    <tr>\n",
       "      <th>6</th>\n",
       "      <td>Phuket Marriott Resort And Spa Nai Yang Beach ...</td>\n",
       "      <td>159.5503</td>\n",
       "      <td>1474</td>\n",
       "      <td>[hotel, near, airport, service, excellent, pat...</td>\n",
       "      <td>positive</td>\n",
       "    </tr>\n",
       "    <tr>\n",
       "      <th>...</th>\n",
       "      <td>...</td>\n",
       "      <td>...</td>\n",
       "      <td>...</td>\n",
       "      <td>...</td>\n",
       "      <td>...</td>\n",
       "    </tr>\n",
       "    <tr>\n",
       "      <th>3550</th>\n",
       "      <td>Aravi Hotel                                   ...</td>\n",
       "      <td>68.2955</td>\n",
       "      <td>23</td>\n",
       "      <td>[website, staff, helpful, understanding, noisy...</td>\n",
       "      <td>positive</td>\n",
       "    </tr>\n",
       "    <tr>\n",
       "      <th>3551</th>\n",
       "      <td>Royalton Hotel                                ...</td>\n",
       "      <td>29.4476</td>\n",
       "      <td>63</td>\n",
       "      <td>[close, union, metro, station, another, 5km, d...</td>\n",
       "      <td>positive</td>\n",
       "    </tr>\n",
       "    <tr>\n",
       "      <th>3554</th>\n",
       "      <td>Phoenix Hotel                                 ...</td>\n",
       "      <td>38.6386</td>\n",
       "      <td>56</td>\n",
       "      <td>[good, quality, room, toilet, everything, bad,...</td>\n",
       "      <td>positive</td>\n",
       "    </tr>\n",
       "    <tr>\n",
       "      <th>3690</th>\n",
       "      <td>Grand Square Stay Hotel Apartments            ...</td>\n",
       "      <td>46.9924</td>\n",
       "      <td>2</td>\n",
       "      <td>[verry, good, enjoy, muchhouse, keeping, sajee...</td>\n",
       "      <td>positive</td>\n",
       "    </tr>\n",
       "    <tr>\n",
       "      <th>3991</th>\n",
       "      <td>You &amp; Co                                      ...</td>\n",
       "      <td>37.4647</td>\n",
       "      <td>12</td>\n",
       "      <td>[suit, u, well, friendly, staff, comfortable, ...</td>\n",
       "      <td>positive</td>\n",
       "    </tr>\n",
       "  </tbody>\n",
       "</table>\n",
       "<p>2091 rows × 5 columns</p>\n",
       "</div>"
      ],
      "text/plain": [
       "                                             hotel_name  room_price(USD)  \\\n",
       "0     Sala Samui Choengmon Beach Resort             ...         417.2714   \n",
       "1     Napasai A Belmond Hotel Koh Samui             ...         269.9606   \n",
       "4     Sheraton Samui Resort                         ...         171.2256   \n",
       "5     Sala Samui Chaweng Beach Resort               ...         239.2754   \n",
       "6     Phuket Marriott Resort And Spa Nai Yang Beach ...         159.5503   \n",
       "...                                                 ...              ...   \n",
       "3550  Aravi Hotel                                   ...          68.2955   \n",
       "3551  Royalton Hotel                                ...          29.4476   \n",
       "3554  Phoenix Hotel                                 ...          38.6386   \n",
       "3690  Grand Square Stay Hotel Apartments            ...          46.9924   \n",
       "3991  You & Co                                      ...          37.4647   \n",
       "\n",
       "      review_count                                       room_reviews  \\\n",
       "0             2820  [breakfast, excellent, pool, really, nice, bea...   \n",
       "1             1191                             [perfect, view, beach]   \n",
       "4             1006  [wife, stayed, 3, night, really, enjoyed, ever...   \n",
       "5              968  [prefer, private, room, nice, view, go, oceanf...   \n",
       "6             1474  [hotel, near, airport, service, excellent, pat...   \n",
       "...            ...                                                ...   \n",
       "3550            23  [website, staff, helpful, understanding, noisy...   \n",
       "3551            63  [close, union, metro, station, another, 5km, d...   \n",
       "3554            56  [good, quality, room, toilet, everything, bad,...   \n",
       "3690             2  [verry, good, enjoy, muchhouse, keeping, sajee...   \n",
       "3991            12  [suit, u, well, friendly, staff, comfortable, ...   \n",
       "\n",
       "     sentiment  \n",
       "0     positive  \n",
       "1     positive  \n",
       "4     positive  \n",
       "5     positive  \n",
       "6     positive  \n",
       "...        ...  \n",
       "3550  positive  \n",
       "3551  positive  \n",
       "3554  positive  \n",
       "3690  positive  \n",
       "3991  positive  \n",
       "\n",
       "[2091 rows x 5 columns]"
      ]
     },
     "execution_count": 116,
     "metadata": {},
     "output_type": "execute_result"
    }
   ],
   "source": [
    "df_positive_reviews"
   ]
  },
  {
   "cell_type": "code",
   "execution_count": null,
   "metadata": {},
   "outputs": [],
   "source": [
    "# classification of comments - create list for services for reviews \n",
    " \n",
    "Accomodation_service =['excellent', 'room', 'kitchen', 'amazing', 'comfortable', 'clean']\n",
    "Concierge_service    =['service','staff', 'good', 'facility', 'recommend', 'enjoyed', 'perfect', 'great', 'friendly', 'helpful', 'arrival','checkin', 'checkout', 'check', 'nice', 'smile', 'upgraded']\n",
    "Dining_Food_service  =['food', 'buffet', 'restaurant', 'cafeteria', 'menu', 'quality', 'delicious', 'resort']\n"
   ]
  },
  {
   "cell_type": "code",
   "execution_count": null,
   "metadata": {},
   "outputs": [],
   "source": [
    "def classify_reviews(comment):\n",
    "    if any(word in comment for word in Accomodation_service):\n",
    "        return 'Accomodation'\n",
    "    elif any(word in comment for word in Concierge_service):\n",
    "        return 'Concierge'\n",
    "    elif any(word in comment for word in Dining_Food_service):\n",
    "        return 'Dining_Food'\n",
    "    else:\n",
    "        return 'Other'"
   ]
  },
  {
   "cell_type": "code",
   "execution_count": null,
   "metadata": {},
   "outputs": [
    {
     "name": "stderr",
     "output_type": "stream",
     "text": [
      "/var/folders/fj/hxf26m1d519gzxl6zq1hqgmm0000gn/T/ipykernel_4433/3417751778.py:1: SettingWithCopyWarning: \n",
      "A value is trying to be set on a copy of a slice from a DataFrame.\n",
      "Try using .loc[row_indexer,col_indexer] = value instead\n",
      "\n",
      "See the caveats in the documentation: https://pandas.pydata.org/pandas-docs/stable/user_guide/indexing.html#returning-a-view-versus-a-copy\n",
      "  df_positive_reviews['category']= df_positive_reviews['room_reviews'].apply(classify_reviews)\n"
     ]
    }
   ],
   "source": [
    "df_positive_reviews['category']= df_positive_reviews['room_reviews'].apply(classify_reviews)"
   ]
  },
  {
   "cell_type": "code",
   "execution_count": null,
   "metadata": {},
   "outputs": [
    {
     "data": {
      "text/html": [
       "<div>\n",
       "<style scoped>\n",
       "    .dataframe tbody tr th:only-of-type {\n",
       "        vertical-align: middle;\n",
       "    }\n",
       "\n",
       "    .dataframe tbody tr th {\n",
       "        vertical-align: top;\n",
       "    }\n",
       "\n",
       "    .dataframe thead th {\n",
       "        text-align: right;\n",
       "    }\n",
       "</style>\n",
       "<table border=\"1\" class=\"dataframe\">\n",
       "  <thead>\n",
       "    <tr style=\"text-align: right;\">\n",
       "      <th></th>\n",
       "      <th>hotel_name</th>\n",
       "      <th>room_price(USD)</th>\n",
       "      <th>review_count</th>\n",
       "      <th>room_reviews</th>\n",
       "      <th>sentiment</th>\n",
       "      <th>category</th>\n",
       "    </tr>\n",
       "  </thead>\n",
       "  <tbody>\n",
       "    <tr>\n",
       "      <th>0</th>\n",
       "      <td>Sala Samui Choengmon Beach Resort             ...</td>\n",
       "      <td>417.2714</td>\n",
       "      <td>2820</td>\n",
       "      <td>[breakfast, excellent, pool, really, nice, bea...</td>\n",
       "      <td>positive</td>\n",
       "      <td>Accomodation</td>\n",
       "    </tr>\n",
       "    <tr>\n",
       "      <th>1</th>\n",
       "      <td>Napasai A Belmond Hotel Koh Samui             ...</td>\n",
       "      <td>269.9606</td>\n",
       "      <td>1191</td>\n",
       "      <td>[perfect, view, beach]</td>\n",
       "      <td>positive</td>\n",
       "      <td>Concierge</td>\n",
       "    </tr>\n",
       "    <tr>\n",
       "      <th>4</th>\n",
       "      <td>Sheraton Samui Resort                         ...</td>\n",
       "      <td>171.2256</td>\n",
       "      <td>1006</td>\n",
       "      <td>[wife, stayed, 3, night, really, enjoyed, ever...</td>\n",
       "      <td>positive</td>\n",
       "      <td>Accomodation</td>\n",
       "    </tr>\n",
       "    <tr>\n",
       "      <th>5</th>\n",
       "      <td>Sala Samui Chaweng Beach Resort               ...</td>\n",
       "      <td>239.2754</td>\n",
       "      <td>968</td>\n",
       "      <td>[prefer, private, room, nice, view, go, oceanf...</td>\n",
       "      <td>positive</td>\n",
       "      <td>Accomodation</td>\n",
       "    </tr>\n",
       "    <tr>\n",
       "      <th>6</th>\n",
       "      <td>Phuket Marriott Resort And Spa Nai Yang Beach ...</td>\n",
       "      <td>159.5503</td>\n",
       "      <td>1474</td>\n",
       "      <td>[hotel, near, airport, service, excellent, pat...</td>\n",
       "      <td>positive</td>\n",
       "      <td>Accomodation</td>\n",
       "    </tr>\n",
       "  </tbody>\n",
       "</table>\n",
       "</div>"
      ],
      "text/plain": [
       "                                          hotel_name  room_price(USD)  \\\n",
       "0  Sala Samui Choengmon Beach Resort             ...         417.2714   \n",
       "1  Napasai A Belmond Hotel Koh Samui             ...         269.9606   \n",
       "4  Sheraton Samui Resort                         ...         171.2256   \n",
       "5  Sala Samui Chaweng Beach Resort               ...         239.2754   \n",
       "6  Phuket Marriott Resort And Spa Nai Yang Beach ...         159.5503   \n",
       "\n",
       "   review_count                                       room_reviews sentiment  \\\n",
       "0          2820  [breakfast, excellent, pool, really, nice, bea...  positive   \n",
       "1          1191                             [perfect, view, beach]  positive   \n",
       "4          1006  [wife, stayed, 3, night, really, enjoyed, ever...  positive   \n",
       "5           968  [prefer, private, room, nice, view, go, oceanf...  positive   \n",
       "6          1474  [hotel, near, airport, service, excellent, pat...  positive   \n",
       "\n",
       "       category  \n",
       "0  Accomodation  \n",
       "1     Concierge  \n",
       "4  Accomodation  \n",
       "5  Accomodation  \n",
       "6  Accomodation  "
      ]
     },
     "execution_count": 166,
     "metadata": {},
     "output_type": "execute_result"
    }
   ],
   "source": [
    "df_positive_reviews.head()"
   ]
  },
  {
   "cell_type": "code",
   "execution_count": null,
   "metadata": {},
   "outputs": [
    {
     "data": {
      "text/plain": [
       "<bound method IndexOpsMixin.nunique of 0       [breakfast, excellent, pool, really, nice, bea...\n",
       "1                                  [perfect, view, beach]\n",
       "4       [wife, stayed, 3, night, really, enjoyed, ever...\n",
       "5       [prefer, private, room, nice, view, go, oceanf...\n",
       "6       [hotel, near, airport, service, excellent, pat...\n",
       "                              ...                        \n",
       "3550    [website, staff, helpful, understanding, noisy...\n",
       "3551    [close, union, metro, station, another, 5km, d...\n",
       "3554    [good, quality, room, toilet, everything, bad,...\n",
       "3690    [verry, good, enjoy, muchhouse, keeping, sajee...\n",
       "3991    [suit, u, well, friendly, staff, comfortable, ...\n",
       "Name: room_reviews, Length: 2091, dtype: object>"
      ]
     },
     "execution_count": 150,
     "metadata": {},
     "output_type": "execute_result"
    }
   ],
   "source": [
    "df_positive_reviews['room_reviews'].nunique"
   ]
  },
  {
   "cell_type": "code",
   "execution_count": null,
   "metadata": {},
   "outputs": [
    {
     "data": {
      "text/plain": [
       "Accomodation    1272\n",
       "Concierge        535\n",
       "Other            246\n",
       "Dining_Food       38\n",
       "Name: category, dtype: int64"
      ]
     },
     "execution_count": 144,
     "metadata": {},
     "output_type": "execute_result"
    }
   ],
   "source": [
    "df_positive_reviews['category'].value_counts()"
   ]
  },
  {
   "cell_type": "code",
   "execution_count": null,
   "metadata": {},
   "outputs": [
    {
     "name": "stderr",
     "output_type": "stream",
     "text": [
      "/var/folders/fj/hxf26m1d519gzxl6zq1hqgmm0000gn/T/ipykernel_4433/2284648164.py:2: MatplotlibDeprecationWarning: The seaborn styles shipped by Matplotlib are deprecated since 3.6, as they no longer correspond to the styles shipped by seaborn. However, they will remain available as 'seaborn-v0_8-<style>'. Alternatively, directly use the seaborn API instead.\n",
      "  plt.style.use('seaborn-deep')\n"
     ]
    },
    {
     "data": {
      "image/png": "[encoded data removed]",
      "text/plain": [
       "<Figure size 600x1200 with 1 Axes>"
      ]
     },
     "metadata": {},
     "output_type": "display_data"
    }
   ],
   "source": [
    "# Use predefined style\n",
    "plt.style.use('seaborn-deep') \n",
    "\n",
    "# Set figure size\n",
    "plt.figure(figsize=(6, 12))\n",
    "\n",
    "# Create pie-chart which shows percentage of observations in each service  category\n",
    "# 1. Define x-value - we want to get the count of rows for each value in the column using .value_counts()\n",
    "x = df_positive_reviews['category'].value_counts(sort=False)\n",
    "# 2. Define labels\n",
    "mylabels = ['Accomodation', 'Concierge', 'Dining_Food', 'Other']\n",
    "# 3. Plot pie chart for variable x, percentage values should be displayed in certain distance \n",
    "# between center of pie slice and start of the text as well as in certain fontsize.\n",
    "plt.pie(x, autopct='%1.1f%%', pctdistance=0.5, textprops={'fontsize': 12})\n",
    "\n",
    "# Set title\n",
    "plt.title(\"Positive Reviews\", fontsize = 15)\n",
    "\n",
    "# Create legend\n",
    "plt.legend(mylabels, title='Categories', loc = 'upper left')\n",
    "\n",
    "# Show graphicx =df_positive_reviews['category'].value_counts()\n",
    "plt.show()"
   ]
  },
  {
   "cell_type": "code",
   "execution_count": null,
   "metadata": {},
   "outputs": [],
   "source": [
    "import sqlalchemy\n",
    "from sql_functions import get_dataframe"
   ]
  },
  {
   "cell_type": "code",
   "execution_count": 1,
   "metadata": {},
   "outputs": [
    {
     "ename": "NameError",
     "evalue": "name 'get_dataframe' is not defined",
     "output_type": "error",
     "traceback": [
      "\u001b[0;31m---------------------------------------------------------------------------\u001b[0m",
      "\u001b[0;31mNameError\u001b[0m                                 Traceback (most recent call last)",
      "Cell \u001b[0;32mIn[1], line 2\u001b[0m\n\u001b[1;32m      1\u001b[0m schema \u001b[39m=\u001b[39m \u001b[39m'\u001b[39m\u001b[39mcgn_analytics_23_3\u001b[39m\u001b[39m'\u001b[39m\n\u001b[0;32m----> 2\u001b[0m get_dataframe(\u001b[39mf\u001b[39m\u001b[39m'\u001b[39m\u001b[39mSELECT count(*) FROM \u001b[39m\u001b[39m{\u001b[39;00mschema\u001b[39m}\u001b[39;00m\u001b[39m.booking_hotel_gp4\u001b[39m\u001b[39m'\u001b[39m)\n",
      "\u001b[0;31mNameError\u001b[0m: name 'get_dataframe' is not defined"
     ]
    }
   ],
   "source": [
    "schema = 'cgn_analytics_23_3'\n",
    "get_dataframe(f'SELECT count(*) FROM {schema}.booking_hotel_gp4')"
   ]
  },
  {
   "cell_type": "code",
   "execution_count": null,
   "metadata": {},
   "outputs": [],
   "source": [
    "df = pd.read_sql_query (sql=f'SELECT * FROM {schema}.booking_hotel_gp4'  ,con = engine)"
   ]
  },
  {
   "cell_type": "code",
   "execution_count": null,
   "metadata": {},
   "outputs": [
    {
     "data": {
      "text/html": [
       "<div>\n",
       "<style scoped>\n",
       "    .dataframe tbody tr th:only-of-type {\n",
       "        vertical-align: middle;\n",
       "    }\n",
       "\n",
       "    .dataframe tbody tr th {\n",
       "        vertical-align: top;\n",
       "    }\n",
       "\n",
       "    .dataframe thead th {\n",
       "        text-align: right;\n",
       "    }\n",
       "</style>\n",
       "<table border=\"1\" class=\"dataframe\">\n",
       "  <thead>\n",
       "    <tr style=\"text-align: right;\">\n",
       "      <th></th>\n",
       "      <th>hotel_name</th>\n",
       "      <th>location</th>\n",
       "      <th>hotel_rating</th>\n",
       "      <th>no_of_reviews</th>\n",
       "      <th>room_score</th>\n",
       "      <th>room_type</th>\n",
       "      <th>bed_type</th>\n",
       "      <th>room_price(USD)</th>\n",
       "      <th>final_review_score</th>\n",
       "      <th>country</th>\n",
       "    </tr>\n",
       "  </thead>\n",
       "  <tbody>\n",
       "    <tr>\n",
       "      <th>0</th>\n",
       "      <td>Krabi La Playa Resort - Sha Plus              ...</td>\n",
       "      <td>Ao Nang Beach                                 ...</td>\n",
       "      <td>8.2</td>\n",
       "      <td>141.0</td>\n",
       "      <td>8.6</td>\n",
       "      <td>Deluxe Double or Twin Room                    ...</td>\n",
       "      <td>1 double or 2 twins                        ...</td>\n",
       "      <td>44.29</td>\n",
       "      <td>Very good</td>\n",
       "      <td>{\"Ao Nang Beach                               ...</td>\n",
       "    </tr>\n",
       "    <tr>\n",
       "      <th>1</th>\n",
       "      <td>Kc Beach Club &amp; Pool Villas                   ...</td>\n",
       "      <td>Chaweng City Center , Chaweng                 ...</td>\n",
       "      <td>7.1</td>\n",
       "      <td>193.0</td>\n",
       "      <td>8.8</td>\n",
       "      <td>Double Room with Balcony and Sea View         ...</td>\n",
       "      <td>1 queen bed                                   ...</td>\n",
       "      <td>65.31</td>\n",
       "      <td>Good</td>\n",
       "      <td>{\"Chaweng City Center \",\" Chaweng             ...</td>\n",
       "    </tr>\n",
       "    <tr>\n",
       "      <th>2</th>\n",
       "      <td>Rawai Vip Villas &amp; Kids Park                  ...</td>\n",
       "      <td>Rawai Beach                                   ...</td>\n",
       "      <td>8.3</td>\n",
       "      <td>63.0</td>\n",
       "      <td>8.9</td>\n",
       "      <td>2 Bedroom Pool Villa                          ...</td>\n",
       "      <td>2 queen beds                                  ...</td>\n",
       "      <td>132.07</td>\n",
       "      <td>Very good</td>\n",
       "      <td>{\"Rawai Beach                                 ...</td>\n",
       "    </tr>\n",
       "    <tr>\n",
       "      <th>3</th>\n",
       "      <td>Furamaxclusive Sathorn, Bangkok               ...</td>\n",
       "      <td>Bang Rak, Bangkok                             ...</td>\n",
       "      <td>7.7</td>\n",
       "      <td>317.5</td>\n",
       "      <td>8.1</td>\n",
       "      <td>Executive Double Room                         ...</td>\n",
       "      <td>1 full bed                                    ...</td>\n",
       "      <td>44.36</td>\n",
       "      <td>Good</td>\n",
       "      <td>{\"Bang Rak\",\" Bangkok                         ...</td>\n",
       "    </tr>\n",
       "    <tr>\n",
       "      <th>4</th>\n",
       "      <td>Bo Phut Resort And Spa - Sha Plus             ...</td>\n",
       "      <td>Bophut                                        ...</td>\n",
       "      <td>9.3</td>\n",
       "      <td>294.0</td>\n",
       "      <td>9.6</td>\n",
       "      <td>Villa with Garden View                        ...</td>\n",
       "      <td>1 double or 2 twins                        ...</td>\n",
       "      <td>188.39</td>\n",
       "      <td>Wonderful</td>\n",
       "      <td>{\"Bophut                                      ...</td>\n",
       "    </tr>\n",
       "  </tbody>\n",
       "</table>\n",
       "</div>"
      ],
      "text/plain": [
       "                                          hotel_name  \\\n",
       "0  Krabi La Playa Resort - Sha Plus              ...   \n",
       "1  Kc Beach Club & Pool Villas                   ...   \n",
       "2  Rawai Vip Villas & Kids Park                  ...   \n",
       "3  Furamaxclusive Sathorn, Bangkok               ...   \n",
       "4  Bo Phut Resort And Spa - Sha Plus             ...   \n",
       "\n",
       "                                            location  hotel_rating  \\\n",
       "0  Ao Nang Beach                                 ...           8.2   \n",
       "1  Chaweng City Center , Chaweng                 ...           7.1   \n",
       "2  Rawai Beach                                   ...           8.3   \n",
       "3  Bang Rak, Bangkok                             ...           7.7   \n",
       "4  Bophut                                        ...           9.3   \n",
       "\n",
       "   no_of_reviews  room_score  \\\n",
       "0          141.0         8.6   \n",
       "1          193.0         8.8   \n",
       "2           63.0         8.9   \n",
       "3          317.5         8.1   \n",
       "4          294.0         9.6   \n",
       "\n",
       "                                           room_type  \\\n",
       "0  Deluxe Double or Twin Room                    ...   \n",
       "1  Double Room with Balcony and Sea View         ...   \n",
       "2  2 Bedroom Pool Villa                          ...   \n",
       "3  Executive Double Room                         ...   \n",
       "4  Villa with Garden View                        ...   \n",
       "\n",
       "                                            bed_type  room_price(USD)  \\\n",
       "0     1 double or 2 twins                        ...            44.29   \n",
       "1  1 queen bed                                   ...            65.31   \n",
       "2  2 queen beds                                  ...           132.07   \n",
       "3  1 full bed                                    ...            44.36   \n",
       "4     1 double or 2 twins                        ...           188.39   \n",
       "\n",
       "  final_review_score                                            country  \n",
       "0          Very good  {\"Ao Nang Beach                               ...  \n",
       "1               Good  {\"Chaweng City Center \",\" Chaweng             ...  \n",
       "2          Very good  {\"Rawai Beach                                 ...  \n",
       "3               Good  {\"Bang Rak\",\" Bangkok                         ...  \n",
       "4          Wonderful  {\"Bophut                                      ...  "
      ]
     },
     "execution_count": 217,
     "metadata": {},
     "output_type": "execute_result"
    }
   ],
   "source": [
    "df.head()"
   ]
  },
  {
   "cell_type": "code",
   "execution_count": null,
   "metadata": {},
   "outputs": [],
   "source": [
    "#scatter plot"
   ]
  },
  {
   "cell_type": "code",
   "execution_count": null,
   "metadata": {},
   "outputs": [
    {
     "data": {
      "image/png": "[encoded data removed]",
      "text/plain": [
       "<Figure size 1000x600 with 1 Axes>"
      ]
     },
     "metadata": {},
     "output_type": "display_data"
    }
   ],
   "source": [
    "plt.figure(figsize=(10, 6))\n",
    "sns.scatterplot(x='room_score', y='room_price(USD)', hue='hotel_rating', data=df, palette='viridis', s=100)\n",
    "plt.xlabel('Room Scores')\n",
    "plt.ylabel('Prices')\n",
    "plt.title('Scatter Plot of Room Scores vs. Prices (Color-coded by Hotel Ratings)')\n",
    "plt.legend(title='Hotel Ratings')\n",
    "plt.show()"
   ]
  },
  {
   "cell_type": "code",
   "execution_count": 137,
   "metadata": {},
   "outputs": [
    {
     "ename": "NameError",
     "evalue": "name 'df_positive_reviews' is not defined",
     "output_type": "error",
     "traceback": [
      "\u001b[0;31m---------------------------------------------------------------------------\u001b[0m",
      "\u001b[0;31mNameError\u001b[0m                                 Traceback (most recent call last)",
      "Cell \u001b[0;32mIn[137], line 1\u001b[0m\n\u001b[0;32m----> 1\u001b[0m df_positive_reviews\n",
      "\u001b[0;31mNameError\u001b[0m: name 'df_positive_reviews' is not defined"
     ]
    }
   ],
   "source": [
    "df_positive_reviews"
   ]
  },
  {
   "cell_type": "code",
   "execution_count": 138,
   "metadata": {},
   "outputs": [
    {
     "ename": "NameError",
     "evalue": "name 'df_new_dataset' is not defined",
     "output_type": "error",
     "traceback": [
      "\u001b[0;31m---------------------------------------------------------------------------\u001b[0m",
      "\u001b[0;31mNameError\u001b[0m                                 Traceback (most recent call last)",
      "Cell \u001b[0;32mIn[138], line 1\u001b[0m\n\u001b[0;32m----> 1\u001b[0m df_new_dataset\n",
      "\u001b[0;31mNameError\u001b[0m: name 'df_new_dataset' is not defined"
     ]
    }
   ],
   "source": [
    "df_new_dataset"
   ]
  },
  {
   "cell_type": "code",
   "execution_count": null,
   "metadata": {},
   "outputs": [],
   "source": []
  }
 ],
 "metadata": {
  "kernelspec": {
   "display_name": "nf_base",
   "language": "python",
   "name": "python3"
  },
  "language_info": {
   "codemirror_mode": {
    "name": "ipython",
    "version": 3
   },
   "file_extension": ".py",
   "mimetype": "text/x-python",
   "name": "python",
   "nbconvert_exporter": "python",
   "pygments_lexer": "ipython3",
   "version": "3.9.17"
  },
  "orig_nbformat": 4
 },
 "nbformat": 4,
 "nbformat_minor": 2
}
