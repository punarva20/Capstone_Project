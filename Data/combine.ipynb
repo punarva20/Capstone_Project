{
 "cells": [
  {
   "cell_type": "markdown",
   "metadata": {},
   "source": [
    "### Booking_hotel Data"
   ]
  },
  {
   "cell_type": "code",
   "execution_count": 1,
   "metadata": {},
   "outputs": [],
   "source": [
    "# importing pandas, numpy, matplotlib and seaborn libraries in python\n",
    "import pandas as pd\n",
    "import numpy as np\n",
    "import matplotlib.pyplot as plt\n",
    "import seaborn as sns\n"
   ]
  },
  {
   "cell_type": "code",
   "execution_count": 2,
   "metadata": {},
   "outputs": [],
   "source": [
    "# load data set of booking_hotel in pandas data frame\n",
    "# Encoding error: UnicodeDecodeError: 'utf-8' codec can't decode byte 0xa0 in position \n",
    "# 251: invalid start byte, changed encoding to 'ISO-8859-1'\n",
    "df_booking_hotel = pd.read_csv('data/booking_hotel.csv', encoding='ISO-8859-1')"
   ]
  },
  {
   "cell_type": "markdown",
   "metadata": {},
   "source": [
    "### Data Cleaning"
   ]
  },
  {
   "cell_type": "code",
   "execution_count": 3,
   "metadata": {},
   "outputs": [],
   "source": [
    "# changing columns into lower case and replacing seperator comma(,) with underscore (_)\n",
    "df_booking_hotel.columns = df_booking_hotel.columns.str.lower().str.replace(' ','_')"
   ]
  },
  {
   "cell_type": "code",
   "execution_count": 4,
   "metadata": {},
   "outputs": [],
   "source": [
    "# Renaming columns\n",
    "df_booking_hotel.rename(columns={'rating' : 'hotel_rating','number_of___': 'no_of_reviews', 'room____score': 'room_score'}, inplace=True)"
   ]
  },
  {
   "cell_type": "code",
   "execution_count": 5,
   "metadata": {},
   "outputs": [],
   "source": [
    "# Remove wide spaces in the front or back\n",
    "df_booking_hotel[\"hotel_name\"] = df_booking_hotel[\"hotel_name\"].str.strip()"
   ]
  },
  {
   "cell_type": "code",
   "execution_count": 6,
   "metadata": {},
   "outputs": [],
   "source": [
    "# Removing '?' from the hotel_name column\n",
    "df_booking_hotel['hotel_name'] = df_booking_hotel['hotel_name'].str.replace('?','', regex= True)"
   ]
  },
  {
   "cell_type": "code",
   "execution_count": 7,
   "metadata": {},
   "outputs": [],
   "source": [
    "df_booking_hotel['room_price_(in_bdt_or_any_other_currency)'] = df_booking_hotel['room_price_(in_bdt_or_any_other_currency)'].str.replace('?','', regex= True)"
   ]
  },
  {
   "cell_type": "code",
   "execution_count": 8,
   "metadata": {},
   "outputs": [],
   "source": [
    "# Starting all rows of hotel_name column from the same position\n",
    "df_booking_hotel['hotel_name'] = df_booking_hotel['hotel_name'].str.ljust(100)\n",
    "df_booking_hotel['location'] = df_booking_hotel['location'].str.ljust(100)\n",
    "df_booking_hotel['review_score'] = df_booking_hotel['review_score'].str.ljust(100)\n",
    "df_booking_hotel['room_type'] = df_booking_hotel['room_type'].str.ljust(100)\n",
    "df_booking_hotel['bed_type'] = df_booking_hotel['bed_type'].str.ljust(100)"
   ]
  },
  {
   "cell_type": "code",
   "execution_count": 9,
   "metadata": {},
   "outputs": [
    {
     "data": {
      "text/plain": [
       "array(['8.2', '7.1', '8.3', '7.7', '9.3', '8.1', '7.6', '9.4', '9.1',\n",
       "       '8.5', '8.6', '8', '8.7', '7.9', '7.3', '7.2', '7.4', '8.4', '6.3',\n",
       "       '9', '8.9', nan, '8.8', '6.9', '6.5', '6.1', '6.8', '6.7', '7.8',\n",
       "       '6.6', '7', '5.2', '7.5', '5.8', '9.6', '9.7', '9.2', '9.5', '9.9',\n",
       "       '5.6', '6.4', '6', '10', '5', '9.8', '1', '5.5', '3', '6.2', '5.9',\n",
       "       '5.7', '4.6', '4.4', 'Exceptional 10', '3.4', '5.4', '3.2', '4.5',\n",
       "       '5.3', '2.5', '3.5', 'Wonderful 9.0', '4.3', '3.7', '5.1', '4.8',\n",
       "       '4.9'], dtype=object)"
      ]
     },
     "execution_count": 9,
     "metadata": {},
     "output_type": "execute_result"
    }
   ],
   "source": [
    "# Checking for unique values in hotel_rating column\n",
    "df_booking_hotel['hotel_rating'].unique()"
   ]
  },
  {
   "cell_type": "code",
   "execution_count": 10,
   "metadata": {},
   "outputs": [],
   "source": [
    "# Removing the word Exceptional and Wonderful from the columns.\n",
    "df_booking_hotel['hotel_rating'] = df_booking_hotel['hotel_rating'].str.replace('Exceptional', '', regex=True)\n",
    "df_booking_hotel['hotel_rating'] = df_booking_hotel['hotel_rating'].str.replace('Wonderful', '', regex=True)\n"
   ]
  },
  {
   "cell_type": "code",
   "execution_count": 11,
   "metadata": {},
   "outputs": [],
   "source": [
    "df_booking_hotel['no_of_reviews'] = df_booking_hotel['no_of_reviews'].str.replace('1 review', '1', regex=True)"
   ]
  },
  {
   "cell_type": "code",
   "execution_count": 12,
   "metadata": {},
   "outputs": [],
   "source": [
    "# convert title case of hotel_name\n",
    "df_booking_hotel['hotel_name'] = df_booking_hotel['hotel_name'].str.title()"
   ]
  },
  {
   "cell_type": "code",
   "execution_count": 13,
   "metadata": {},
   "outputs": [
    {
     "data": {
      "text/plain": [
       "hotel_name                                     0\n",
       "location                                       0\n",
       "hotel_rating                                 100\n",
       "review_score                                 106\n",
       "no_of_reviews                                106\n",
       "room_score                                   756\n",
       "room_type                                      0\n",
       "bed_type                                      16\n",
       "room_price_(in_bdt_or_any_other_currency)      0\n",
       "dtype: int64"
      ]
     },
     "execution_count": 13,
     "metadata": {},
     "output_type": "execute_result"
    }
   ],
   "source": [
    "# finding nan values in our data set\n",
    "df_booking_hotel.isnull().sum()"
   ]
  },
  {
   "cell_type": "code",
   "execution_count": 14,
   "metadata": {},
   "outputs": [
    {
     "data": {
      "text/plain": [
       "0       False\n",
       "1       False\n",
       "2       False\n",
       "3       False\n",
       "4       False\n",
       "        ...  \n",
       "3460    False\n",
       "3461    False\n",
       "3462    False\n",
       "3463    False\n",
       "3464    False\n",
       "Length: 3465, dtype: bool"
      ]
     },
     "execution_count": 14,
     "metadata": {},
     "output_type": "execute_result"
    }
   ],
   "source": [
    "df_booking_hotel.duplicated(keep='first')"
   ]
  },
  {
   "cell_type": "code",
   "execution_count": 15,
   "metadata": {},
   "outputs": [
    {
     "name": "stderr",
     "output_type": "stream",
     "text": [
      "/var/folders/5_/yzn14qsd6_1cqt71zmjgqfsh0000gn/T/ipykernel_78202/3928043215.py:1: FutureWarning: The default value of regex will change from True to False in a future version. In addition, single character regular expressions will *not* be treated as literal strings when regex=True.\n",
      "  df_booking_hotel['room_price_(in_bdt_or_any_other_currency)'] = df_booking_hotel['room_price_(in_bdt_or_any_other_currency)'].str.replace('?', '').str.replace(',', '').astype(float)\n"
     ]
    }
   ],
   "source": [
    "df_booking_hotel['room_price_(in_bdt_or_any_other_currency)'] = df_booking_hotel['room_price_(in_bdt_or_any_other_currency)'].str.replace('?', '').str.replace(',', '').astype(float)\n"
   ]
  },
  {
   "cell_type": "code",
   "execution_count": 16,
   "metadata": {},
   "outputs": [],
   "source": [
    "df_booking_hotel['room_price_(in_bdt_or_any_other_currency)'] = df_booking_hotel['room_price_(in_bdt_or_any_other_currency)'].replace('', np.nan).astype(float)\n"
   ]
  },
  {
   "cell_type": "code",
   "execution_count": 17,
   "metadata": {},
   "outputs": [
    {
     "data": {
      "text/plain": [
       "0        146026.0\n",
       "1        215304.0\n",
       "2        435384.0\n",
       "3        146240.0\n",
       "4        621072.0\n",
       "          ...    \n",
       "3460     209678.0\n",
       "3461     118712.0\n",
       "3462    1177140.0\n",
       "3463     227402.0\n",
       "3464     648803.0\n",
       "Name: room_price_(in_bdt_or_any_other_currency), Length: 3465, dtype: float64"
      ]
     },
     "execution_count": 17,
     "metadata": {},
     "output_type": "execute_result"
    }
   ],
   "source": [
    "df_booking_hotel['room_price_(in_bdt_or_any_other_currency)']"
   ]
  },
  {
   "cell_type": "code",
   "execution_count": 18,
   "metadata": {},
   "outputs": [],
   "source": [
    "# Converting currency from Bangladeshi Rupee in to US dollars and multiplying by 30 to get data for each night\n",
    "df_booking_hotel['room_price_(in_bdt_or_any_other_currency)'] = (df_booking_hotel['room_price_(in_bdt_or_any_other_currency)'] * 0.0091) / 30"
   ]
  },
  {
   "cell_type": "code",
   "execution_count": 19,
   "metadata": {},
   "outputs": [],
   "source": [
    "# Change name of room price column \n",
    "df_booking_hotel.rename(columns={'room_price_(in_bdt_or_any_other_currency)': 'room_price(USD)'},inplace=True)"
   ]
  },
  {
   "cell_type": "code",
   "execution_count": 20,
   "metadata": {},
   "outputs": [],
   "source": [
    "# changing hotel rating data type from object into float \n",
    "df_booking_hotel['hotel_rating'] = pd.to_numeric(df_booking_hotel['hotel_rating'], errors='coerce')"
   ]
  },
  {
   "cell_type": "code",
   "execution_count": 21,
   "metadata": {},
   "outputs": [],
   "source": [
    "# Changing data type from object to float\n",
    "df_booking_hotel['no_of_reviews']= pd.to_numeric(df_booking_hotel['no_of_reviews'], errors='coerce')"
   ]
  },
  {
   "cell_type": "code",
   "execution_count": 22,
   "metadata": {},
   "outputs": [],
   "source": [
    "# Changing data type from object to float\n",
    "df_booking_hotel['room_score']= pd.to_numeric(df_booking_hotel['room_score'], errors='coerce')"
   ]
  },
  {
   "cell_type": "code",
   "execution_count": 23,
   "metadata": {},
   "outputs": [
    {
     "data": {
      "text/plain": [
       "False    2419\n",
       "True     1046\n",
       "dtype: int64"
      ]
     },
     "execution_count": 23,
     "metadata": {},
     "output_type": "execute_result"
    }
   ],
   "source": [
    "df_booking_hotel.duplicated().value_counts()"
   ]
  },
  {
   "cell_type": "code",
   "execution_count": 24,
   "metadata": {},
   "outputs": [],
   "source": [
    "df_booking_hotel.drop_duplicates(inplace=True)"
   ]
  },
  {
   "cell_type": "code",
   "execution_count": 25,
   "metadata": {},
   "outputs": [],
   "source": [
    "# Round the decimal to 2 points in the room_price column\n",
    "df_booking_hotel['room_price(USD)'] = df_booking_hotel['room_price(USD)'].round(2)\n"
   ]
  },
  {
   "cell_type": "code",
   "execution_count": 26,
   "metadata": {},
   "outputs": [
    {
     "data": {
      "text/plain": [
       "8.2"
      ]
     },
     "execution_count": 26,
     "metadata": {},
     "output_type": "execute_result"
    }
   ],
   "source": [
    "# calculate average of hotel_rating column\n",
    "df_booking_hotel['hotel_rating'].mean().round(1)"
   ]
  },
  {
   "cell_type": "code",
   "execution_count": 27,
   "metadata": {},
   "outputs": [
    {
     "data": {
      "text/plain": [
       "2419"
      ]
     },
     "execution_count": 27,
     "metadata": {},
     "output_type": "execute_result"
    }
   ],
   "source": [
    "df_booking_hotel['hotel_rating'].isna().count()"
   ]
  },
  {
   "cell_type": "code",
   "execution_count": 28,
   "metadata": {},
   "outputs": [],
   "source": [
    "# Replacing the NaN values with average value 8.2\n",
    "df_booking_hotel['hotel_rating'].fillna('8.2', inplace=True)"
   ]
  },
  {
   "cell_type": "code",
   "execution_count": 29,
   "metadata": {},
   "outputs": [
    {
     "data": {
      "text/plain": [
       "317.5"
      ]
     },
     "execution_count": 29,
     "metadata": {},
     "output_type": "execute_result"
    }
   ],
   "source": [
    "# calculate average of hotel_rating column\n",
    "df_booking_hotel['no_of_reviews'].mean().round(1)"
   ]
  },
  {
   "cell_type": "code",
   "execution_count": 30,
   "metadata": {},
   "outputs": [],
   "source": [
    "# Replacing the NaN values with average value 317.5\n",
    "df_booking_hotel['no_of_reviews'].fillna('317.5', inplace=True)"
   ]
  },
  {
   "cell_type": "code",
   "execution_count": 31,
   "metadata": {},
   "outputs": [
    {
     "data": {
      "text/plain": [
       "8.8"
      ]
     },
     "execution_count": 31,
     "metadata": {},
     "output_type": "execute_result"
    }
   ],
   "source": [
    "# calculate average of room_score column\n",
    "df_booking_hotel['room_score'].mean().round(1)"
   ]
  },
  {
   "cell_type": "code",
   "execution_count": 32,
   "metadata": {},
   "outputs": [],
   "source": [
    "# Replacing the NaN values with average value 8.8\n",
    "df_booking_hotel['room_score'].fillna('8.8', inplace=True)"
   ]
  },
  {
   "cell_type": "code",
   "execution_count": 33,
   "metadata": {},
   "outputs": [
    {
     "data": {
      "text/plain": [
       "hotel_name          object\n",
       "location            object\n",
       "hotel_rating        object\n",
       "review_score        object\n",
       "no_of_reviews       object\n",
       "room_score          object\n",
       "room_type           object\n",
       "bed_type            object\n",
       "room_price(USD)    float64\n",
       "dtype: object"
      ]
     },
     "execution_count": 33,
     "metadata": {},
     "output_type": "execute_result"
    }
   ],
   "source": [
    "df_booking_hotel.dtypes"
   ]
  },
  {
   "cell_type": "code",
   "execution_count": 34,
   "metadata": {},
   "outputs": [],
   "source": [
    "# changing hotel rating data type from object into float \n",
    "df_booking_hotel['hotel_rating'] = pd.to_numeric(df_booking_hotel['hotel_rating'], errors='coerce')"
   ]
  },
  {
   "cell_type": "code",
   "execution_count": 35,
   "metadata": {},
   "outputs": [],
   "source": [
    "# Create a new column of final_review_score from the corresponding values in the hotel_rating column and giving it values ranging form exceptional to fair\n",
    "\n",
    "df_booking_hotel['final_review_score'] = df_booking_hotel['hotel_rating'].apply(lambda x: 'Exceptional' if x >= 10 else ('Wonderful' if x >= 9 else ('Very good' if x >= 8 else ('Good' if x >= 7 else ('Pleasant' if x >= 6 else 'Fair')))))"
   ]
  },
  {
   "cell_type": "code",
   "execution_count": 36,
   "metadata": {},
   "outputs": [],
   "source": [
    "#Dropping the review_score column from my data frame becasue it has a lot of null values along with int and text in the same column\n",
    "\n",
    "df_booking_hotel = df_booking_hotel.drop('review_score', axis=1)"
   ]
  },
  {
   "cell_type": "code",
   "execution_count": 37,
   "metadata": {},
   "outputs": [],
   "source": [
    "# Data type automatically changed from float to object, changing data type again\n",
    "# Changing data type from object to float\n",
    "df_booking_hotel['no_of_reviews']= pd.to_numeric(df_booking_hotel['no_of_reviews'], errors='coerce')"
   ]
  },
  {
   "cell_type": "code",
   "execution_count": 38,
   "metadata": {},
   "outputs": [],
   "source": [
    "df_booking_hotel['room_score']= pd.to_numeric(df_booking_hotel['room_score'], errors='coerce')"
   ]
  },
  {
   "cell_type": "code",
   "execution_count": 39,
   "metadata": {},
   "outputs": [
    {
     "data": {
      "text/html": [
       "<div>\n",
       "<style scoped>\n",
       "    .dataframe tbody tr th:only-of-type {\n",
       "        vertical-align: middle;\n",
       "    }\n",
       "\n",
       "    .dataframe tbody tr th {\n",
       "        vertical-align: top;\n",
       "    }\n",
       "\n",
       "    .dataframe thead th {\n",
       "        text-align: right;\n",
       "    }\n",
       "</style>\n",
       "<table border=\"1\" class=\"dataframe\">\n",
       "  <thead>\n",
       "    <tr style=\"text-align: right;\">\n",
       "      <th></th>\n",
       "      <th>hotel_name</th>\n",
       "      <th>location</th>\n",
       "      <th>hotel_rating</th>\n",
       "      <th>no_of_reviews</th>\n",
       "      <th>room_score</th>\n",
       "      <th>room_type</th>\n",
       "      <th>bed_type</th>\n",
       "      <th>room_price(USD)</th>\n",
       "      <th>final_review_score</th>\n",
       "    </tr>\n",
       "  </thead>\n",
       "  <tbody>\n",
       "    <tr>\n",
       "      <th>0</th>\n",
       "      <td>Krabi La Playa Resort - Sha Plus              ...</td>\n",
       "      <td>Ao Nang Beach                                 ...</td>\n",
       "      <td>8.2</td>\n",
       "      <td>141.0</td>\n",
       "      <td>8.6</td>\n",
       "      <td>Deluxe Double or Twin Room                    ...</td>\n",
       "      <td>1 double or 2 twins                        ...</td>\n",
       "      <td>44.29</td>\n",
       "      <td>Very good</td>\n",
       "    </tr>\n",
       "    <tr>\n",
       "      <th>1</th>\n",
       "      <td>Kc Beach Club &amp; Pool Villas                   ...</td>\n",
       "      <td>Chaweng City Center , Chaweng                 ...</td>\n",
       "      <td>7.1</td>\n",
       "      <td>193.0</td>\n",
       "      <td>8.8</td>\n",
       "      <td>Double Room with Balcony and Sea View         ...</td>\n",
       "      <td>1 queen bed                                   ...</td>\n",
       "      <td>65.31</td>\n",
       "      <td>Good</td>\n",
       "    </tr>\n",
       "    <tr>\n",
       "      <th>2</th>\n",
       "      <td>Rawai Vip Villas &amp; Kids Park                  ...</td>\n",
       "      <td>Rawai Beach                                   ...</td>\n",
       "      <td>8.3</td>\n",
       "      <td>63.0</td>\n",
       "      <td>8.9</td>\n",
       "      <td>2 Bedroom Pool Villa                          ...</td>\n",
       "      <td>2 queen beds                                  ...</td>\n",
       "      <td>132.07</td>\n",
       "      <td>Very good</td>\n",
       "    </tr>\n",
       "    <tr>\n",
       "      <th>3</th>\n",
       "      <td>Furamaxclusive Sathorn, Bangkok               ...</td>\n",
       "      <td>Bang Rak, Bangkok                             ...</td>\n",
       "      <td>7.7</td>\n",
       "      <td>317.5</td>\n",
       "      <td>8.1</td>\n",
       "      <td>Executive Double Room                         ...</td>\n",
       "      <td>1 full bed                                    ...</td>\n",
       "      <td>44.36</td>\n",
       "      <td>Good</td>\n",
       "    </tr>\n",
       "    <tr>\n",
       "      <th>4</th>\n",
       "      <td>Bo Phut Resort And Spa - Sha Plus             ...</td>\n",
       "      <td>Bophut                                        ...</td>\n",
       "      <td>9.3</td>\n",
       "      <td>294.0</td>\n",
       "      <td>9.6</td>\n",
       "      <td>Villa with Garden View                        ...</td>\n",
       "      <td>1 double or 2 twins                        ...</td>\n",
       "      <td>188.39</td>\n",
       "      <td>Wonderful</td>\n",
       "    </tr>\n",
       "  </tbody>\n",
       "</table>\n",
       "</div>"
      ],
      "text/plain": [
       "                                          hotel_name  \\\n",
       "0  Krabi La Playa Resort - Sha Plus              ...   \n",
       "1  Kc Beach Club & Pool Villas                   ...   \n",
       "2  Rawai Vip Villas & Kids Park                  ...   \n",
       "3  Furamaxclusive Sathorn, Bangkok               ...   \n",
       "4  Bo Phut Resort And Spa - Sha Plus             ...   \n",
       "\n",
       "                                            location  hotel_rating  \\\n",
       "0  Ao Nang Beach                                 ...           8.2   \n",
       "1  Chaweng City Center , Chaweng                 ...           7.1   \n",
       "2  Rawai Beach                                   ...           8.3   \n",
       "3  Bang Rak, Bangkok                             ...           7.7   \n",
       "4  Bophut                                        ...           9.3   \n",
       "\n",
       "   no_of_reviews  room_score  \\\n",
       "0          141.0         8.6   \n",
       "1          193.0         8.8   \n",
       "2           63.0         8.9   \n",
       "3          317.5         8.1   \n",
       "4          294.0         9.6   \n",
       "\n",
       "                                           room_type  \\\n",
       "0  Deluxe Double or Twin Room                    ...   \n",
       "1  Double Room with Balcony and Sea View         ...   \n",
       "2  2 Bedroom Pool Villa                          ...   \n",
       "3  Executive Double Room                         ...   \n",
       "4  Villa with Garden View                        ...   \n",
       "\n",
       "                                            bed_type  room_price(USD)  \\\n",
       "0     1 double or 2 twins                        ...            44.29   \n",
       "1  1 queen bed                                   ...            65.31   \n",
       "2  2 queen beds                                  ...           132.07   \n",
       "3  1 full bed                                    ...            44.36   \n",
       "4     1 double or 2 twins                        ...           188.39   \n",
       "\n",
       "  final_review_score  \n",
       "0          Very good  \n",
       "1               Good  \n",
       "2          Very good  \n",
       "3               Good  \n",
       "4          Wonderful  "
      ]
     },
     "execution_count": 39,
     "metadata": {},
     "output_type": "execute_result"
    }
   ],
   "source": [
    "df_booking_hotel.head()"
   ]
  },
  {
   "cell_type": "markdown",
   "metadata": {},
   "source": [
    "## Tripadvisor Data"
   ]
  },
  {
   "cell_type": "code",
   "execution_count": 40,
   "metadata": {},
   "outputs": [],
   "source": [
    "#import\n",
    "import pandas as pd\n",
    "import numpy as np\n",
    "import matplotlib as pyplot\n",
    "import seaborn as sns"
   ]
  },
  {
   "cell_type": "code",
   "execution_count": 41,
   "metadata": {},
   "outputs": [],
   "source": [
    "\n",
    "df_tripadvisor_room = pd.read_csv('data/tripadvisor_room.csv')"
   ]
  },
  {
   "cell_type": "code",
   "execution_count": 42,
   "metadata": {},
   "outputs": [
    {
     "data": {
      "text/plain": [
       "property name                                   0\n",
       "Room Price (in BDT or any other currency)    1346\n",
       "review_count                                    0\n",
       "Comment about room                           1004\n",
       "dtype: int64"
      ]
     },
     "execution_count": 42,
     "metadata": {},
     "output_type": "execute_result"
    }
   ],
   "source": [
    "#checking for null values in all columns\n",
    "df_tripadvisor_room.isnull().sum()"
   ]
  },
  {
   "cell_type": "markdown",
   "metadata": {},
   "source": [
    "## Data Cleaning"
   ]
  },
  {
   "cell_type": "code",
   "execution_count": 43,
   "metadata": {},
   "outputs": [],
   "source": [
    "#lowercase for column names and add '_' between each word \n",
    "df_tripadvisor_room.columns = df_tripadvisor_room.columns.str.lower().str.replace(' ', '_')"
   ]
  },
  {
   "cell_type": "code",
   "execution_count": 44,
   "metadata": {},
   "outputs": [],
   "source": [
    "# rename column names\n",
    "df_tripadvisor_room.rename(columns={'property_name_': 'property_name','comment_about_room':'room_reviews'},inplace = True)"
   ]
  },
  {
   "cell_type": "code",
   "execution_count": 45,
   "metadata": {},
   "outputs": [],
   "source": [
    "#removing numbers before property_name\n",
    "df_tripadvisor_room['property_name'] = df_tripadvisor_room['property_name'].str.lstrip('0123456789.  ')"
   ]
  },
  {
   "cell_type": "code",
   "execution_count": 46,
   "metadata": {},
   "outputs": [],
   "source": [
    "#removing special characters before and after property name\n",
    "df_tripadvisor_room['property_name'] = df_tripadvisor_room['property_name'].str.removesuffix('\"').str.removeprefix('\"').str.replace('�','')\n",
    "\n",
    "#justification of columns\n",
    "df_tripadvisor_room['property_name'] = df_tripadvisor_room['property_name'].str.ljust(50)\n",
    "\n",
    "# convert to title case\n",
    "df_tripadvisor_room['property_name'] = df_tripadvisor_room['property_name'].str.title()"
   ]
  },
  {
   "cell_type": "code",
   "execution_count": 47,
   "metadata": {},
   "outputs": [
    {
     "data": {
      "text/plain": [
       "4338"
      ]
     },
     "execution_count": 47,
     "metadata": {},
     "output_type": "execute_result"
    }
   ],
   "source": [
    "# unique hotel name\n",
    "df_tripadvisor_room['property_name'].nunique()"
   ]
  },
  {
   "cell_type": "code",
   "execution_count": 48,
   "metadata": {},
   "outputs": [],
   "source": [
    "##replace('�','')\n",
    "df_tripadvisor_room['room_price_(in_bdt_or_any_other_currency)'] = df_tripadvisor_room['room_price_(in_bdt_or_any_other_currency)'].str.replace('�','')"
   ]
  },
  {
   "cell_type": "code",
   "execution_count": 49,
   "metadata": {},
   "outputs": [],
   "source": [
    "# replace('�','\"')\n",
    "df_tripadvisor_room['room_reviews'] = df_tripadvisor_room['room_reviews'].str.replace('�','').str.replace('\"','').str.replace('.', '',regex=True)\n",
    "\n",
    "#reviews in lower case & justification\n",
    "df_tripadvisor_room['room_reviews'] = df_tripadvisor_room['room_reviews'].str.lower().str.ljust(60)"
   ]
  },
  {
   "cell_type": "markdown",
   "metadata": {},
   "source": [
    "## Change data types"
   ]
  },
  {
   "cell_type": "code",
   "execution_count": 50,
   "metadata": {},
   "outputs": [],
   "source": [
    "# convert string to numeric\n",
    "# replace ',' wth ''\n",
    "df_tripadvisor_room['review_count'] = df_tripadvisor_room['review_count'].str.replace(',', '').str.replace('1 review', '1')\n",
    "\n",
    "df_tripadvisor_room['room_price_(in_bdt_or_any_other_currency)'] = df_tripadvisor_room['room_price_(in_bdt_or_any_other_currency)'].str.replace(',', '')\n"
   ]
  },
  {
   "cell_type": "code",
   "execution_count": 51,
   "metadata": {},
   "outputs": [],
   "source": [
    "#change to int\n",
    "df_tripadvisor_room['review_count'] = pd.to_numeric (df_tripadvisor_room['review_count'])"
   ]
  },
  {
   "cell_type": "code",
   "execution_count": 52,
   "metadata": {},
   "outputs": [],
   "source": [
    "df_tripadvisor_room['room_price_(in_bdt_or_any_other_currency)']=df_tripadvisor_room['room_price_(in_bdt_or_any_other_currency)'].str.extract(r'(\\d+\\.\\d+|\\d+)')"
   ]
  },
  {
   "cell_type": "code",
   "execution_count": 53,
   "metadata": {},
   "outputs": [],
   "source": [
    "df_tripadvisor_room['room_price_(in_bdt_or_any_other_currency)'].fillna('0', inplace=True)"
   ]
  },
  {
   "cell_type": "code",
   "execution_count": 54,
   "metadata": {},
   "outputs": [],
   "source": [
    "# change to float \n",
    "df_tripadvisor_room['room_price_(in_bdt_or_any_other_currency)'] = pd.to_numeric(df_tripadvisor_room['room_price_(in_bdt_or_any_other_currency)'].astype(int))"
   ]
  },
  {
   "cell_type": "code",
   "execution_count": 55,
   "metadata": {},
   "outputs": [],
   "source": [
    "df_tripadvisor_room['room_price_(in_bdt_or_any_other_currency)'] =df_tripadvisor_room['room_price_(in_bdt_or_any_other_currency)']*0.0091"
   ]
  },
  {
   "cell_type": "code",
   "execution_count": 56,
   "metadata": {},
   "outputs": [
    {
     "data": {
      "text/plain": [
       "False    4414\n",
       "True       63\n",
       "dtype: int64"
      ]
     },
     "execution_count": 56,
     "metadata": {},
     "output_type": "execute_result"
    }
   ],
   "source": [
    "# check duplicates\n",
    "df_tripadvisor_room.duplicated(keep='first').value_counts()"
   ]
  },
  {
   "cell_type": "code",
   "execution_count": 57,
   "metadata": {},
   "outputs": [],
   "source": [
    "#drop duplicates\n",
    "df_tripadvisor_room.drop_duplicates(inplace=True)"
   ]
  },
  {
   "cell_type": "code",
   "execution_count": 58,
   "metadata": {},
   "outputs": [],
   "source": [
    "#RENAME COLUMN NAMES\n",
    "df_tripadvisor_room.rename(columns={'room_price_(in_bdt_or_any_other_currency)': 'room_price(USD)', 'property_name': 'hotel_name'},inplace = True)"
   ]
  },
  {
   "cell_type": "code",
   "execution_count": 59,
   "metadata": {},
   "outputs": [
    {
     "data": {
      "text/plain": [
       "Index(['hotel_name', 'location', 'hotel_rating', 'no_of_reviews', 'room_score',\n",
       "       'room_type', 'bed_type', 'room_price(USD)', 'final_review_score'],\n",
       "      dtype='object')"
      ]
     },
     "execution_count": 59,
     "metadata": {},
     "output_type": "execute_result"
    }
   ],
   "source": [
    "df_booking_hotel.columns"
   ]
  },
  {
   "cell_type": "code",
   "execution_count": 60,
   "metadata": {},
   "outputs": [
    {
     "data": {
      "text/plain": [
       "hotel_name             object\n",
       "location               object\n",
       "hotel_rating          float64\n",
       "no_of_reviews         float64\n",
       "room_score            float64\n",
       "room_type              object\n",
       "bed_type               object\n",
       "room_price(USD)       float64\n",
       "final_review_score     object\n",
       "dtype: object"
      ]
     },
     "execution_count": 60,
     "metadata": {},
     "output_type": "execute_result"
    }
   ],
   "source": [
    "df_booking_hotel.dtypes"
   ]
  },
  {
   "cell_type": "code",
   "execution_count": 61,
   "metadata": {},
   "outputs": [
    {
     "data": {
      "text/plain": [
       "Index(['hotel_name', 'room_price(USD)', 'review_count', 'room_reviews'], dtype='object')"
      ]
     },
     "execution_count": 61,
     "metadata": {},
     "output_type": "execute_result"
    }
   ],
   "source": [
    "df_tripadvisor_room.columns"
   ]
  },
  {
   "cell_type": "code",
   "execution_count": 62,
   "metadata": {},
   "outputs": [
    {
     "data": {
      "text/plain": [
       "hotel_name          object\n",
       "room_price(USD)    float64\n",
       "review_count         int64\n",
       "room_reviews        object\n",
       "dtype: object"
      ]
     },
     "execution_count": 62,
     "metadata": {},
     "output_type": "execute_result"
    }
   ],
   "source": [
    "df_tripadvisor_room.dtypes"
   ]
  },
  {
   "cell_type": "code",
   "execution_count": 63,
   "metadata": {},
   "outputs": [
    {
     "data": {
      "text/html": [
       "<div>\n",
       "<style scoped>\n",
       "    .dataframe tbody tr th:only-of-type {\n",
       "        vertical-align: middle;\n",
       "    }\n",
       "\n",
       "    .dataframe tbody tr th {\n",
       "        vertical-align: top;\n",
       "    }\n",
       "\n",
       "    .dataframe thead th {\n",
       "        text-align: right;\n",
       "    }\n",
       "</style>\n",
       "<table border=\"1\" class=\"dataframe\">\n",
       "  <thead>\n",
       "    <tr style=\"text-align: right;\">\n",
       "      <th></th>\n",
       "      <th>hotel_name</th>\n",
       "      <th>room_price(USD)</th>\n",
       "      <th>review_count</th>\n",
       "      <th>room_reviews</th>\n",
       "    </tr>\n",
       "  </thead>\n",
       "  <tbody>\n",
       "    <tr>\n",
       "      <th>0</th>\n",
       "      <td>Sala Samui Choengmon Beach Resort             ...</td>\n",
       "      <td>417.2714</td>\n",
       "      <td>2820</td>\n",
       "      <td>the breakfast is excellent, the pools are real...</td>\n",
       "    </tr>\n",
       "    <tr>\n",
       "      <th>1</th>\n",
       "      <td>Napasai A Belmond Hotel Koh Samui             ...</td>\n",
       "      <td>269.9606</td>\n",
       "      <td>1191</td>\n",
       "      <td>we a had perfect view at the beach,           ...</td>\n",
       "    </tr>\n",
       "    <tr>\n",
       "      <th>2</th>\n",
       "      <td>Pimalai Resort And Spa                        ...</td>\n",
       "      <td>288.1697</td>\n",
       "      <td>3287</td>\n",
       "      <td>it has everything                             ...</td>\n",
       "    </tr>\n",
       "    <tr>\n",
       "      <th>3</th>\n",
       "      <td>Avani+ Mai Khao Phuket Suites &amp; Villas        ...</td>\n",
       "      <td>217.3717</td>\n",
       "      <td>144</td>\n",
       "      <td>the villa was very                            ...</td>\n",
       "    </tr>\n",
       "    <tr>\n",
       "      <th>4</th>\n",
       "      <td>Sheraton Samui Resort                         ...</td>\n",
       "      <td>171.2256</td>\n",
       "      <td>1006</td>\n",
       "      <td>me &amp; my wife stayed there for 3 nights and we ...</td>\n",
       "    </tr>\n",
       "  </tbody>\n",
       "</table>\n",
       "</div>"
      ],
      "text/plain": [
       "                                          hotel_name  room_price(USD)  \\\n",
       "0  Sala Samui Choengmon Beach Resort             ...         417.2714   \n",
       "1  Napasai A Belmond Hotel Koh Samui             ...         269.9606   \n",
       "2  Pimalai Resort And Spa                        ...         288.1697   \n",
       "3  Avani+ Mai Khao Phuket Suites & Villas        ...         217.3717   \n",
       "4  Sheraton Samui Resort                         ...         171.2256   \n",
       "\n",
       "   review_count                                       room_reviews  \n",
       "0          2820  the breakfast is excellent, the pools are real...  \n",
       "1          1191  we a had perfect view at the beach,           ...  \n",
       "2          3287  it has everything                             ...  \n",
       "3           144  the villa was very                            ...  \n",
       "4          1006  me & my wife stayed there for 3 nights and we ...  "
      ]
     },
     "execution_count": 63,
     "metadata": {},
     "output_type": "execute_result"
    }
   ],
   "source": [
    "df_tripadvisor_room.head()"
   ]
  },
  {
   "cell_type": "code",
   "execution_count": 64,
   "metadata": {},
   "outputs": [
    {
     "name": "stdout",
     "output_type": "stream",
     "text": [
      "No matching names found.\n"
     ]
    }
   ],
   "source": [
    "import pandas as pd\n",
    "\n",
    "# Check if the data frames are not empty\n",
    "if not df_booking_hotel.empty and not df_tripadvisor_room.empty:\n",
    "    # Extract the \"hotel_name\" and \"property_name\" columns from each data frame\n",
    "    hotel_names = df_booking_hotel['hotel_name'].tolist()\n",
    "    property_names = df_tripadvisor_room['hotel_name'].tolist()\n",
    "\n",
    "    # Compare the two lists to find matching names\n",
    "    matching_names = set(hotel_names) & set(property_names)\n",
    "\n",
    "    if matching_names:\n",
    "        # Display the matching names\n",
    "        for name in matching_names:\n",
    "            print(name)\n",
    "    else:\n",
    "        print(\"No matching names found.\")\n",
    "else:\n",
    "    print(\"One or both of the data frames are empty.\")\n"
   ]
  },
  {
   "cell_type": "code",
   "execution_count": 74,
   "metadata": {},
   "outputs": [],
   "source": [
    "df_merge = df_booking_hotel.merge(df_tripadvisor_room, on='room_price(USD)', how='outer')"
   ]
  },
  {
   "cell_type": "code",
   "execution_count": 68,
   "metadata": {},
   "outputs": [
    {
     "data": {
      "text/html": [
       "<div>\n",
       "<style scoped>\n",
       "    .dataframe tbody tr th:only-of-type {\n",
       "        vertical-align: middle;\n",
       "    }\n",
       "\n",
       "    .dataframe tbody tr th {\n",
       "        vertical-align: top;\n",
       "    }\n",
       "\n",
       "    .dataframe thead th {\n",
       "        text-align: right;\n",
       "    }\n",
       "</style>\n",
       "<table border=\"1\" class=\"dataframe\">\n",
       "  <thead>\n",
       "    <tr style=\"text-align: right;\">\n",
       "      <th></th>\n",
       "      <th>hotel_name</th>\n",
       "      <th>room_price(USD)</th>\n",
       "      <th>review_count</th>\n",
       "      <th>room_reviews</th>\n",
       "    </tr>\n",
       "  </thead>\n",
       "  <tbody>\n",
       "    <tr>\n",
       "      <th>0</th>\n",
       "      <td>Sala Samui Choengmon Beach Resort             ...</td>\n",
       "      <td>417.2714</td>\n",
       "      <td>2820</td>\n",
       "      <td>the breakfast is excellent, the pools are real...</td>\n",
       "    </tr>\n",
       "    <tr>\n",
       "      <th>1</th>\n",
       "      <td>Napasai A Belmond Hotel Koh Samui             ...</td>\n",
       "      <td>269.9606</td>\n",
       "      <td>1191</td>\n",
       "      <td>we a had perfect view at the beach,           ...</td>\n",
       "    </tr>\n",
       "    <tr>\n",
       "      <th>2</th>\n",
       "      <td>Pimalai Resort And Spa                        ...</td>\n",
       "      <td>288.1697</td>\n",
       "      <td>3287</td>\n",
       "      <td>it has everything                             ...</td>\n",
       "    </tr>\n",
       "    <tr>\n",
       "      <th>3</th>\n",
       "      <td>Avani+ Mai Khao Phuket Suites &amp; Villas        ...</td>\n",
       "      <td>217.3717</td>\n",
       "      <td>144</td>\n",
       "      <td>the villa was very                            ...</td>\n",
       "    </tr>\n",
       "    <tr>\n",
       "      <th>4</th>\n",
       "      <td>Sheraton Samui Resort                         ...</td>\n",
       "      <td>171.2256</td>\n",
       "      <td>1006</td>\n",
       "      <td>me &amp; my wife stayed there for 3 nights and we ...</td>\n",
       "    </tr>\n",
       "    <tr>\n",
       "      <th>...</th>\n",
       "      <td>...</td>\n",
       "      <td>...</td>\n",
       "      <td>...</td>\n",
       "      <td>...</td>\n",
       "    </tr>\n",
       "    <tr>\n",
       "      <th>4472</th>\n",
       "      <td>Irantis Villa                                 ...</td>\n",
       "      <td>0.0000</td>\n",
       "      <td>0</td>\n",
       "      <td>NaN</td>\n",
       "    </tr>\n",
       "    <tr>\n",
       "      <th>4473</th>\n",
       "      <td>Dhh - Al Tajer                                ...</td>\n",
       "      <td>0.0000</td>\n",
       "      <td>0</td>\n",
       "      <td>NaN</td>\n",
       "    </tr>\n",
       "    <tr>\n",
       "      <th>4474</th>\n",
       "      <td>Shaibani Building                             ...</td>\n",
       "      <td>0.0000</td>\n",
       "      <td>0</td>\n",
       "      <td>NaN</td>\n",
       "    </tr>\n",
       "    <tr>\n",
       "      <th>4475</th>\n",
       "      <td>Koh - Botanica                                ...</td>\n",
       "      <td>0.0000</td>\n",
       "      <td>0</td>\n",
       "      <td>NaN</td>\n",
       "    </tr>\n",
       "    <tr>\n",
       "      <th>4476</th>\n",
       "      <td>Higuests - Park View Tower                    ...</td>\n",
       "      <td>0.0000</td>\n",
       "      <td>0</td>\n",
       "      <td>NaN</td>\n",
       "    </tr>\n",
       "  </tbody>\n",
       "</table>\n",
       "<p>4414 rows × 4 columns</p>\n",
       "</div>"
      ],
      "text/plain": [
       "                                             hotel_name  room_price(USD)  \\\n",
       "0     Sala Samui Choengmon Beach Resort             ...         417.2714   \n",
       "1     Napasai A Belmond Hotel Koh Samui             ...         269.9606   \n",
       "2     Pimalai Resort And Spa                        ...         288.1697   \n",
       "3     Avani+ Mai Khao Phuket Suites & Villas        ...         217.3717   \n",
       "4     Sheraton Samui Resort                         ...         171.2256   \n",
       "...                                                 ...              ...   \n",
       "4472  Irantis Villa                                 ...           0.0000   \n",
       "4473  Dhh - Al Tajer                                ...           0.0000   \n",
       "4474  Shaibani Building                             ...           0.0000   \n",
       "4475  Koh - Botanica                                ...           0.0000   \n",
       "4476  Higuests - Park View Tower                    ...           0.0000   \n",
       "\n",
       "      review_count                                       room_reviews  \n",
       "0             2820  the breakfast is excellent, the pools are real...  \n",
       "1             1191  we a had perfect view at the beach,           ...  \n",
       "2             3287  it has everything                             ...  \n",
       "3              144  the villa was very                            ...  \n",
       "4             1006  me & my wife stayed there for 3 nights and we ...  \n",
       "...            ...                                                ...  \n",
       "4472             0                                                NaN  \n",
       "4473             0                                                NaN  \n",
       "4474             0                                                NaN  \n",
       "4475             0                                                NaN  \n",
       "4476             0                                                NaN  \n",
       "\n",
       "[4414 rows x 4 columns]"
      ]
     },
     "execution_count": 68,
     "metadata": {},
     "output_type": "execute_result"
    }
   ],
   "source": [
    "df_tripadvisor_room"
   ]
  },
  {
   "cell_type": "code",
   "execution_count": 77,
   "metadata": {},
   "outputs": [
    {
     "data": {
      "text/html": [
       "<div>\n",
       "<style scoped>\n",
       "    .dataframe tbody tr th:only-of-type {\n",
       "        vertical-align: middle;\n",
       "    }\n",
       "\n",
       "    .dataframe tbody tr th {\n",
       "        vertical-align: top;\n",
       "    }\n",
       "\n",
       "    .dataframe thead th {\n",
       "        text-align: right;\n",
       "    }\n",
       "</style>\n",
       "<table border=\"1\" class=\"dataframe\">\n",
       "  <thead>\n",
       "    <tr style=\"text-align: right;\">\n",
       "      <th></th>\n",
       "      <th>hotel_name</th>\n",
       "      <th>location</th>\n",
       "      <th>hotel_rating</th>\n",
       "      <th>no_of_reviews</th>\n",
       "      <th>room_score</th>\n",
       "      <th>room_type</th>\n",
       "      <th>bed_type</th>\n",
       "      <th>room_price(USD)</th>\n",
       "      <th>final_review_score</th>\n",
       "    </tr>\n",
       "  </thead>\n",
       "  <tbody>\n",
       "    <tr>\n",
       "      <th>0</th>\n",
       "      <td>Krabi La Playa Resort - Sha Plus              ...</td>\n",
       "      <td>Ao Nang Beach                                 ...</td>\n",
       "      <td>8.2</td>\n",
       "      <td>141.0</td>\n",
       "      <td>8.6</td>\n",
       "      <td>Deluxe Double or Twin Room                    ...</td>\n",
       "      <td>1 double or 2 twins                        ...</td>\n",
       "      <td>44.29</td>\n",
       "      <td>Very good</td>\n",
       "    </tr>\n",
       "    <tr>\n",
       "      <th>1</th>\n",
       "      <td>Kc Beach Club &amp; Pool Villas                   ...</td>\n",
       "      <td>Chaweng City Center , Chaweng                 ...</td>\n",
       "      <td>7.1</td>\n",
       "      <td>193.0</td>\n",
       "      <td>8.8</td>\n",
       "      <td>Double Room with Balcony and Sea View         ...</td>\n",
       "      <td>1 queen bed                                   ...</td>\n",
       "      <td>65.31</td>\n",
       "      <td>Good</td>\n",
       "    </tr>\n",
       "    <tr>\n",
       "      <th>2</th>\n",
       "      <td>Rawai Vip Villas &amp; Kids Park                  ...</td>\n",
       "      <td>Rawai Beach                                   ...</td>\n",
       "      <td>8.3</td>\n",
       "      <td>63.0</td>\n",
       "      <td>8.9</td>\n",
       "      <td>2 Bedroom Pool Villa                          ...</td>\n",
       "      <td>2 queen beds                                  ...</td>\n",
       "      <td>132.07</td>\n",
       "      <td>Very good</td>\n",
       "    </tr>\n",
       "    <tr>\n",
       "      <th>3</th>\n",
       "      <td>Furamaxclusive Sathorn, Bangkok               ...</td>\n",
       "      <td>Bang Rak, Bangkok                             ...</td>\n",
       "      <td>7.7</td>\n",
       "      <td>317.5</td>\n",
       "      <td>8.1</td>\n",
       "      <td>Executive Double Room                         ...</td>\n",
       "      <td>1 full bed                                    ...</td>\n",
       "      <td>44.36</td>\n",
       "      <td>Good</td>\n",
       "    </tr>\n",
       "    <tr>\n",
       "      <th>4</th>\n",
       "      <td>Bo Phut Resort And Spa - Sha Plus             ...</td>\n",
       "      <td>Bophut                                        ...</td>\n",
       "      <td>9.3</td>\n",
       "      <td>294.0</td>\n",
       "      <td>9.6</td>\n",
       "      <td>Villa with Garden View                        ...</td>\n",
       "      <td>1 double or 2 twins                        ...</td>\n",
       "      <td>188.39</td>\n",
       "      <td>Wonderful</td>\n",
       "    </tr>\n",
       "    <tr>\n",
       "      <th>...</th>\n",
       "      <td>...</td>\n",
       "      <td>...</td>\n",
       "      <td>...</td>\n",
       "      <td>...</td>\n",
       "      <td>...</td>\n",
       "      <td>...</td>\n",
       "      <td>...</td>\n",
       "      <td>...</td>\n",
       "      <td>...</td>\n",
       "    </tr>\n",
       "    <tr>\n",
       "      <th>3460</th>\n",
       "      <td>Circular House                                ...</td>\n",
       "      <td>Boat Quay, Singapore                          ...</td>\n",
       "      <td>6.5</td>\n",
       "      <td>317.5</td>\n",
       "      <td>8.8</td>\n",
       "      <td>Superior Single Bed in Mixed Dorm             ...</td>\n",
       "      <td>2 twin beds                                   ...</td>\n",
       "      <td>63.60</td>\n",
       "      <td>Pleasant</td>\n",
       "    </tr>\n",
       "    <tr>\n",
       "      <th>3461</th>\n",
       "      <td>Beary Best! Kampong Glam                      ...</td>\n",
       "      <td>Kampong Glam, Singapore                       ...</td>\n",
       "      <td>6.4</td>\n",
       "      <td>362.0</td>\n",
       "      <td>8.8</td>\n",
       "      <td>Lower Single Capsule - Mixed - Shared Bathroom...</td>\n",
       "      <td>2 twin beds                                   ...</td>\n",
       "      <td>36.01</td>\n",
       "      <td>Pleasant</td>\n",
       "    </tr>\n",
       "    <tr>\n",
       "      <th>3462</th>\n",
       "      <td>Ambassador Transit Hotel - Terminal 2         ...</td>\n",
       "      <td>Changi, Singapore                             ...</td>\n",
       "      <td>8.1</td>\n",
       "      <td>26.0</td>\n",
       "      <td>8.9</td>\n",
       "      <td>Single Room with Shared Bathroom (12 Hours Usa...</td>\n",
       "      <td>2 twin beds                                   ...</td>\n",
       "      <td>357.07</td>\n",
       "      <td>Very good</td>\n",
       "    </tr>\n",
       "    <tr>\n",
       "      <th>3463</th>\n",
       "      <td>K2 Guesthouse Central                         ...</td>\n",
       "      <td>Jalan Besar, Singapore                        ...</td>\n",
       "      <td>6.6</td>\n",
       "      <td>114.0</td>\n",
       "      <td>8.8</td>\n",
       "      <td>Single Bed in Dormitory Room                  ...</td>\n",
       "      <td>2 twin beds                                   ...</td>\n",
       "      <td>68.98</td>\n",
       "      <td>Pleasant</td>\n",
       "    </tr>\n",
       "    <tr>\n",
       "      <th>3464</th>\n",
       "      <td>Heritage Collection On Boat Quay - Quayside Wi...</td>\n",
       "      <td>Boat Quay, Singapore                          ...</td>\n",
       "      <td>8.6</td>\n",
       "      <td>410.0</td>\n",
       "      <td>9.0</td>\n",
       "      <td>Loft (No Windows)                             ...</td>\n",
       "      <td>2 full beds                                   ...</td>\n",
       "      <td>196.80</td>\n",
       "      <td>Very good</td>\n",
       "    </tr>\n",
       "  </tbody>\n",
       "</table>\n",
       "<p>2419 rows × 9 columns</p>\n",
       "</div>"
      ],
      "text/plain": [
       "                                             hotel_name  \\\n",
       "0     Krabi La Playa Resort - Sha Plus              ...   \n",
       "1     Kc Beach Club & Pool Villas                   ...   \n",
       "2     Rawai Vip Villas & Kids Park                  ...   \n",
       "3     Furamaxclusive Sathorn, Bangkok               ...   \n",
       "4     Bo Phut Resort And Spa - Sha Plus             ...   \n",
       "...                                                 ...   \n",
       "3460  Circular House                                ...   \n",
       "3461  Beary Best! Kampong Glam                      ...   \n",
       "3462  Ambassador Transit Hotel - Terminal 2         ...   \n",
       "3463  K2 Guesthouse Central                         ...   \n",
       "3464  Heritage Collection On Boat Quay - Quayside Wi...   \n",
       "\n",
       "                                               location  hotel_rating  \\\n",
       "0     Ao Nang Beach                                 ...           8.2   \n",
       "1     Chaweng City Center , Chaweng                 ...           7.1   \n",
       "2     Rawai Beach                                   ...           8.3   \n",
       "3     Bang Rak, Bangkok                             ...           7.7   \n",
       "4     Bophut                                        ...           9.3   \n",
       "...                                                 ...           ...   \n",
       "3460  Boat Quay, Singapore                          ...           6.5   \n",
       "3461  Kampong Glam, Singapore                       ...           6.4   \n",
       "3462  Changi, Singapore                             ...           8.1   \n",
       "3463  Jalan Besar, Singapore                        ...           6.6   \n",
       "3464  Boat Quay, Singapore                          ...           8.6   \n",
       "\n",
       "      no_of_reviews  room_score  \\\n",
       "0             141.0         8.6   \n",
       "1             193.0         8.8   \n",
       "2              63.0         8.9   \n",
       "3             317.5         8.1   \n",
       "4             294.0         9.6   \n",
       "...             ...         ...   \n",
       "3460          317.5         8.8   \n",
       "3461          362.0         8.8   \n",
       "3462           26.0         8.9   \n",
       "3463          114.0         8.8   \n",
       "3464          410.0         9.0   \n",
       "\n",
       "                                              room_type  \\\n",
       "0     Deluxe Double or Twin Room                    ...   \n",
       "1     Double Room with Balcony and Sea View         ...   \n",
       "2     2 Bedroom Pool Villa                          ...   \n",
       "3     Executive Double Room                         ...   \n",
       "4     Villa with Garden View                        ...   \n",
       "...                                                 ...   \n",
       "3460  Superior Single Bed in Mixed Dorm             ...   \n",
       "3461  Lower Single Capsule - Mixed - Shared Bathroom...   \n",
       "3462  Single Room with Shared Bathroom (12 Hours Usa...   \n",
       "3463  Single Bed in Dormitory Room                  ...   \n",
       "3464  Loft (No Windows)                             ...   \n",
       "\n",
       "                                               bed_type  room_price(USD)  \\\n",
       "0        1 double or 2 twins                        ...            44.29   \n",
       "1     1 queen bed                                   ...            65.31   \n",
       "2     2 queen beds                                  ...           132.07   \n",
       "3     1 full bed                                    ...            44.36   \n",
       "4        1 double or 2 twins                        ...           188.39   \n",
       "...                                                 ...              ...   \n",
       "3460  2 twin beds                                   ...            63.60   \n",
       "3461  2 twin beds                                   ...            36.01   \n",
       "3462  2 twin beds                                   ...           357.07   \n",
       "3463  2 twin beds                                   ...            68.98   \n",
       "3464  2 full beds                                   ...           196.80   \n",
       "\n",
       "     final_review_score  \n",
       "0             Very good  \n",
       "1                  Good  \n",
       "2             Very good  \n",
       "3                  Good  \n",
       "4             Wonderful  \n",
       "...                 ...  \n",
       "3460           Pleasant  \n",
       "3461           Pleasant  \n",
       "3462          Very good  \n",
       "3463           Pleasant  \n",
       "3464          Very good  \n",
       "\n",
       "[2419 rows x 9 columns]"
      ]
     },
     "execution_count": 77,
     "metadata": {},
     "output_type": "execute_result"
    }
   ],
   "source": [
    "df_booking_hotel"
   ]
  },
  {
   "cell_type": "code",
   "execution_count": 76,
   "metadata": {},
   "outputs": [
    {
     "data": {
      "text/html": [
       "<div>\n",
       "<style scoped>\n",
       "    .dataframe tbody tr th:only-of-type {\n",
       "        vertical-align: middle;\n",
       "    }\n",
       "\n",
       "    .dataframe tbody tr th {\n",
       "        vertical-align: top;\n",
       "    }\n",
       "\n",
       "    .dataframe thead th {\n",
       "        text-align: right;\n",
       "    }\n",
       "</style>\n",
       "<table border=\"1\" class=\"dataframe\">\n",
       "  <thead>\n",
       "    <tr style=\"text-align: right;\">\n",
       "      <th></th>\n",
       "      <th>hotel_name_x</th>\n",
       "      <th>location</th>\n",
       "      <th>hotel_rating</th>\n",
       "      <th>no_of_reviews</th>\n",
       "      <th>room_score</th>\n",
       "      <th>room_type</th>\n",
       "      <th>bed_type</th>\n",
       "      <th>room_price(USD)</th>\n",
       "      <th>final_review_score</th>\n",
       "      <th>hotel_name_y</th>\n",
       "      <th>review_count</th>\n",
       "      <th>room_reviews</th>\n",
       "    </tr>\n",
       "  </thead>\n",
       "  <tbody>\n",
       "    <tr>\n",
       "      <th>0</th>\n",
       "      <td>Krabi La Playa Resort - Sha Plus              ...</td>\n",
       "      <td>Ao Nang Beach                                 ...</td>\n",
       "      <td>8.2</td>\n",
       "      <td>141.0</td>\n",
       "      <td>8.6</td>\n",
       "      <td>Deluxe Double or Twin Room                    ...</td>\n",
       "      <td>1 double or 2 twins                        ...</td>\n",
       "      <td>44.2900</td>\n",
       "      <td>Very good</td>\n",
       "      <td>NaN</td>\n",
       "      <td>NaN</td>\n",
       "      <td>NaN</td>\n",
       "    </tr>\n",
       "    <tr>\n",
       "      <th>1</th>\n",
       "      <td>Kc Beach Club &amp; Pool Villas                   ...</td>\n",
       "      <td>Chaweng City Center , Chaweng                 ...</td>\n",
       "      <td>7.1</td>\n",
       "      <td>193.0</td>\n",
       "      <td>8.8</td>\n",
       "      <td>Double Room with Balcony and Sea View         ...</td>\n",
       "      <td>1 queen bed                                   ...</td>\n",
       "      <td>65.3100</td>\n",
       "      <td>Good</td>\n",
       "      <td>NaN</td>\n",
       "      <td>NaN</td>\n",
       "      <td>NaN</td>\n",
       "    </tr>\n",
       "    <tr>\n",
       "      <th>2</th>\n",
       "      <td>Rawai Vip Villas &amp; Kids Park                  ...</td>\n",
       "      <td>Rawai Beach                                   ...</td>\n",
       "      <td>8.3</td>\n",
       "      <td>63.0</td>\n",
       "      <td>8.9</td>\n",
       "      <td>2 Bedroom Pool Villa                          ...</td>\n",
       "      <td>2 queen beds                                  ...</td>\n",
       "      <td>132.0700</td>\n",
       "      <td>Very good</td>\n",
       "      <td>NaN</td>\n",
       "      <td>NaN</td>\n",
       "      <td>NaN</td>\n",
       "    </tr>\n",
       "    <tr>\n",
       "      <th>3</th>\n",
       "      <td>Furamaxclusive Sathorn, Bangkok               ...</td>\n",
       "      <td>Bang Rak, Bangkok                             ...</td>\n",
       "      <td>7.7</td>\n",
       "      <td>317.5</td>\n",
       "      <td>8.1</td>\n",
       "      <td>Executive Double Room                         ...</td>\n",
       "      <td>1 full bed                                    ...</td>\n",
       "      <td>44.3600</td>\n",
       "      <td>Good</td>\n",
       "      <td>NaN</td>\n",
       "      <td>NaN</td>\n",
       "      <td>NaN</td>\n",
       "    </tr>\n",
       "    <tr>\n",
       "      <th>4</th>\n",
       "      <td>Bo Phut Resort And Spa - Sha Plus             ...</td>\n",
       "      <td>Bophut                                        ...</td>\n",
       "      <td>9.3</td>\n",
       "      <td>294.0</td>\n",
       "      <td>9.6</td>\n",
       "      <td>Villa with Garden View                        ...</td>\n",
       "      <td>1 double or 2 twins                        ...</td>\n",
       "      <td>188.3900</td>\n",
       "      <td>Wonderful</td>\n",
       "      <td>NaN</td>\n",
       "      <td>NaN</td>\n",
       "      <td>NaN</td>\n",
       "    </tr>\n",
       "    <tr>\n",
       "      <th>...</th>\n",
       "      <td>...</td>\n",
       "      <td>...</td>\n",
       "      <td>...</td>\n",
       "      <td>...</td>\n",
       "      <td>...</td>\n",
       "      <td>...</td>\n",
       "      <td>...</td>\n",
       "      <td>...</td>\n",
       "      <td>...</td>\n",
       "      <td>...</td>\n",
       "      <td>...</td>\n",
       "      <td>...</td>\n",
       "    </tr>\n",
       "    <tr>\n",
       "      <th>6828</th>\n",
       "      <td>NaN</td>\n",
       "      <td>NaN</td>\n",
       "      <td>NaN</td>\n",
       "      <td>NaN</td>\n",
       "      <td>NaN</td>\n",
       "      <td>NaN</td>\n",
       "      <td>NaN</td>\n",
       "      <td>31.6589</td>\n",
       "      <td>NaN</td>\n",
       "      <td>Oyo 329 Down Town Hotel                       ...</td>\n",
       "      <td>0.0</td>\n",
       "      <td>NaN</td>\n",
       "    </tr>\n",
       "    <tr>\n",
       "      <th>6829</th>\n",
       "      <td>NaN</td>\n",
       "      <td>NaN</td>\n",
       "      <td>NaN</td>\n",
       "      <td>NaN</td>\n",
       "      <td>NaN</td>\n",
       "      <td>NaN</td>\n",
       "      <td>NaN</td>\n",
       "      <td>30.0027</td>\n",
       "      <td>NaN</td>\n",
       "      <td>Boonmax Hotel                                 ...</td>\n",
       "      <td>0.0</td>\n",
       "      <td>NaN</td>\n",
       "    </tr>\n",
       "    <tr>\n",
       "      <th>6830</th>\n",
       "      <td>NaN</td>\n",
       "      <td>NaN</td>\n",
       "      <td>NaN</td>\n",
       "      <td>NaN</td>\n",
       "      <td>NaN</td>\n",
       "      <td>NaN</td>\n",
       "      <td>NaN</td>\n",
       "      <td>171.3712</td>\n",
       "      <td>NaN</td>\n",
       "      <td>Nasma Luxury Stays                            ...</td>\n",
       "      <td>0.0</td>\n",
       "      <td>NaN</td>\n",
       "    </tr>\n",
       "    <tr>\n",
       "      <th>6831</th>\n",
       "      <td>NaN</td>\n",
       "      <td>NaN</td>\n",
       "      <td>NaN</td>\n",
       "      <td>NaN</td>\n",
       "      <td>NaN</td>\n",
       "      <td>NaN</td>\n",
       "      <td>NaN</td>\n",
       "      <td>51.3513</td>\n",
       "      <td>NaN</td>\n",
       "      <td>K11 Chinese Business Hotel                    ...</td>\n",
       "      <td>0.0</td>\n",
       "      <td>NaN</td>\n",
       "    </tr>\n",
       "    <tr>\n",
       "      <th>6832</th>\n",
       "      <td>NaN</td>\n",
       "      <td>NaN</td>\n",
       "      <td>NaN</td>\n",
       "      <td>NaN</td>\n",
       "      <td>NaN</td>\n",
       "      <td>NaN</td>\n",
       "      <td>NaN</td>\n",
       "      <td>46.9924</td>\n",
       "      <td>NaN</td>\n",
       "      <td>Grand Square Stay Hotel Apartments            ...</td>\n",
       "      <td>2.0</td>\n",
       "      <td>verry good we are enjoy too muchhouse keeping ...</td>\n",
       "    </tr>\n",
       "  </tbody>\n",
       "</table>\n",
       "<p>6833 rows × 12 columns</p>\n",
       "</div>"
      ],
      "text/plain": [
       "                                           hotel_name_x  \\\n",
       "0     Krabi La Playa Resort - Sha Plus              ...   \n",
       "1     Kc Beach Club & Pool Villas                   ...   \n",
       "2     Rawai Vip Villas & Kids Park                  ...   \n",
       "3     Furamaxclusive Sathorn, Bangkok               ...   \n",
       "4     Bo Phut Resort And Spa - Sha Plus             ...   \n",
       "...                                                 ...   \n",
       "6828                                                NaN   \n",
       "6829                                                NaN   \n",
       "6830                                                NaN   \n",
       "6831                                                NaN   \n",
       "6832                                                NaN   \n",
       "\n",
       "                                               location  hotel_rating  \\\n",
       "0     Ao Nang Beach                                 ...           8.2   \n",
       "1     Chaweng City Center , Chaweng                 ...           7.1   \n",
       "2     Rawai Beach                                   ...           8.3   \n",
       "3     Bang Rak, Bangkok                             ...           7.7   \n",
       "4     Bophut                                        ...           9.3   \n",
       "...                                                 ...           ...   \n",
       "6828                                                NaN           NaN   \n",
       "6829                                                NaN           NaN   \n",
       "6830                                                NaN           NaN   \n",
       "6831                                                NaN           NaN   \n",
       "6832                                                NaN           NaN   \n",
       "\n",
       "      no_of_reviews  room_score  \\\n",
       "0             141.0         8.6   \n",
       "1             193.0         8.8   \n",
       "2              63.0         8.9   \n",
       "3             317.5         8.1   \n",
       "4             294.0         9.6   \n",
       "...             ...         ...   \n",
       "6828            NaN         NaN   \n",
       "6829            NaN         NaN   \n",
       "6830            NaN         NaN   \n",
       "6831            NaN         NaN   \n",
       "6832            NaN         NaN   \n",
       "\n",
       "                                              room_type  \\\n",
       "0     Deluxe Double or Twin Room                    ...   \n",
       "1     Double Room with Balcony and Sea View         ...   \n",
       "2     2 Bedroom Pool Villa                          ...   \n",
       "3     Executive Double Room                         ...   \n",
       "4     Villa with Garden View                        ...   \n",
       "...                                                 ...   \n",
       "6828                                                NaN   \n",
       "6829                                                NaN   \n",
       "6830                                                NaN   \n",
       "6831                                                NaN   \n",
       "6832                                                NaN   \n",
       "\n",
       "                                               bed_type  room_price(USD)  \\\n",
       "0        1 double or 2 twins                        ...          44.2900   \n",
       "1     1 queen bed                                   ...          65.3100   \n",
       "2     2 queen beds                                  ...         132.0700   \n",
       "3     1 full bed                                    ...          44.3600   \n",
       "4        1 double or 2 twins                        ...         188.3900   \n",
       "...                                                 ...              ...   \n",
       "6828                                                NaN          31.6589   \n",
       "6829                                                NaN          30.0027   \n",
       "6830                                                NaN         171.3712   \n",
       "6831                                                NaN          51.3513   \n",
       "6832                                                NaN          46.9924   \n",
       "\n",
       "     final_review_score                                       hotel_name_y  \\\n",
       "0             Very good                                                NaN   \n",
       "1                  Good                                                NaN   \n",
       "2             Very good                                                NaN   \n",
       "3                  Good                                                NaN   \n",
       "4             Wonderful                                                NaN   \n",
       "...                 ...                                                ...   \n",
       "6828                NaN  Oyo 329 Down Town Hotel                       ...   \n",
       "6829                NaN  Boonmax Hotel                                 ...   \n",
       "6830                NaN  Nasma Luxury Stays                            ...   \n",
       "6831                NaN  K11 Chinese Business Hotel                    ...   \n",
       "6832                NaN  Grand Square Stay Hotel Apartments            ...   \n",
       "\n",
       "      review_count                                       room_reviews  \n",
       "0              NaN                                                NaN  \n",
       "1              NaN                                                NaN  \n",
       "2              NaN                                                NaN  \n",
       "3              NaN                                                NaN  \n",
       "4              NaN                                                NaN  \n",
       "...            ...                                                ...  \n",
       "6828           0.0                                                NaN  \n",
       "6829           0.0                                                NaN  \n",
       "6830           0.0                                                NaN  \n",
       "6831           0.0                                                NaN  \n",
       "6832           2.0  verry good we are enjoy too muchhouse keeping ...  \n",
       "\n",
       "[6833 rows x 12 columns]"
      ]
     },
     "execution_count": 76,
     "metadata": {},
     "output_type": "execute_result"
    }
   ],
   "source": [
    "df_merge\n"
   ]
  },
  {
   "cell_type": "code",
   "execution_count": null,
   "metadata": {},
   "outputs": [],
   "source": []
  },
  {
   "cell_type": "code",
   "execution_count": null,
   "metadata": {},
   "outputs": [],
   "source": []
  },
  {
   "cell_type": "code",
   "execution_count": null,
   "metadata": {},
   "outputs": [],
   "source": []
  },
  {
   "cell_type": "code",
   "execution_count": null,
   "metadata": {},
   "outputs": [],
   "source": []
  },
  {
   "cell_type": "code",
   "execution_count": null,
   "metadata": {},
   "outputs": [],
   "source": []
  }
 ],
 "metadata": {
  "kernelspec": {
   "display_name": "nf_sql",
   "language": "python",
   "name": "python3"
  },
  "language_info": {
   "codemirror_mode": {
    "name": "ipython",
    "version": 3
   },
   "file_extension": ".py",
   "mimetype": "text/x-python",
   "name": "python",
   "nbconvert_exporter": "python",
   "pygments_lexer": "ipython3",
   "version": "3.9.17"
  },
  "orig_nbformat": 4
 },
 "nbformat": 4,
 "nbformat_minor": 2
}
